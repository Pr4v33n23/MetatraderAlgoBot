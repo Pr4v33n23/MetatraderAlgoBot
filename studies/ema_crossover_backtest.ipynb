{
 "cells": [
  {
   "cell_type": "code",
   "execution_count": 1,
   "metadata": {},
   "outputs": [
    {
     "name": "stdout",
     "output_type": "stream",
     "text": [
      "Connected to Metatrader successfully.\n"
     ]
    }
   ],
   "source": [
    "from metatrader.utils.factory import MetatraderFactory\n",
    "metatrader = MetatraderFactory.get_metatrader()\n",
    "import pandas as pd\n",
    "from datetime import datetime\n",
    "import plotly.express as px\n",
    "import plotly.graph_objects as go\n",
    "\n",
    "mt5 = metatrader.connect()\n",
    "\n",
    "symbol = 'EURUSD'\n",
    "timeframe = mt5.TIMEFRAME_M5\n",
    "\n",
    "trade_volume = 100000\n",
    "commission = 0.000025\n",
    "\n"
   ]
  },
  {
   "cell_type": "code",
   "execution_count": 2,
   "metadata": {},
   "outputs": [
    {
     "data": {
      "text/html": [
       "<div>\n",
       "<style scoped>\n",
       "    .dataframe tbody tr th:only-of-type {\n",
       "        vertical-align: middle;\n",
       "    }\n",
       "\n",
       "    .dataframe tbody tr th {\n",
       "        vertical-align: top;\n",
       "    }\n",
       "\n",
       "    .dataframe thead th {\n",
       "        text-align: right;\n",
       "    }\n",
       "</style>\n",
       "<table border=\"1\" class=\"dataframe\">\n",
       "  <thead>\n",
       "    <tr style=\"text-align: right;\">\n",
       "      <th></th>\n",
       "      <th>time</th>\n",
       "      <th>open</th>\n",
       "      <th>high</th>\n",
       "      <th>low</th>\n",
       "      <th>close</th>\n",
       "      <th>tick_volume</th>\n",
       "      <th>spread</th>\n",
       "      <th>real_volume</th>\n",
       "      <th>trade_volume</th>\n",
       "    </tr>\n",
       "  </thead>\n",
       "  <tbody>\n",
       "    <tr>\n",
       "      <th>0</th>\n",
       "      <td>2023-09-29 15:40:00</td>\n",
       "      <td>1.06048</td>\n",
       "      <td>1.06101</td>\n",
       "      <td>1.06020</td>\n",
       "      <td>1.06046</td>\n",
       "      <td>719</td>\n",
       "      <td>0</td>\n",
       "      <td>0</td>\n",
       "      <td>100000</td>\n",
       "    </tr>\n",
       "    <tr>\n",
       "      <th>1</th>\n",
       "      <td>2023-09-29 15:45:00</td>\n",
       "      <td>1.06043</td>\n",
       "      <td>1.06047</td>\n",
       "      <td>1.05989</td>\n",
       "      <td>1.06003</td>\n",
       "      <td>576</td>\n",
       "      <td>0</td>\n",
       "      <td>0</td>\n",
       "      <td>100000</td>\n",
       "    </tr>\n",
       "    <tr>\n",
       "      <th>2</th>\n",
       "      <td>2023-09-29 15:50:00</td>\n",
       "      <td>1.06002</td>\n",
       "      <td>1.06041</td>\n",
       "      <td>1.05992</td>\n",
       "      <td>1.06008</td>\n",
       "      <td>561</td>\n",
       "      <td>0</td>\n",
       "      <td>0</td>\n",
       "      <td>100000</td>\n",
       "    </tr>\n",
       "    <tr>\n",
       "      <th>3</th>\n",
       "      <td>2023-09-29 15:55:00</td>\n",
       "      <td>1.06012</td>\n",
       "      <td>1.06038</td>\n",
       "      <td>1.05966</td>\n",
       "      <td>1.05998</td>\n",
       "      <td>517</td>\n",
       "      <td>0</td>\n",
       "      <td>0</td>\n",
       "      <td>100000</td>\n",
       "    </tr>\n",
       "    <tr>\n",
       "      <th>4</th>\n",
       "      <td>2023-09-29 16:00:00</td>\n",
       "      <td>1.05998</td>\n",
       "      <td>1.06002</td>\n",
       "      <td>1.05929</td>\n",
       "      <td>1.05954</td>\n",
       "      <td>599</td>\n",
       "      <td>0</td>\n",
       "      <td>0</td>\n",
       "      <td>100000</td>\n",
       "    </tr>\n",
       "    <tr>\n",
       "      <th>...</th>\n",
       "      <td>...</td>\n",
       "      <td>...</td>\n",
       "      <td>...</td>\n",
       "      <td>...</td>\n",
       "      <td>...</td>\n",
       "      <td>...</td>\n",
       "      <td>...</td>\n",
       "      <td>...</td>\n",
       "      <td>...</td>\n",
       "    </tr>\n",
       "    <tr>\n",
       "      <th>4995</th>\n",
       "      <td>2023-10-25 00:35:00</td>\n",
       "      <td>1.05920</td>\n",
       "      <td>1.05928</td>\n",
       "      <td>1.05916</td>\n",
       "      <td>1.05921</td>\n",
       "      <td>109</td>\n",
       "      <td>8</td>\n",
       "      <td>0</td>\n",
       "      <td>100000</td>\n",
       "    </tr>\n",
       "    <tr>\n",
       "      <th>4996</th>\n",
       "      <td>2023-10-25 00:40:00</td>\n",
       "      <td>1.05923</td>\n",
       "      <td>1.05929</td>\n",
       "      <td>1.05919</td>\n",
       "      <td>1.05923</td>\n",
       "      <td>96</td>\n",
       "      <td>20</td>\n",
       "      <td>0</td>\n",
       "      <td>100000</td>\n",
       "    </tr>\n",
       "    <tr>\n",
       "      <th>4997</th>\n",
       "      <td>2023-10-25 00:45:00</td>\n",
       "      <td>1.05924</td>\n",
       "      <td>1.05925</td>\n",
       "      <td>1.05909</td>\n",
       "      <td>1.05913</td>\n",
       "      <td>143</td>\n",
       "      <td>8</td>\n",
       "      <td>0</td>\n",
       "      <td>100000</td>\n",
       "    </tr>\n",
       "    <tr>\n",
       "      <th>4998</th>\n",
       "      <td>2023-10-25 00:50:00</td>\n",
       "      <td>1.05912</td>\n",
       "      <td>1.05920</td>\n",
       "      <td>1.05910</td>\n",
       "      <td>1.05917</td>\n",
       "      <td>117</td>\n",
       "      <td>12</td>\n",
       "      <td>0</td>\n",
       "      <td>100000</td>\n",
       "    </tr>\n",
       "    <tr>\n",
       "      <th>4999</th>\n",
       "      <td>2023-10-25 00:55:00</td>\n",
       "      <td>1.05919</td>\n",
       "      <td>1.05919</td>\n",
       "      <td>1.05911</td>\n",
       "      <td>1.05912</td>\n",
       "      <td>17</td>\n",
       "      <td>16</td>\n",
       "      <td>0</td>\n",
       "      <td>100000</td>\n",
       "    </tr>\n",
       "  </tbody>\n",
       "</table>\n",
       "<p>5000 rows × 9 columns</p>\n",
       "</div>"
      ],
      "text/plain": [
       "                    time     open     high      low    close  tick_volume  \\\n",
       "0    2023-09-29 15:40:00  1.06048  1.06101  1.06020  1.06046          719   \n",
       "1    2023-09-29 15:45:00  1.06043  1.06047  1.05989  1.06003          576   \n",
       "2    2023-09-29 15:50:00  1.06002  1.06041  1.05992  1.06008          561   \n",
       "3    2023-09-29 15:55:00  1.06012  1.06038  1.05966  1.05998          517   \n",
       "4    2023-09-29 16:00:00  1.05998  1.06002  1.05929  1.05954          599   \n",
       "...                  ...      ...      ...      ...      ...          ...   \n",
       "4995 2023-10-25 00:35:00  1.05920  1.05928  1.05916  1.05921          109   \n",
       "4996 2023-10-25 00:40:00  1.05923  1.05929  1.05919  1.05923           96   \n",
       "4997 2023-10-25 00:45:00  1.05924  1.05925  1.05909  1.05913          143   \n",
       "4998 2023-10-25 00:50:00  1.05912  1.05920  1.05910  1.05917          117   \n",
       "4999 2023-10-25 00:55:00  1.05919  1.05919  1.05911  1.05912           17   \n",
       "\n",
       "      spread  real_volume  trade_volume  \n",
       "0          0            0        100000  \n",
       "1          0            0        100000  \n",
       "2          0            0        100000  \n",
       "3          0            0        100000  \n",
       "4          0            0        100000  \n",
       "...      ...          ...           ...  \n",
       "4995       8            0        100000  \n",
       "4996      20            0        100000  \n",
       "4997       8            0        100000  \n",
       "4998      12            0        100000  \n",
       "4999      16            0        100000  \n",
       "\n",
       "[5000 rows x 9 columns]"
      ]
     },
     "execution_count": 2,
     "metadata": {},
     "output_type": "execute_result"
    }
   ],
   "source": [
    "bars = pd.DataFrame(mt5.copy_rates_from_pos(symbol, timeframe, 0,5000))\n",
    "bars['time'] = pd.to_datetime(bars['time'], unit='s')\n",
    "bars['trade_volume'] = trade_volume\n",
    "bars"
   ]
  },
  {
   "cell_type": "code",
   "execution_count": 3,
   "metadata": {},
   "outputs": [
    {
     "data": {
      "text/html": [
       "<div>\n",
       "<style scoped>\n",
       "    .dataframe tbody tr th:only-of-type {\n",
       "        vertical-align: middle;\n",
       "    }\n",
       "\n",
       "    .dataframe tbody tr th {\n",
       "        vertical-align: top;\n",
       "    }\n",
       "\n",
       "    .dataframe thead th {\n",
       "        text-align: right;\n",
       "    }\n",
       "</style>\n",
       "<table border=\"1\" class=\"dataframe\">\n",
       "  <thead>\n",
       "    <tr style=\"text-align: right;\">\n",
       "      <th></th>\n",
       "      <th>time</th>\n",
       "      <th>open</th>\n",
       "      <th>high</th>\n",
       "      <th>low</th>\n",
       "      <th>close</th>\n",
       "      <th>tick_volume</th>\n",
       "      <th>spread</th>\n",
       "      <th>real_volume</th>\n",
       "      <th>trade_volume</th>\n",
       "      <th>ema_20</th>\n",
       "      <th>ema_10</th>\n",
       "      <th>hour</th>\n",
       "    </tr>\n",
       "  </thead>\n",
       "  <tbody>\n",
       "    <tr>\n",
       "      <th>0</th>\n",
       "      <td>2023-09-29 15:40:00</td>\n",
       "      <td>1.06048</td>\n",
       "      <td>1.06101</td>\n",
       "      <td>1.06020</td>\n",
       "      <td>1.06046</td>\n",
       "      <td>719</td>\n",
       "      <td>0</td>\n",
       "      <td>0</td>\n",
       "      <td>100000</td>\n",
       "      <td>1.060460</td>\n",
       "      <td>1.060460</td>\n",
       "      <td>15</td>\n",
       "    </tr>\n",
       "    <tr>\n",
       "      <th>1</th>\n",
       "      <td>2023-09-29 15:45:00</td>\n",
       "      <td>1.06043</td>\n",
       "      <td>1.06047</td>\n",
       "      <td>1.05989</td>\n",
       "      <td>1.06003</td>\n",
       "      <td>576</td>\n",
       "      <td>0</td>\n",
       "      <td>0</td>\n",
       "      <td>100000</td>\n",
       "      <td>1.060234</td>\n",
       "      <td>1.060223</td>\n",
       "      <td>15</td>\n",
       "    </tr>\n",
       "    <tr>\n",
       "      <th>2</th>\n",
       "      <td>2023-09-29 15:50:00</td>\n",
       "      <td>1.06002</td>\n",
       "      <td>1.06041</td>\n",
       "      <td>1.05992</td>\n",
       "      <td>1.06008</td>\n",
       "      <td>561</td>\n",
       "      <td>0</td>\n",
       "      <td>0</td>\n",
       "      <td>100000</td>\n",
       "      <td>1.060178</td>\n",
       "      <td>1.060166</td>\n",
       "      <td>15</td>\n",
       "    </tr>\n",
       "    <tr>\n",
       "      <th>3</th>\n",
       "      <td>2023-09-29 15:55:00</td>\n",
       "      <td>1.06012</td>\n",
       "      <td>1.06038</td>\n",
       "      <td>1.05966</td>\n",
       "      <td>1.05998</td>\n",
       "      <td>517</td>\n",
       "      <td>0</td>\n",
       "      <td>0</td>\n",
       "      <td>100000</td>\n",
       "      <td>1.060121</td>\n",
       "      <td>1.060105</td>\n",
       "      <td>15</td>\n",
       "    </tr>\n",
       "    <tr>\n",
       "      <th>4</th>\n",
       "      <td>2023-09-29 16:00:00</td>\n",
       "      <td>1.05998</td>\n",
       "      <td>1.06002</td>\n",
       "      <td>1.05929</td>\n",
       "      <td>1.05954</td>\n",
       "      <td>599</td>\n",
       "      <td>0</td>\n",
       "      <td>0</td>\n",
       "      <td>100000</td>\n",
       "      <td>1.059980</td>\n",
       "      <td>1.059943</td>\n",
       "      <td>16</td>\n",
       "    </tr>\n",
       "    <tr>\n",
       "      <th>...</th>\n",
       "      <td>...</td>\n",
       "      <td>...</td>\n",
       "      <td>...</td>\n",
       "      <td>...</td>\n",
       "      <td>...</td>\n",
       "      <td>...</td>\n",
       "      <td>...</td>\n",
       "      <td>...</td>\n",
       "      <td>...</td>\n",
       "      <td>...</td>\n",
       "      <td>...</td>\n",
       "      <td>...</td>\n",
       "    </tr>\n",
       "    <tr>\n",
       "      <th>4995</th>\n",
       "      <td>2023-10-25 00:35:00</td>\n",
       "      <td>1.05920</td>\n",
       "      <td>1.05928</td>\n",
       "      <td>1.05916</td>\n",
       "      <td>1.05921</td>\n",
       "      <td>109</td>\n",
       "      <td>8</td>\n",
       "      <td>0</td>\n",
       "      <td>100000</td>\n",
       "      <td>1.059113</td>\n",
       "      <td>1.059145</td>\n",
       "      <td>0</td>\n",
       "    </tr>\n",
       "    <tr>\n",
       "      <th>4996</th>\n",
       "      <td>2023-10-25 00:40:00</td>\n",
       "      <td>1.05923</td>\n",
       "      <td>1.05929</td>\n",
       "      <td>1.05919</td>\n",
       "      <td>1.05923</td>\n",
       "      <td>96</td>\n",
       "      <td>20</td>\n",
       "      <td>0</td>\n",
       "      <td>100000</td>\n",
       "      <td>1.059124</td>\n",
       "      <td>1.059160</td>\n",
       "      <td>0</td>\n",
       "    </tr>\n",
       "    <tr>\n",
       "      <th>4997</th>\n",
       "      <td>2023-10-25 00:45:00</td>\n",
       "      <td>1.05924</td>\n",
       "      <td>1.05925</td>\n",
       "      <td>1.05909</td>\n",
       "      <td>1.05913</td>\n",
       "      <td>143</td>\n",
       "      <td>8</td>\n",
       "      <td>0</td>\n",
       "      <td>100000</td>\n",
       "      <td>1.059125</td>\n",
       "      <td>1.059155</td>\n",
       "      <td>0</td>\n",
       "    </tr>\n",
       "    <tr>\n",
       "      <th>4998</th>\n",
       "      <td>2023-10-25 00:50:00</td>\n",
       "      <td>1.05912</td>\n",
       "      <td>1.05920</td>\n",
       "      <td>1.05910</td>\n",
       "      <td>1.05917</td>\n",
       "      <td>117</td>\n",
       "      <td>12</td>\n",
       "      <td>0</td>\n",
       "      <td>100000</td>\n",
       "      <td>1.059129</td>\n",
       "      <td>1.059157</td>\n",
       "      <td>0</td>\n",
       "    </tr>\n",
       "    <tr>\n",
       "      <th>4999</th>\n",
       "      <td>2023-10-25 00:55:00</td>\n",
       "      <td>1.05919</td>\n",
       "      <td>1.05919</td>\n",
       "      <td>1.05911</td>\n",
       "      <td>1.05912</td>\n",
       "      <td>17</td>\n",
       "      <td>16</td>\n",
       "      <td>0</td>\n",
       "      <td>100000</td>\n",
       "      <td>1.059128</td>\n",
       "      <td>1.059151</td>\n",
       "      <td>0</td>\n",
       "    </tr>\n",
       "  </tbody>\n",
       "</table>\n",
       "<p>5000 rows × 12 columns</p>\n",
       "</div>"
      ],
      "text/plain": [
       "                    time     open     high      low    close  tick_volume  \\\n",
       "0    2023-09-29 15:40:00  1.06048  1.06101  1.06020  1.06046          719   \n",
       "1    2023-09-29 15:45:00  1.06043  1.06047  1.05989  1.06003          576   \n",
       "2    2023-09-29 15:50:00  1.06002  1.06041  1.05992  1.06008          561   \n",
       "3    2023-09-29 15:55:00  1.06012  1.06038  1.05966  1.05998          517   \n",
       "4    2023-09-29 16:00:00  1.05998  1.06002  1.05929  1.05954          599   \n",
       "...                  ...      ...      ...      ...      ...          ...   \n",
       "4995 2023-10-25 00:35:00  1.05920  1.05928  1.05916  1.05921          109   \n",
       "4996 2023-10-25 00:40:00  1.05923  1.05929  1.05919  1.05923           96   \n",
       "4997 2023-10-25 00:45:00  1.05924  1.05925  1.05909  1.05913          143   \n",
       "4998 2023-10-25 00:50:00  1.05912  1.05920  1.05910  1.05917          117   \n",
       "4999 2023-10-25 00:55:00  1.05919  1.05919  1.05911  1.05912           17   \n",
       "\n",
       "      spread  real_volume  trade_volume    ema_20    ema_10  hour  \n",
       "0          0            0        100000  1.060460  1.060460    15  \n",
       "1          0            0        100000  1.060234  1.060223    15  \n",
       "2          0            0        100000  1.060178  1.060166    15  \n",
       "3          0            0        100000  1.060121  1.060105    15  \n",
       "4          0            0        100000  1.059980  1.059943    16  \n",
       "...      ...          ...           ...       ...       ...   ...  \n",
       "4995       8            0        100000  1.059113  1.059145     0  \n",
       "4996      20            0        100000  1.059124  1.059160     0  \n",
       "4997       8            0        100000  1.059125  1.059155     0  \n",
       "4998      12            0        100000  1.059129  1.059157     0  \n",
       "4999      16            0        100000  1.059128  1.059151     0  \n",
       "\n",
       "[5000 rows x 12 columns]"
      ]
     },
     "execution_count": 3,
     "metadata": {},
     "output_type": "execute_result"
    }
   ],
   "source": [
    "bars['ema_20'] = bars['close'].ewm(span=20).mean()\n",
    "bars['ema_10'] = bars['close'].ewm(span=10).mean()\n",
    "bars['hour'] = bars['time'].dt.hour\n",
    "bars"
   ]
  },
  {
   "cell_type": "code",
   "execution_count": 4,
   "metadata": {},
   "outputs": [
    {
     "data": {
      "text/html": [
       "<div>\n",
       "<style scoped>\n",
       "    .dataframe tbody tr th:only-of-type {\n",
       "        vertical-align: middle;\n",
       "    }\n",
       "\n",
       "    .dataframe tbody tr th {\n",
       "        vertical-align: top;\n",
       "    }\n",
       "\n",
       "    .dataframe thead th {\n",
       "        text-align: right;\n",
       "    }\n",
       "</style>\n",
       "<table border=\"1\" class=\"dataframe\">\n",
       "  <thead>\n",
       "    <tr style=\"text-align: right;\">\n",
       "      <th></th>\n",
       "      <th>time</th>\n",
       "      <th>open</th>\n",
       "      <th>high</th>\n",
       "      <th>low</th>\n",
       "      <th>close</th>\n",
       "      <th>tick_volume</th>\n",
       "      <th>spread</th>\n",
       "      <th>real_volume</th>\n",
       "      <th>trade_volume</th>\n",
       "      <th>ema_20</th>\n",
       "      <th>ema_10</th>\n",
       "      <th>hour</th>\n",
       "      <th>signal</th>\n",
       "      <th>prev_price</th>\n",
       "      <th>price_change</th>\n",
       "      <th>signal_change</th>\n",
       "      <th>commission</th>\n",
       "    </tr>\n",
       "  </thead>\n",
       "  <tbody>\n",
       "    <tr>\n",
       "      <th>0</th>\n",
       "      <td>2023-09-29 15:40:00</td>\n",
       "      <td>1.06048</td>\n",
       "      <td>1.06101</td>\n",
       "      <td>1.06020</td>\n",
       "      <td>1.06046</td>\n",
       "      <td>719</td>\n",
       "      <td>0</td>\n",
       "      <td>0</td>\n",
       "      <td>100000</td>\n",
       "      <td>1.060460</td>\n",
       "      <td>1.060460</td>\n",
       "      <td>15</td>\n",
       "      <td>0</td>\n",
       "      <td>NaN</td>\n",
       "      <td>NaN</td>\n",
       "      <td>NaN</td>\n",
       "      <td>NaN</td>\n",
       "    </tr>\n",
       "    <tr>\n",
       "      <th>1</th>\n",
       "      <td>2023-09-29 15:45:00</td>\n",
       "      <td>1.06043</td>\n",
       "      <td>1.06047</td>\n",
       "      <td>1.05989</td>\n",
       "      <td>1.06003</td>\n",
       "      <td>576</td>\n",
       "      <td>0</td>\n",
       "      <td>0</td>\n",
       "      <td>100000</td>\n",
       "      <td>1.060234</td>\n",
       "      <td>1.060223</td>\n",
       "      <td>15</td>\n",
       "      <td>-1</td>\n",
       "      <td>1.06046</td>\n",
       "      <td>-0.00043</td>\n",
       "      <td>1.0</td>\n",
       "      <td>2.5</td>\n",
       "    </tr>\n",
       "    <tr>\n",
       "      <th>2</th>\n",
       "      <td>2023-09-29 15:50:00</td>\n",
       "      <td>1.06002</td>\n",
       "      <td>1.06041</td>\n",
       "      <td>1.05992</td>\n",
       "      <td>1.06008</td>\n",
       "      <td>561</td>\n",
       "      <td>0</td>\n",
       "      <td>0</td>\n",
       "      <td>100000</td>\n",
       "      <td>1.060178</td>\n",
       "      <td>1.060166</td>\n",
       "      <td>15</td>\n",
       "      <td>-1</td>\n",
       "      <td>1.06003</td>\n",
       "      <td>0.00005</td>\n",
       "      <td>0.0</td>\n",
       "      <td>0.0</td>\n",
       "    </tr>\n",
       "    <tr>\n",
       "      <th>3</th>\n",
       "      <td>2023-09-29 15:55:00</td>\n",
       "      <td>1.06012</td>\n",
       "      <td>1.06038</td>\n",
       "      <td>1.05966</td>\n",
       "      <td>1.05998</td>\n",
       "      <td>517</td>\n",
       "      <td>0</td>\n",
       "      <td>0</td>\n",
       "      <td>100000</td>\n",
       "      <td>1.060121</td>\n",
       "      <td>1.060105</td>\n",
       "      <td>15</td>\n",
       "      <td>-1</td>\n",
       "      <td>1.06008</td>\n",
       "      <td>-0.00010</td>\n",
       "      <td>0.0</td>\n",
       "      <td>0.0</td>\n",
       "    </tr>\n",
       "    <tr>\n",
       "      <th>4</th>\n",
       "      <td>2023-09-29 16:00:00</td>\n",
       "      <td>1.05998</td>\n",
       "      <td>1.06002</td>\n",
       "      <td>1.05929</td>\n",
       "      <td>1.05954</td>\n",
       "      <td>599</td>\n",
       "      <td>0</td>\n",
       "      <td>0</td>\n",
       "      <td>100000</td>\n",
       "      <td>1.059980</td>\n",
       "      <td>1.059943</td>\n",
       "      <td>16</td>\n",
       "      <td>-1</td>\n",
       "      <td>1.05998</td>\n",
       "      <td>-0.00044</td>\n",
       "      <td>0.0</td>\n",
       "      <td>0.0</td>\n",
       "    </tr>\n",
       "    <tr>\n",
       "      <th>...</th>\n",
       "      <td>...</td>\n",
       "      <td>...</td>\n",
       "      <td>...</td>\n",
       "      <td>...</td>\n",
       "      <td>...</td>\n",
       "      <td>...</td>\n",
       "      <td>...</td>\n",
       "      <td>...</td>\n",
       "      <td>...</td>\n",
       "      <td>...</td>\n",
       "      <td>...</td>\n",
       "      <td>...</td>\n",
       "      <td>...</td>\n",
       "      <td>...</td>\n",
       "      <td>...</td>\n",
       "      <td>...</td>\n",
       "      <td>...</td>\n",
       "    </tr>\n",
       "    <tr>\n",
       "      <th>4995</th>\n",
       "      <td>2023-10-25 00:35:00</td>\n",
       "      <td>1.05920</td>\n",
       "      <td>1.05928</td>\n",
       "      <td>1.05916</td>\n",
       "      <td>1.05921</td>\n",
       "      <td>109</td>\n",
       "      <td>8</td>\n",
       "      <td>0</td>\n",
       "      <td>100000</td>\n",
       "      <td>1.059113</td>\n",
       "      <td>1.059145</td>\n",
       "      <td>0</td>\n",
       "      <td>0</td>\n",
       "      <td>1.05921</td>\n",
       "      <td>0.00000</td>\n",
       "      <td>0.0</td>\n",
       "      <td>0.0</td>\n",
       "    </tr>\n",
       "    <tr>\n",
       "      <th>4996</th>\n",
       "      <td>2023-10-25 00:40:00</td>\n",
       "      <td>1.05923</td>\n",
       "      <td>1.05929</td>\n",
       "      <td>1.05919</td>\n",
       "      <td>1.05923</td>\n",
       "      <td>96</td>\n",
       "      <td>20</td>\n",
       "      <td>0</td>\n",
       "      <td>100000</td>\n",
       "      <td>1.059124</td>\n",
       "      <td>1.059160</td>\n",
       "      <td>0</td>\n",
       "      <td>0</td>\n",
       "      <td>1.05921</td>\n",
       "      <td>0.00002</td>\n",
       "      <td>0.0</td>\n",
       "      <td>0.0</td>\n",
       "    </tr>\n",
       "    <tr>\n",
       "      <th>4997</th>\n",
       "      <td>2023-10-25 00:45:00</td>\n",
       "      <td>1.05924</td>\n",
       "      <td>1.05925</td>\n",
       "      <td>1.05909</td>\n",
       "      <td>1.05913</td>\n",
       "      <td>143</td>\n",
       "      <td>8</td>\n",
       "      <td>0</td>\n",
       "      <td>100000</td>\n",
       "      <td>1.059125</td>\n",
       "      <td>1.059155</td>\n",
       "      <td>0</td>\n",
       "      <td>0</td>\n",
       "      <td>1.05923</td>\n",
       "      <td>-0.00010</td>\n",
       "      <td>0.0</td>\n",
       "      <td>0.0</td>\n",
       "    </tr>\n",
       "    <tr>\n",
       "      <th>4998</th>\n",
       "      <td>2023-10-25 00:50:00</td>\n",
       "      <td>1.05912</td>\n",
       "      <td>1.05920</td>\n",
       "      <td>1.05910</td>\n",
       "      <td>1.05917</td>\n",
       "      <td>117</td>\n",
       "      <td>12</td>\n",
       "      <td>0</td>\n",
       "      <td>100000</td>\n",
       "      <td>1.059129</td>\n",
       "      <td>1.059157</td>\n",
       "      <td>0</td>\n",
       "      <td>0</td>\n",
       "      <td>1.05913</td>\n",
       "      <td>0.00004</td>\n",
       "      <td>0.0</td>\n",
       "      <td>0.0</td>\n",
       "    </tr>\n",
       "    <tr>\n",
       "      <th>4999</th>\n",
       "      <td>2023-10-25 00:55:00</td>\n",
       "      <td>1.05919</td>\n",
       "      <td>1.05919</td>\n",
       "      <td>1.05911</td>\n",
       "      <td>1.05912</td>\n",
       "      <td>17</td>\n",
       "      <td>16</td>\n",
       "      <td>0</td>\n",
       "      <td>100000</td>\n",
       "      <td>1.059128</td>\n",
       "      <td>1.059151</td>\n",
       "      <td>0</td>\n",
       "      <td>0</td>\n",
       "      <td>1.05917</td>\n",
       "      <td>-0.00005</td>\n",
       "      <td>0.0</td>\n",
       "      <td>0.0</td>\n",
       "    </tr>\n",
       "  </tbody>\n",
       "</table>\n",
       "<p>5000 rows × 17 columns</p>\n",
       "</div>"
      ],
      "text/plain": [
       "                    time     open     high      low    close  tick_volume  \\\n",
       "0    2023-09-29 15:40:00  1.06048  1.06101  1.06020  1.06046          719   \n",
       "1    2023-09-29 15:45:00  1.06043  1.06047  1.05989  1.06003          576   \n",
       "2    2023-09-29 15:50:00  1.06002  1.06041  1.05992  1.06008          561   \n",
       "3    2023-09-29 15:55:00  1.06012  1.06038  1.05966  1.05998          517   \n",
       "4    2023-09-29 16:00:00  1.05998  1.06002  1.05929  1.05954          599   \n",
       "...                  ...      ...      ...      ...      ...          ...   \n",
       "4995 2023-10-25 00:35:00  1.05920  1.05928  1.05916  1.05921          109   \n",
       "4996 2023-10-25 00:40:00  1.05923  1.05929  1.05919  1.05923           96   \n",
       "4997 2023-10-25 00:45:00  1.05924  1.05925  1.05909  1.05913          143   \n",
       "4998 2023-10-25 00:50:00  1.05912  1.05920  1.05910  1.05917          117   \n",
       "4999 2023-10-25 00:55:00  1.05919  1.05919  1.05911  1.05912           17   \n",
       "\n",
       "      spread  real_volume  trade_volume    ema_20    ema_10  hour  signal  \\\n",
       "0          0            0        100000  1.060460  1.060460    15       0   \n",
       "1          0            0        100000  1.060234  1.060223    15      -1   \n",
       "2          0            0        100000  1.060178  1.060166    15      -1   \n",
       "3          0            0        100000  1.060121  1.060105    15      -1   \n",
       "4          0            0        100000  1.059980  1.059943    16      -1   \n",
       "...      ...          ...           ...       ...       ...   ...     ...   \n",
       "4995       8            0        100000  1.059113  1.059145     0       0   \n",
       "4996      20            0        100000  1.059124  1.059160     0       0   \n",
       "4997       8            0        100000  1.059125  1.059155     0       0   \n",
       "4998      12            0        100000  1.059129  1.059157     0       0   \n",
       "4999      16            0        100000  1.059128  1.059151     0       0   \n",
       "\n",
       "      prev_price  price_change  signal_change  commission  \n",
       "0            NaN           NaN            NaN         NaN  \n",
       "1        1.06046      -0.00043            1.0         2.5  \n",
       "2        1.06003       0.00005            0.0         0.0  \n",
       "3        1.06008      -0.00010            0.0         0.0  \n",
       "4        1.05998      -0.00044            0.0         0.0  \n",
       "...          ...           ...            ...         ...  \n",
       "4995     1.05921       0.00000            0.0         0.0  \n",
       "4996     1.05921       0.00002            0.0         0.0  \n",
       "4997     1.05923      -0.00010            0.0         0.0  \n",
       "4998     1.05913       0.00004            0.0         0.0  \n",
       "4999     1.05917      -0.00005            0.0         0.0  \n",
       "\n",
       "[5000 rows x 17 columns]"
      ]
     },
     "execution_count": 4,
     "metadata": {},
     "output_type": "execute_result"
    }
   ],
   "source": [
    "bars2 = bars.dropna().copy()\n",
    "\n",
    "def get_signal(x):\n",
    "\n",
    "    if 9 <= x['hour'] <= 22:\n",
    "\n",
    "        if x['ema_10'] > x['ema_20']:\n",
    "            x[\"position\"] = \"long\"\n",
    "            return 1\n",
    "        elif x['ema_10'] < x['ema_20']:\n",
    "            x[\"position\"] = \"short\"\n",
    "            return -1\n",
    "\n",
    "    return 0\n",
    "\n",
    "bars2['signal'] = bars2.apply(get_signal, axis=1)\n",
    "bars2['prev_price'] = bars2['close'].shift(1)\n",
    "bars2['price_change'] = bars2['close'] - bars2['prev_price']\n",
    "\n",
    "bars2['signal_change'] = (bars2['signal'] - bars2['signal'].shift(1)).abs()\n",
    "bars2['commission'] = bars2.apply(lambda x: commission * x['signal_change'] * x['trade_volume'], axis=1)\n",
    "bars2"
   ]
  },
  {
   "cell_type": "code",
   "execution_count": 5,
   "metadata": {},
   "outputs": [
    {
     "data": {
      "text/html": [
       "<div>\n",
       "<style scoped>\n",
       "    .dataframe tbody tr th:only-of-type {\n",
       "        vertical-align: middle;\n",
       "    }\n",
       "\n",
       "    .dataframe tbody tr th {\n",
       "        vertical-align: top;\n",
       "    }\n",
       "\n",
       "    .dataframe thead th {\n",
       "        text-align: right;\n",
       "    }\n",
       "</style>\n",
       "<table border=\"1\" class=\"dataframe\">\n",
       "  <thead>\n",
       "    <tr style=\"text-align: right;\">\n",
       "      <th></th>\n",
       "      <th>time</th>\n",
       "      <th>open</th>\n",
       "      <th>high</th>\n",
       "      <th>low</th>\n",
       "      <th>close</th>\n",
       "      <th>tick_volume</th>\n",
       "      <th>spread</th>\n",
       "      <th>real_volume</th>\n",
       "      <th>trade_volume</th>\n",
       "      <th>ema_20</th>\n",
       "      <th>ema_10</th>\n",
       "      <th>hour</th>\n",
       "      <th>signal</th>\n",
       "      <th>prev_price</th>\n",
       "      <th>price_change</th>\n",
       "      <th>signal_change</th>\n",
       "      <th>commission</th>\n",
       "      <th>profit</th>\n",
       "      <th>gross_profit</th>\n",
       "      <th>net_profit</th>\n",
       "    </tr>\n",
       "  </thead>\n",
       "  <tbody>\n",
       "    <tr>\n",
       "      <th>1</th>\n",
       "      <td>2023-09-29 15:45:00</td>\n",
       "      <td>1.06043</td>\n",
       "      <td>1.06047</td>\n",
       "      <td>1.05989</td>\n",
       "      <td>1.06003</td>\n",
       "      <td>576</td>\n",
       "      <td>0</td>\n",
       "      <td>0</td>\n",
       "      <td>100000</td>\n",
       "      <td>1.060234</td>\n",
       "      <td>1.060223</td>\n",
       "      <td>15</td>\n",
       "      <td>-1</td>\n",
       "      <td>1.06046</td>\n",
       "      <td>-0.00043</td>\n",
       "      <td>1.0</td>\n",
       "      <td>2.5</td>\n",
       "      <td>43.0</td>\n",
       "      <td>43.0</td>\n",
       "      <td>40.5</td>\n",
       "    </tr>\n",
       "    <tr>\n",
       "      <th>6</th>\n",
       "      <td>2023-09-29 16:10:00</td>\n",
       "      <td>1.05958</td>\n",
       "      <td>1.06061</td>\n",
       "      <td>1.05953</td>\n",
       "      <td>1.06061</td>\n",
       "      <td>554</td>\n",
       "      <td>0</td>\n",
       "      <td>0</td>\n",
       "      <td>100000</td>\n",
       "      <td>1.060032</td>\n",
       "      <td>1.060034</td>\n",
       "      <td>16</td>\n",
       "      <td>1</td>\n",
       "      <td>1.05959</td>\n",
       "      <td>0.00102</td>\n",
       "      <td>2.0</td>\n",
       "      <td>5.0</td>\n",
       "      <td>102.0</td>\n",
       "      <td>145.0</td>\n",
       "      <td>137.5</td>\n",
       "    </tr>\n",
       "    <tr>\n",
       "      <th>7</th>\n",
       "      <td>2023-09-29 16:15:00</td>\n",
       "      <td>1.06061</td>\n",
       "      <td>1.06072</td>\n",
       "      <td>1.05974</td>\n",
       "      <td>1.05974</td>\n",
       "      <td>399</td>\n",
       "      <td>0</td>\n",
       "      <td>0</td>\n",
       "      <td>100000</td>\n",
       "      <td>1.059982</td>\n",
       "      <td>1.059967</td>\n",
       "      <td>16</td>\n",
       "      <td>-1</td>\n",
       "      <td>1.06061</td>\n",
       "      <td>-0.00087</td>\n",
       "      <td>2.0</td>\n",
       "      <td>5.0</td>\n",
       "      <td>87.0</td>\n",
       "      <td>232.0</td>\n",
       "      <td>219.5</td>\n",
       "    </tr>\n",
       "    <tr>\n",
       "      <th>40</th>\n",
       "      <td>2023-09-29 19:00:00</td>\n",
       "      <td>1.05834</td>\n",
       "      <td>1.05851</td>\n",
       "      <td>1.05820</td>\n",
       "      <td>1.05839</td>\n",
       "      <td>242</td>\n",
       "      <td>0</td>\n",
       "      <td>0</td>\n",
       "      <td>100000</td>\n",
       "      <td>1.058108</td>\n",
       "      <td>1.058120</td>\n",
       "      <td>19</td>\n",
       "      <td>1</td>\n",
       "      <td>1.05833</td>\n",
       "      <td>0.00006</td>\n",
       "      <td>2.0</td>\n",
       "      <td>5.0</td>\n",
       "      <td>6.0</td>\n",
       "      <td>238.0</td>\n",
       "      <td>220.5</td>\n",
       "    </tr>\n",
       "    <tr>\n",
       "      <th>42</th>\n",
       "      <td>2023-09-29 19:10:00</td>\n",
       "      <td>1.05828</td>\n",
       "      <td>1.05837</td>\n",
       "      <td>1.05781</td>\n",
       "      <td>1.05781</td>\n",
       "      <td>239</td>\n",
       "      <td>0</td>\n",
       "      <td>0</td>\n",
       "      <td>100000</td>\n",
       "      <td>1.058094</td>\n",
       "      <td>1.058087</td>\n",
       "      <td>19</td>\n",
       "      <td>-1</td>\n",
       "      <td>1.05828</td>\n",
       "      <td>-0.00047</td>\n",
       "      <td>2.0</td>\n",
       "      <td>5.0</td>\n",
       "      <td>47.0</td>\n",
       "      <td>285.0</td>\n",
       "      <td>262.5</td>\n",
       "    </tr>\n",
       "    <tr>\n",
       "      <th>...</th>\n",
       "      <td>...</td>\n",
       "      <td>...</td>\n",
       "      <td>...</td>\n",
       "      <td>...</td>\n",
       "      <td>...</td>\n",
       "      <td>...</td>\n",
       "      <td>...</td>\n",
       "      <td>...</td>\n",
       "      <td>...</td>\n",
       "      <td>...</td>\n",
       "      <td>...</td>\n",
       "      <td>...</td>\n",
       "      <td>...</td>\n",
       "      <td>...</td>\n",
       "      <td>...</td>\n",
       "      <td>...</td>\n",
       "      <td>...</td>\n",
       "      <td>...</td>\n",
       "      <td>...</td>\n",
       "      <td>...</td>\n",
       "    </tr>\n",
       "    <tr>\n",
       "      <th>4826</th>\n",
       "      <td>2023-10-24 10:30:00</td>\n",
       "      <td>1.06772</td>\n",
       "      <td>1.06772</td>\n",
       "      <td>1.06601</td>\n",
       "      <td>1.06678</td>\n",
       "      <td>1131</td>\n",
       "      <td>0</td>\n",
       "      <td>0</td>\n",
       "      <td>100000</td>\n",
       "      <td>1.068185</td>\n",
       "      <td>1.068088</td>\n",
       "      <td>10</td>\n",
       "      <td>-1</td>\n",
       "      <td>1.06776</td>\n",
       "      <td>-0.00098</td>\n",
       "      <td>2.0</td>\n",
       "      <td>5.0</td>\n",
       "      <td>98.0</td>\n",
       "      <td>5034.0</td>\n",
       "      <td>4276.5</td>\n",
       "    </tr>\n",
       "    <tr>\n",
       "      <th>4878</th>\n",
       "      <td>2023-10-24 14:50:00</td>\n",
       "      <td>1.06356</td>\n",
       "      <td>1.06415</td>\n",
       "      <td>1.06356</td>\n",
       "      <td>1.06411</td>\n",
       "      <td>289</td>\n",
       "      <td>0</td>\n",
       "      <td>0</td>\n",
       "      <td>100000</td>\n",
       "      <td>1.063448</td>\n",
       "      <td>1.063473</td>\n",
       "      <td>14</td>\n",
       "      <td>1</td>\n",
       "      <td>1.06356</td>\n",
       "      <td>0.00055</td>\n",
       "      <td>2.0</td>\n",
       "      <td>5.0</td>\n",
       "      <td>55.0</td>\n",
       "      <td>5089.0</td>\n",
       "      <td>4326.5</td>\n",
       "    </tr>\n",
       "    <tr>\n",
       "      <th>4880</th>\n",
       "      <td>2023-10-24 15:00:00</td>\n",
       "      <td>1.06353</td>\n",
       "      <td>1.06365</td>\n",
       "      <td>1.06287</td>\n",
       "      <td>1.06291</td>\n",
       "      <td>490</td>\n",
       "      <td>0</td>\n",
       "      <td>0</td>\n",
       "      <td>100000</td>\n",
       "      <td>1.063404</td>\n",
       "      <td>1.063379</td>\n",
       "      <td>15</td>\n",
       "      <td>-1</td>\n",
       "      <td>1.06353</td>\n",
       "      <td>-0.00062</td>\n",
       "      <td>2.0</td>\n",
       "      <td>5.0</td>\n",
       "      <td>62.0</td>\n",
       "      <td>5151.0</td>\n",
       "      <td>4383.5</td>\n",
       "    </tr>\n",
       "    <tr>\n",
       "      <th>4972</th>\n",
       "      <td>2023-10-24 22:40:00</td>\n",
       "      <td>1.05882</td>\n",
       "      <td>1.05900</td>\n",
       "      <td>1.05880</td>\n",
       "      <td>1.05899</td>\n",
       "      <td>76</td>\n",
       "      <td>0</td>\n",
       "      <td>0</td>\n",
       "      <td>100000</td>\n",
       "      <td>1.058883</td>\n",
       "      <td>1.058888</td>\n",
       "      <td>22</td>\n",
       "      <td>1</td>\n",
       "      <td>1.05883</td>\n",
       "      <td>0.00016</td>\n",
       "      <td>2.0</td>\n",
       "      <td>5.0</td>\n",
       "      <td>16.0</td>\n",
       "      <td>5167.0</td>\n",
       "      <td>4394.5</td>\n",
       "    </tr>\n",
       "    <tr>\n",
       "      <th>4976</th>\n",
       "      <td>2023-10-24 23:00:00</td>\n",
       "      <td>1.05918</td>\n",
       "      <td>1.05938</td>\n",
       "      <td>1.05913</td>\n",
       "      <td>1.05915</td>\n",
       "      <td>202</td>\n",
       "      <td>0</td>\n",
       "      <td>0</td>\n",
       "      <td>100000</td>\n",
       "      <td>1.058981</td>\n",
       "      <td>1.059048</td>\n",
       "      <td>23</td>\n",
       "      <td>0</td>\n",
       "      <td>1.05918</td>\n",
       "      <td>-0.00003</td>\n",
       "      <td>1.0</td>\n",
       "      <td>2.5</td>\n",
       "      <td>-0.0</td>\n",
       "      <td>5167.0</td>\n",
       "      <td>4392.0</td>\n",
       "    </tr>\n",
       "  </tbody>\n",
       "</table>\n",
       "<p>173 rows × 20 columns</p>\n",
       "</div>"
      ],
      "text/plain": [
       "                    time     open     high      low    close  tick_volume  \\\n",
       "1    2023-09-29 15:45:00  1.06043  1.06047  1.05989  1.06003          576   \n",
       "6    2023-09-29 16:10:00  1.05958  1.06061  1.05953  1.06061          554   \n",
       "7    2023-09-29 16:15:00  1.06061  1.06072  1.05974  1.05974          399   \n",
       "40   2023-09-29 19:00:00  1.05834  1.05851  1.05820  1.05839          242   \n",
       "42   2023-09-29 19:10:00  1.05828  1.05837  1.05781  1.05781          239   \n",
       "...                  ...      ...      ...      ...      ...          ...   \n",
       "4826 2023-10-24 10:30:00  1.06772  1.06772  1.06601  1.06678         1131   \n",
       "4878 2023-10-24 14:50:00  1.06356  1.06415  1.06356  1.06411          289   \n",
       "4880 2023-10-24 15:00:00  1.06353  1.06365  1.06287  1.06291          490   \n",
       "4972 2023-10-24 22:40:00  1.05882  1.05900  1.05880  1.05899           76   \n",
       "4976 2023-10-24 23:00:00  1.05918  1.05938  1.05913  1.05915          202   \n",
       "\n",
       "      spread  real_volume  trade_volume    ema_20    ema_10  hour  signal  \\\n",
       "1          0            0        100000  1.060234  1.060223    15      -1   \n",
       "6          0            0        100000  1.060032  1.060034    16       1   \n",
       "7          0            0        100000  1.059982  1.059967    16      -1   \n",
       "40         0            0        100000  1.058108  1.058120    19       1   \n",
       "42         0            0        100000  1.058094  1.058087    19      -1   \n",
       "...      ...          ...           ...       ...       ...   ...     ...   \n",
       "4826       0            0        100000  1.068185  1.068088    10      -1   \n",
       "4878       0            0        100000  1.063448  1.063473    14       1   \n",
       "4880       0            0        100000  1.063404  1.063379    15      -1   \n",
       "4972       0            0        100000  1.058883  1.058888    22       1   \n",
       "4976       0            0        100000  1.058981  1.059048    23       0   \n",
       "\n",
       "      prev_price  price_change  signal_change  commission  profit  \\\n",
       "1        1.06046      -0.00043            1.0         2.5    43.0   \n",
       "6        1.05959       0.00102            2.0         5.0   102.0   \n",
       "7        1.06061      -0.00087            2.0         5.0    87.0   \n",
       "40       1.05833       0.00006            2.0         5.0     6.0   \n",
       "42       1.05828      -0.00047            2.0         5.0    47.0   \n",
       "...          ...           ...            ...         ...     ...   \n",
       "4826     1.06776      -0.00098            2.0         5.0    98.0   \n",
       "4878     1.06356       0.00055            2.0         5.0    55.0   \n",
       "4880     1.06353      -0.00062            2.0         5.0    62.0   \n",
       "4972     1.05883       0.00016            2.0         5.0    16.0   \n",
       "4976     1.05918      -0.00003            1.0         2.5    -0.0   \n",
       "\n",
       "      gross_profit  net_profit  \n",
       "1             43.0        40.5  \n",
       "6            145.0       137.5  \n",
       "7            232.0       219.5  \n",
       "40           238.0       220.5  \n",
       "42           285.0       262.5  \n",
       "...            ...         ...  \n",
       "4826        5034.0      4276.5  \n",
       "4878        5089.0      4326.5  \n",
       "4880        5151.0      4383.5  \n",
       "4972        5167.0      4394.5  \n",
       "4976        5167.0      4392.0  \n",
       "\n",
       "[173 rows x 20 columns]"
      ]
     },
     "execution_count": 5,
     "metadata": {},
     "output_type": "execute_result"
    }
   ],
   "source": [
    "bars3 = bars2.dropna().copy()\n",
    "bars3 = bars3.loc[bars3['signal_change']!=0]\n",
    "bars3['profit'] = bars3['signal'] * bars3['price_change'] * bars3['trade_volume']\n",
    "bars3['gross_profit'] = bars3['profit'].cumsum()\n",
    "bars3['net_profit'] = bars3['gross_profit'] - bars3['commission'].cumsum()\n",
    "\n",
    "\n",
    "bars3"
   ]
  },
  {
   "cell_type": "code",
   "execution_count": 6,
   "metadata": {},
   "outputs": [
    {
     "name": "stderr",
     "output_type": "stream",
     "text": [
      "c:\\Users\\praveenjaisankar\\AppData\\Local\\pypoetry\\Cache\\virtualenvs\\metatrader-Cdlomroj-py3.10\\lib\\site-packages\\_plotly_utils\\basevalidators.py:105: FutureWarning: The behavior of DatetimeProperties.to_pydatetime is deprecated, in a future version this will return a Series containing python datetime objects instead of an ndarray. To retain the old behavior, call `np.array` on the result\n",
      "  v = v.dt.to_pydatetime()\n"
     ]
    },
    {
     "data": {
      "application/vnd.plotly.v1+json": {
       "config": {
        "plotlyServerURL": "https://plot.ly"
       },
       "data": [
        {
         "hovertemplate": "variable=gross_profit<br>time=%{x}<br>value=%{y}<extra></extra>",
         "legendgroup": "gross_profit",
         "line": {
          "color": "#636efa",
          "dash": "solid"
         },
         "marker": {
          "symbol": "circle"
         },
         "mode": "lines",
         "name": "gross_profit",
         "orientation": "v",
         "showlegend": true,
         "type": "scatter",
         "x": [
          "2023-09-29T15:45:00",
          "2023-09-29T16:10:00",
          "2023-09-29T16:15:00",
          "2023-09-29T19:00:00",
          "2023-09-29T19:10:00",
          "2023-09-29T19:20:00",
          "2023-09-29T19:45:00",
          "2023-09-29T21:55:00",
          "2023-09-29T23:00:00",
          "2023-10-02T09:00:00",
          "2023-10-02T09:30:00",
          "2023-10-02T11:10:00",
          "2023-10-02T20:30:00",
          "2023-10-02T21:00:00",
          "2023-10-02T21:10:00",
          "2023-10-02T21:20:00",
          "2023-10-02T23:00:00",
          "2023-10-03T09:00:00",
          "2023-10-03T09:05:00",
          "2023-10-03T13:15:00",
          "2023-10-03T16:40:00",
          "2023-10-03T17:00:00",
          "2023-10-03T17:40:00",
          "2023-10-03T18:00:00",
          "2023-10-03T19:25:00",
          "2023-10-03T19:50:00",
          "2023-10-03T20:00:00",
          "2023-10-03T21:15:00",
          "2023-10-03T21:30:00",
          "2023-10-03T23:00:00",
          "2023-10-04T09:00:00",
          "2023-10-04T09:15:00",
          "2023-10-04T10:25:00",
          "2023-10-04T15:05:00",
          "2023-10-04T15:20:00",
          "2023-10-04T16:50:00",
          "2023-10-04T18:20:00",
          "2023-10-04T20:10:00",
          "2023-10-04T22:10:00",
          "2023-10-04T23:00:00",
          "2023-10-05T09:00:00",
          "2023-10-05T11:15:00",
          "2023-10-05T11:50:00",
          "2023-10-05T12:20:00",
          "2023-10-05T12:35:00",
          "2023-10-05T13:30:00",
          "2023-10-05T15:30:00",
          "2023-10-05T16:25:00",
          "2023-10-05T23:00:00",
          "2023-10-06T09:00:00",
          "2023-10-06T10:20:00",
          "2023-10-06T14:15:00",
          "2023-10-06T14:40:00",
          "2023-10-06T15:30:00",
          "2023-10-06T17:25:00",
          "2023-10-06T23:00:00",
          "2023-10-09T09:00:00",
          "2023-10-09T09:25:00",
          "2023-10-09T11:50:00",
          "2023-10-09T12:55:00",
          "2023-10-09T14:25:00",
          "2023-10-09T14:55:00",
          "2023-10-09T15:55:00",
          "2023-10-09T18:45:00",
          "2023-10-09T20:35:00",
          "2023-10-09T23:00:00",
          "2023-10-10T09:00:00",
          "2023-10-10T10:35:00",
          "2023-10-10T13:50:00",
          "2023-10-10T15:50:00",
          "2023-10-10T20:15:00",
          "2023-10-10T22:40:00",
          "2023-10-10T23:00:00",
          "2023-10-11T09:00:00",
          "2023-10-11T09:35:00",
          "2023-10-11T11:00:00",
          "2023-10-11T11:50:00",
          "2023-10-11T13:05:00",
          "2023-10-11T15:45:00",
          "2023-10-11T18:15:00",
          "2023-10-11T21:45:00",
          "2023-10-11T23:00:00",
          "2023-10-12T09:00:00",
          "2023-10-12T10:15:00",
          "2023-10-12T15:15:00",
          "2023-10-12T15:30:00",
          "2023-10-12T23:00:00",
          "2023-10-13T09:00:00",
          "2023-10-13T10:30:00",
          "2023-10-13T12:15:00",
          "2023-10-13T15:20:00",
          "2023-10-13T16:20:00",
          "2023-10-13T19:20:00",
          "2023-10-13T20:10:00",
          "2023-10-13T20:50:00",
          "2023-10-13T20:55:00",
          "2023-10-13T21:05:00",
          "2023-10-13T23:00:00",
          "2023-10-16T09:00:00",
          "2023-10-16T10:25:00",
          "2023-10-16T10:50:00",
          "2023-10-16T11:15:00",
          "2023-10-16T11:25:00",
          "2023-10-16T13:00:00",
          "2023-10-16T14:45:00",
          "2023-10-16T16:40:00",
          "2023-10-16T17:30:00",
          "2023-10-16T23:00:00",
          "2023-10-17T09:00:00",
          "2023-10-17T10:15:00",
          "2023-10-17T11:20:00",
          "2023-10-17T12:15:00",
          "2023-10-17T15:35:00",
          "2023-10-17T17:10:00",
          "2023-10-17T20:00:00",
          "2023-10-17T22:15:00",
          "2023-10-17T23:00:00",
          "2023-10-18T09:00:00",
          "2023-10-18T10:05:00",
          "2023-10-18T11:45:00",
          "2023-10-18T12:40:00",
          "2023-10-18T15:10:00",
          "2023-10-18T15:40:00",
          "2023-10-18T20:00:00",
          "2023-10-18T21:45:00",
          "2023-10-18T23:00:00",
          "2023-10-19T09:00:00",
          "2023-10-19T09:20:00",
          "2023-10-19T11:10:00",
          "2023-10-19T11:25:00",
          "2023-10-19T11:30:00",
          "2023-10-19T12:10:00",
          "2023-10-19T17:45:00",
          "2023-10-19T18:05:00",
          "2023-10-19T19:45:00",
          "2023-10-19T19:50:00",
          "2023-10-19T21:40:00",
          "2023-10-19T23:00:00",
          "2023-10-20T09:00:00",
          "2023-10-20T10:50:00",
          "2023-10-20T10:55:00",
          "2023-10-20T11:00:00",
          "2023-10-20T15:15:00",
          "2023-10-20T16:20:00",
          "2023-10-20T16:25:00",
          "2023-10-20T16:30:00",
          "2023-10-20T16:55:00",
          "2023-10-20T17:35:00",
          "2023-10-20T19:05:00",
          "2023-10-20T20:05:00",
          "2023-10-20T21:15:00",
          "2023-10-20T21:55:00",
          "2023-10-20T22:25:00",
          "2023-10-20T22:35:00",
          "2023-10-20T22:40:00",
          "2023-10-20T23:00:00",
          "2023-10-23T09:00:00",
          "2023-10-23T09:15:00",
          "2023-10-23T09:35:00",
          "2023-10-23T12:55:00",
          "2023-10-23T13:55:00",
          "2023-10-23T15:05:00",
          "2023-10-23T15:20:00",
          "2023-10-23T16:20:00",
          "2023-10-23T17:10:00",
          "2023-10-23T22:30:00",
          "2023-10-23T23:00:00",
          "2023-10-24T09:00:00",
          "2023-10-24T10:30:00",
          "2023-10-24T14:50:00",
          "2023-10-24T15:00:00",
          "2023-10-24T22:40:00",
          "2023-10-24T23:00:00"
         ],
         "xaxis": "x",
         "y": [
          42.999999999993044,
          144.99999999999514,
          232.00000000000998,
          238.0000000000049,
          285.00000000000193,
          328.00000000001717,
          367.0000000000284,
          411.000000000028,
          411.000000000028,
          375.00000000003644,
          405.00000000005537,
          443.0000000000601,
          447.00000000006406,
          451.00000000006804,
          498.0000000000873,
          516.0000000000942,
          516.0000000000942,
          509.00000000009277,
          504.0000000000822,
          534.0000000000789,
          596.0000000000632,
          857.0000000000633,
          953.0000000000483,
          1043.0000000000607,
          1082.0000000000719,
          1108.0000000000869,
          1148.0000000001046,
          1160.0000000000944,
          1196.000000000086,
          1196.000000000086,
          1175.0000000000816,
          1215.0000000000994,
          1239.0000000001012,
          1282.0000000000941,
          1280.0000000001032,
          1301.0000000001075,
          1286.0000000001203,
          1314.000000000126,
          1342.0000000001319,
          1342.0000000001319,
          1369.0000000001312,
          1387.000000000138,
          1466.0000000001226,
          1463.000000000125,
          1493.000000000144,
          1519.000000000159,
          1588.000000000167,
          1687.0000000001494,
          1687.0000000001494,
          1679.0000000001414,
          1738.0000000001505,
          1714.0000000001487,
          1749.0000000001337,
          2269.000000000121,
          2318.0000000001087,
          2318.0000000001087,
          2314.000000000127,
          2390.0000000001364,
          2385.000000000126,
          2371.0000000001232,
          2410.0000000001123,
          2416.0000000001073,
          2415.000000000101,
          2431.000000000117,
          2497.000000000105,
          2497.000000000105,
          2432.0000000001232,
          2466.000000000124,
          2471.0000000001123,
          2505.0000000001132,
          2477.0000000001073,
          2493.0000000001232,
          2493.0000000001232,
          2494.0000000001296,
          2536.0000000001382,
          2538.000000000129,
          2519.000000000138,
          2532.000000000134,
          2599.000000000151,
          2658.00000000016,
          2683.0000000001683,
          2683.0000000001683,
          2718.0000000001532,
          2736.00000000016,
          2772.000000000152,
          3109.0000000001614,
          3109.0000000001614,
          3167.0000000001637,
          3158.0000000001714,
          3123.000000000164,
          3214.000000000161,
          3261.0000000001583,
          3286.0000000001664,
          3317.0000000001696,
          3319.0000000001605,
          3360.000000000163,
          3373.000000000159,
          3373.000000000159,
          3373.000000000159,
          3373.000000000159,
          3395.00000000017,
          3423.000000000176,
          3462.000000000165,
          3498.000000000157,
          3489.0000000001423,
          3469.0000000001446,
          3512.000000000138,
          3512.000000000138,
          3523.000000000121,
          3536.0000000001173,
          3537.000000000102,
          3622.0000000000814,
          3656.0000000000823,
          3739.000000000093,
          3749.0000000000923,
          3755.0000000001096,
          3755.0000000001096,
          3772.00000000011,
          3742.0000000001132,
          3731.00000000013,
          3767.000000000122,
          3794.000000000121,
          3815.0000000001255,
          3915.0000000001146,
          3941.0000000001073,
          3941.0000000001073,
          3972.0000000001105,
          3976.0000000001146,
          4021.000000000121,
          4038.0000000001214,
          4078.000000000117,
          4087.000000000109,
          4123.000000000101,
          4165.00000000011,
          4064.0000000001146,
          4205.0000000001055,
          4219.000000000108,
          4219.000000000108,
          4230.000000000114,
          4240.000000000113,
          4265.000000000121,
          4293.000000000126,
          4341.00000000013,
          4376.0000000001155,
          4426.00000000011,
          4495.000000000118,
          4588.000000000128,
          4624.000000000142,
          4623.0000000001355,
          4649.00000000015,
          4636.000000000154,
          4614.000000000165,
          4602.000000000153,
          4607.000000000164,
          4626.000000000155,
          4626.000000000155,
          4644.000000000162,
          4703.000000000149,
          4730.000000000148,
          4750.000000000146,
          4762.000000000136,
          4781.00000000015,
          4837.000000000139,
          4825.000000000127,
          4901.000000000115,
          4911.000000000114,
          4911.000000000114,
          4936.000000000122,
          5034.00000000012,
          5089.000000000103,
          5151.000000000109,
          5167.0000000001255,
          5167.0000000001255
         ],
         "yaxis": "y"
        },
        {
         "hovertemplate": "variable=net_profit<br>time=%{x}<br>value=%{y}<extra></extra>",
         "legendgroup": "net_profit",
         "line": {
          "color": "#EF553B",
          "dash": "solid"
         },
         "marker": {
          "symbol": "circle"
         },
         "mode": "lines",
         "name": "net_profit",
         "orientation": "v",
         "showlegend": true,
         "type": "scatter",
         "x": [
          "2023-09-29T15:45:00",
          "2023-09-29T16:10:00",
          "2023-09-29T16:15:00",
          "2023-09-29T19:00:00",
          "2023-09-29T19:10:00",
          "2023-09-29T19:20:00",
          "2023-09-29T19:45:00",
          "2023-09-29T21:55:00",
          "2023-09-29T23:00:00",
          "2023-10-02T09:00:00",
          "2023-10-02T09:30:00",
          "2023-10-02T11:10:00",
          "2023-10-02T20:30:00",
          "2023-10-02T21:00:00",
          "2023-10-02T21:10:00",
          "2023-10-02T21:20:00",
          "2023-10-02T23:00:00",
          "2023-10-03T09:00:00",
          "2023-10-03T09:05:00",
          "2023-10-03T13:15:00",
          "2023-10-03T16:40:00",
          "2023-10-03T17:00:00",
          "2023-10-03T17:40:00",
          "2023-10-03T18:00:00",
          "2023-10-03T19:25:00",
          "2023-10-03T19:50:00",
          "2023-10-03T20:00:00",
          "2023-10-03T21:15:00",
          "2023-10-03T21:30:00",
          "2023-10-03T23:00:00",
          "2023-10-04T09:00:00",
          "2023-10-04T09:15:00",
          "2023-10-04T10:25:00",
          "2023-10-04T15:05:00",
          "2023-10-04T15:20:00",
          "2023-10-04T16:50:00",
          "2023-10-04T18:20:00",
          "2023-10-04T20:10:00",
          "2023-10-04T22:10:00",
          "2023-10-04T23:00:00",
          "2023-10-05T09:00:00",
          "2023-10-05T11:15:00",
          "2023-10-05T11:50:00",
          "2023-10-05T12:20:00",
          "2023-10-05T12:35:00",
          "2023-10-05T13:30:00",
          "2023-10-05T15:30:00",
          "2023-10-05T16:25:00",
          "2023-10-05T23:00:00",
          "2023-10-06T09:00:00",
          "2023-10-06T10:20:00",
          "2023-10-06T14:15:00",
          "2023-10-06T14:40:00",
          "2023-10-06T15:30:00",
          "2023-10-06T17:25:00",
          "2023-10-06T23:00:00",
          "2023-10-09T09:00:00",
          "2023-10-09T09:25:00",
          "2023-10-09T11:50:00",
          "2023-10-09T12:55:00",
          "2023-10-09T14:25:00",
          "2023-10-09T14:55:00",
          "2023-10-09T15:55:00",
          "2023-10-09T18:45:00",
          "2023-10-09T20:35:00",
          "2023-10-09T23:00:00",
          "2023-10-10T09:00:00",
          "2023-10-10T10:35:00",
          "2023-10-10T13:50:00",
          "2023-10-10T15:50:00",
          "2023-10-10T20:15:00",
          "2023-10-10T22:40:00",
          "2023-10-10T23:00:00",
          "2023-10-11T09:00:00",
          "2023-10-11T09:35:00",
          "2023-10-11T11:00:00",
          "2023-10-11T11:50:00",
          "2023-10-11T13:05:00",
          "2023-10-11T15:45:00",
          "2023-10-11T18:15:00",
          "2023-10-11T21:45:00",
          "2023-10-11T23:00:00",
          "2023-10-12T09:00:00",
          "2023-10-12T10:15:00",
          "2023-10-12T15:15:00",
          "2023-10-12T15:30:00",
          "2023-10-12T23:00:00",
          "2023-10-13T09:00:00",
          "2023-10-13T10:30:00",
          "2023-10-13T12:15:00",
          "2023-10-13T15:20:00",
          "2023-10-13T16:20:00",
          "2023-10-13T19:20:00",
          "2023-10-13T20:10:00",
          "2023-10-13T20:50:00",
          "2023-10-13T20:55:00",
          "2023-10-13T21:05:00",
          "2023-10-13T23:00:00",
          "2023-10-16T09:00:00",
          "2023-10-16T10:25:00",
          "2023-10-16T10:50:00",
          "2023-10-16T11:15:00",
          "2023-10-16T11:25:00",
          "2023-10-16T13:00:00",
          "2023-10-16T14:45:00",
          "2023-10-16T16:40:00",
          "2023-10-16T17:30:00",
          "2023-10-16T23:00:00",
          "2023-10-17T09:00:00",
          "2023-10-17T10:15:00",
          "2023-10-17T11:20:00",
          "2023-10-17T12:15:00",
          "2023-10-17T15:35:00",
          "2023-10-17T17:10:00",
          "2023-10-17T20:00:00",
          "2023-10-17T22:15:00",
          "2023-10-17T23:00:00",
          "2023-10-18T09:00:00",
          "2023-10-18T10:05:00",
          "2023-10-18T11:45:00",
          "2023-10-18T12:40:00",
          "2023-10-18T15:10:00",
          "2023-10-18T15:40:00",
          "2023-10-18T20:00:00",
          "2023-10-18T21:45:00",
          "2023-10-18T23:00:00",
          "2023-10-19T09:00:00",
          "2023-10-19T09:20:00",
          "2023-10-19T11:10:00",
          "2023-10-19T11:25:00",
          "2023-10-19T11:30:00",
          "2023-10-19T12:10:00",
          "2023-10-19T17:45:00",
          "2023-10-19T18:05:00",
          "2023-10-19T19:45:00",
          "2023-10-19T19:50:00",
          "2023-10-19T21:40:00",
          "2023-10-19T23:00:00",
          "2023-10-20T09:00:00",
          "2023-10-20T10:50:00",
          "2023-10-20T10:55:00",
          "2023-10-20T11:00:00",
          "2023-10-20T15:15:00",
          "2023-10-20T16:20:00",
          "2023-10-20T16:25:00",
          "2023-10-20T16:30:00",
          "2023-10-20T16:55:00",
          "2023-10-20T17:35:00",
          "2023-10-20T19:05:00",
          "2023-10-20T20:05:00",
          "2023-10-20T21:15:00",
          "2023-10-20T21:55:00",
          "2023-10-20T22:25:00",
          "2023-10-20T22:35:00",
          "2023-10-20T22:40:00",
          "2023-10-20T23:00:00",
          "2023-10-23T09:00:00",
          "2023-10-23T09:15:00",
          "2023-10-23T09:35:00",
          "2023-10-23T12:55:00",
          "2023-10-23T13:55:00",
          "2023-10-23T15:05:00",
          "2023-10-23T15:20:00",
          "2023-10-23T16:20:00",
          "2023-10-23T17:10:00",
          "2023-10-23T22:30:00",
          "2023-10-23T23:00:00",
          "2023-10-24T09:00:00",
          "2023-10-24T10:30:00",
          "2023-10-24T14:50:00",
          "2023-10-24T15:00:00",
          "2023-10-24T22:40:00",
          "2023-10-24T23:00:00"
         ],
         "xaxis": "x",
         "y": [
          40.499999999993044,
          137.49999999999514,
          219.50000000000998,
          220.5000000000049,
          262.50000000000193,
          300.50000000001717,
          334.5000000000284,
          373.500000000028,
          371.000000000028,
          332.50000000003644,
          357.50000000005537,
          390.5000000000601,
          389.50000000006406,
          388.50000000006804,
          430.5000000000873,
          443.50000000009425,
          441.00000000009425,
          431.50000000009277,
          421.5000000000822,
          446.5000000000789,
          503.5000000000632,
          759.5000000000633,
          850.5000000000483,
          935.5000000000607,
          969.5000000000719,
          990.5000000000869,
          1025.5000000001046,
          1032.5000000000944,
          1063.500000000086,
          1061.000000000086,
          1037.5000000000816,
          1072.5000000000994,
          1091.5000000001012,
          1129.5000000000941,
          1122.5000000001032,
          1138.5000000001075,
          1118.5000000001203,
          1141.500000000126,
          1164.5000000001319,
          1162.0000000001319,
          1186.5000000001312,
          1199.500000000138,
          1273.5000000001226,
          1265.500000000125,
          1290.500000000144,
          1311.500000000159,
          1375.500000000167,
          1469.5000000001494,
          1467.0000000001494,
          1456.5000000001414,
          1510.5000000001505,
          1481.5000000001487,
          1511.5000000001337,
          2026.500000000121,
          2070.5000000001087,
          2068.0000000001087,
          2061.500000000127,
          2132.5000000001364,
          2122.500000000126,
          2103.5000000001232,
          2137.5000000001123,
          2138.5000000001073,
          2132.500000000101,
          2143.500000000117,
          2204.500000000105,
          2202.000000000105,
          2134.5000000001232,
          2163.500000000124,
          2163.5000000001123,
          2192.5000000001132,
          2159.5000000001073,
          2170.5000000001232,
          2168.0000000001232,
          2166.5000000001296,
          2203.5000000001382,
          2200.500000000129,
          2176.500000000138,
          2184.500000000134,
          2246.500000000151,
          2300.50000000016,
          2320.5000000001683,
          2318.0000000001683,
          2350.5000000001532,
          2363.50000000016,
          2394.500000000152,
          2726.5000000001614,
          2724.0000000001614,
          2779.5000000001637,
          2765.5000000001714,
          2725.500000000164,
          2811.500000000161,
          2853.5000000001583,
          2873.5000000001664,
          2899.5000000001696,
          2896.5000000001605,
          2932.500000000163,
          2940.500000000159,
          2938.000000000159,
          2935.500000000159,
          2930.500000000159,
          2947.50000000017,
          2970.500000000176,
          3004.500000000165,
          3035.500000000157,
          3021.5000000001423,
          2996.5000000001446,
          3034.500000000138,
          3032.000000000138,
          3040.500000000121,
          3048.5000000001173,
          3044.500000000102,
          3124.5000000000814,
          3153.5000000000823,
          3231.500000000093,
          3236.5000000000923,
          3237.5000000001096,
          3235.0000000001096,
          3249.50000000011,
          3214.5000000001132,
          3198.50000000013,
          3229.500000000122,
          3251.500000000121,
          3267.5000000001255,
          3362.5000000001146,
          3383.5000000001073,
          3381.0000000001073,
          3409.5000000001105,
          3408.5000000001146,
          3448.500000000121,
          3460.5000000001214,
          3495.500000000117,
          3499.500000000109,
          3530.500000000101,
          3567.50000000011,
          3461.5000000001146,
          3597.5000000001055,
          3606.5000000001082,
          3604.0000000001082,
          3612.5000000001137,
          3617.500000000113,
          3637.500000000121,
          3660.5000000001264,
          3703.50000000013,
          3733.5000000001155,
          3778.50000000011,
          3842.5000000001182,
          3930.5000000001282,
          3961.500000000142,
          3955.5000000001355,
          3976.50000000015,
          3958.5000000001537,
          3931.5000000001646,
          3914.500000000153,
          3914.5000000001637,
          3928.5000000001546,
          3926.0000000001546,
          3941.500000000162,
          3995.500000000149,
          4017.5000000001482,
          4032.5000000001464,
          4039.5000000001364,
          4053.50000000015,
          4104.500000000139,
          4087.5000000001273,
          4158.500000000115,
          4163.500000000114,
          4161.000000000114,
          4183.500000000122,
          4276.50000000012,
          4326.500000000103,
          4383.500000000109,
          4394.5000000001255,
          4392.0000000001255
         ],
         "yaxis": "y"
        }
       ],
       "layout": {
        "legend": {
         "title": {
          "text": "variable"
         },
         "tracegroupgap": 0
        },
        "template": {
         "data": {
          "bar": [
           {
            "error_x": {
             "color": "#2a3f5f"
            },
            "error_y": {
             "color": "#2a3f5f"
            },
            "marker": {
             "line": {
              "color": "#E5ECF6",
              "width": 0.5
             },
             "pattern": {
              "fillmode": "overlay",
              "size": 10,
              "solidity": 0.2
             }
            },
            "type": "bar"
           }
          ],
          "barpolar": [
           {
            "marker": {
             "line": {
              "color": "#E5ECF6",
              "width": 0.5
             },
             "pattern": {
              "fillmode": "overlay",
              "size": 10,
              "solidity": 0.2
             }
            },
            "type": "barpolar"
           }
          ],
          "carpet": [
           {
            "aaxis": {
             "endlinecolor": "#2a3f5f",
             "gridcolor": "white",
             "linecolor": "white",
             "minorgridcolor": "white",
             "startlinecolor": "#2a3f5f"
            },
            "baxis": {
             "endlinecolor": "#2a3f5f",
             "gridcolor": "white",
             "linecolor": "white",
             "minorgridcolor": "white",
             "startlinecolor": "#2a3f5f"
            },
            "type": "carpet"
           }
          ],
          "choropleth": [
           {
            "colorbar": {
             "outlinewidth": 0,
             "ticks": ""
            },
            "type": "choropleth"
           }
          ],
          "contour": [
           {
            "colorbar": {
             "outlinewidth": 0,
             "ticks": ""
            },
            "colorscale": [
             [
              0,
              "#0d0887"
             ],
             [
              0.1111111111111111,
              "#46039f"
             ],
             [
              0.2222222222222222,
              "#7201a8"
             ],
             [
              0.3333333333333333,
              "#9c179e"
             ],
             [
              0.4444444444444444,
              "#bd3786"
             ],
             [
              0.5555555555555556,
              "#d8576b"
             ],
             [
              0.6666666666666666,
              "#ed7953"
             ],
             [
              0.7777777777777778,
              "#fb9f3a"
             ],
             [
              0.8888888888888888,
              "#fdca26"
             ],
             [
              1,
              "#f0f921"
             ]
            ],
            "type": "contour"
           }
          ],
          "contourcarpet": [
           {
            "colorbar": {
             "outlinewidth": 0,
             "ticks": ""
            },
            "type": "contourcarpet"
           }
          ],
          "heatmap": [
           {
            "colorbar": {
             "outlinewidth": 0,
             "ticks": ""
            },
            "colorscale": [
             [
              0,
              "#0d0887"
             ],
             [
              0.1111111111111111,
              "#46039f"
             ],
             [
              0.2222222222222222,
              "#7201a8"
             ],
             [
              0.3333333333333333,
              "#9c179e"
             ],
             [
              0.4444444444444444,
              "#bd3786"
             ],
             [
              0.5555555555555556,
              "#d8576b"
             ],
             [
              0.6666666666666666,
              "#ed7953"
             ],
             [
              0.7777777777777778,
              "#fb9f3a"
             ],
             [
              0.8888888888888888,
              "#fdca26"
             ],
             [
              1,
              "#f0f921"
             ]
            ],
            "type": "heatmap"
           }
          ],
          "heatmapgl": [
           {
            "colorbar": {
             "outlinewidth": 0,
             "ticks": ""
            },
            "colorscale": [
             [
              0,
              "#0d0887"
             ],
             [
              0.1111111111111111,
              "#46039f"
             ],
             [
              0.2222222222222222,
              "#7201a8"
             ],
             [
              0.3333333333333333,
              "#9c179e"
             ],
             [
              0.4444444444444444,
              "#bd3786"
             ],
             [
              0.5555555555555556,
              "#d8576b"
             ],
             [
              0.6666666666666666,
              "#ed7953"
             ],
             [
              0.7777777777777778,
              "#fb9f3a"
             ],
             [
              0.8888888888888888,
              "#fdca26"
             ],
             [
              1,
              "#f0f921"
             ]
            ],
            "type": "heatmapgl"
           }
          ],
          "histogram": [
           {
            "marker": {
             "pattern": {
              "fillmode": "overlay",
              "size": 10,
              "solidity": 0.2
             }
            },
            "type": "histogram"
           }
          ],
          "histogram2d": [
           {
            "colorbar": {
             "outlinewidth": 0,
             "ticks": ""
            },
            "colorscale": [
             [
              0,
              "#0d0887"
             ],
             [
              0.1111111111111111,
              "#46039f"
             ],
             [
              0.2222222222222222,
              "#7201a8"
             ],
             [
              0.3333333333333333,
              "#9c179e"
             ],
             [
              0.4444444444444444,
              "#bd3786"
             ],
             [
              0.5555555555555556,
              "#d8576b"
             ],
             [
              0.6666666666666666,
              "#ed7953"
             ],
             [
              0.7777777777777778,
              "#fb9f3a"
             ],
             [
              0.8888888888888888,
              "#fdca26"
             ],
             [
              1,
              "#f0f921"
             ]
            ],
            "type": "histogram2d"
           }
          ],
          "histogram2dcontour": [
           {
            "colorbar": {
             "outlinewidth": 0,
             "ticks": ""
            },
            "colorscale": [
             [
              0,
              "#0d0887"
             ],
             [
              0.1111111111111111,
              "#46039f"
             ],
             [
              0.2222222222222222,
              "#7201a8"
             ],
             [
              0.3333333333333333,
              "#9c179e"
             ],
             [
              0.4444444444444444,
              "#bd3786"
             ],
             [
              0.5555555555555556,
              "#d8576b"
             ],
             [
              0.6666666666666666,
              "#ed7953"
             ],
             [
              0.7777777777777778,
              "#fb9f3a"
             ],
             [
              0.8888888888888888,
              "#fdca26"
             ],
             [
              1,
              "#f0f921"
             ]
            ],
            "type": "histogram2dcontour"
           }
          ],
          "mesh3d": [
           {
            "colorbar": {
             "outlinewidth": 0,
             "ticks": ""
            },
            "type": "mesh3d"
           }
          ],
          "parcoords": [
           {
            "line": {
             "colorbar": {
              "outlinewidth": 0,
              "ticks": ""
             }
            },
            "type": "parcoords"
           }
          ],
          "pie": [
           {
            "automargin": true,
            "type": "pie"
           }
          ],
          "scatter": [
           {
            "fillpattern": {
             "fillmode": "overlay",
             "size": 10,
             "solidity": 0.2
            },
            "type": "scatter"
           }
          ],
          "scatter3d": [
           {
            "line": {
             "colorbar": {
              "outlinewidth": 0,
              "ticks": ""
             }
            },
            "marker": {
             "colorbar": {
              "outlinewidth": 0,
              "ticks": ""
             }
            },
            "type": "scatter3d"
           }
          ],
          "scattercarpet": [
           {
            "marker": {
             "colorbar": {
              "outlinewidth": 0,
              "ticks": ""
             }
            },
            "type": "scattercarpet"
           }
          ],
          "scattergeo": [
           {
            "marker": {
             "colorbar": {
              "outlinewidth": 0,
              "ticks": ""
             }
            },
            "type": "scattergeo"
           }
          ],
          "scattergl": [
           {
            "marker": {
             "colorbar": {
              "outlinewidth": 0,
              "ticks": ""
             }
            },
            "type": "scattergl"
           }
          ],
          "scattermapbox": [
           {
            "marker": {
             "colorbar": {
              "outlinewidth": 0,
              "ticks": ""
             }
            },
            "type": "scattermapbox"
           }
          ],
          "scatterpolar": [
           {
            "marker": {
             "colorbar": {
              "outlinewidth": 0,
              "ticks": ""
             }
            },
            "type": "scatterpolar"
           }
          ],
          "scatterpolargl": [
           {
            "marker": {
             "colorbar": {
              "outlinewidth": 0,
              "ticks": ""
             }
            },
            "type": "scatterpolargl"
           }
          ],
          "scatterternary": [
           {
            "marker": {
             "colorbar": {
              "outlinewidth": 0,
              "ticks": ""
             }
            },
            "type": "scatterternary"
           }
          ],
          "surface": [
           {
            "colorbar": {
             "outlinewidth": 0,
             "ticks": ""
            },
            "colorscale": [
             [
              0,
              "#0d0887"
             ],
             [
              0.1111111111111111,
              "#46039f"
             ],
             [
              0.2222222222222222,
              "#7201a8"
             ],
             [
              0.3333333333333333,
              "#9c179e"
             ],
             [
              0.4444444444444444,
              "#bd3786"
             ],
             [
              0.5555555555555556,
              "#d8576b"
             ],
             [
              0.6666666666666666,
              "#ed7953"
             ],
             [
              0.7777777777777778,
              "#fb9f3a"
             ],
             [
              0.8888888888888888,
              "#fdca26"
             ],
             [
              1,
              "#f0f921"
             ]
            ],
            "type": "surface"
           }
          ],
          "table": [
           {
            "cells": {
             "fill": {
              "color": "#EBF0F8"
             },
             "line": {
              "color": "white"
             }
            },
            "header": {
             "fill": {
              "color": "#C8D4E3"
             },
             "line": {
              "color": "white"
             }
            },
            "type": "table"
           }
          ]
         },
         "layout": {
          "annotationdefaults": {
           "arrowcolor": "#2a3f5f",
           "arrowhead": 0,
           "arrowwidth": 1
          },
          "autotypenumbers": "strict",
          "coloraxis": {
           "colorbar": {
            "outlinewidth": 0,
            "ticks": ""
           }
          },
          "colorscale": {
           "diverging": [
            [
             0,
             "#8e0152"
            ],
            [
             0.1,
             "#c51b7d"
            ],
            [
             0.2,
             "#de77ae"
            ],
            [
             0.3,
             "#f1b6da"
            ],
            [
             0.4,
             "#fde0ef"
            ],
            [
             0.5,
             "#f7f7f7"
            ],
            [
             0.6,
             "#e6f5d0"
            ],
            [
             0.7,
             "#b8e186"
            ],
            [
             0.8,
             "#7fbc41"
            ],
            [
             0.9,
             "#4d9221"
            ],
            [
             1,
             "#276419"
            ]
           ],
           "sequential": [
            [
             0,
             "#0d0887"
            ],
            [
             0.1111111111111111,
             "#46039f"
            ],
            [
             0.2222222222222222,
             "#7201a8"
            ],
            [
             0.3333333333333333,
             "#9c179e"
            ],
            [
             0.4444444444444444,
             "#bd3786"
            ],
            [
             0.5555555555555556,
             "#d8576b"
            ],
            [
             0.6666666666666666,
             "#ed7953"
            ],
            [
             0.7777777777777778,
             "#fb9f3a"
            ],
            [
             0.8888888888888888,
             "#fdca26"
            ],
            [
             1,
             "#f0f921"
            ]
           ],
           "sequentialminus": [
            [
             0,
             "#0d0887"
            ],
            [
             0.1111111111111111,
             "#46039f"
            ],
            [
             0.2222222222222222,
             "#7201a8"
            ],
            [
             0.3333333333333333,
             "#9c179e"
            ],
            [
             0.4444444444444444,
             "#bd3786"
            ],
            [
             0.5555555555555556,
             "#d8576b"
            ],
            [
             0.6666666666666666,
             "#ed7953"
            ],
            [
             0.7777777777777778,
             "#fb9f3a"
            ],
            [
             0.8888888888888888,
             "#fdca26"
            ],
            [
             1,
             "#f0f921"
            ]
           ]
          },
          "colorway": [
           "#636efa",
           "#EF553B",
           "#00cc96",
           "#ab63fa",
           "#FFA15A",
           "#19d3f3",
           "#FF6692",
           "#B6E880",
           "#FF97FF",
           "#FECB52"
          ],
          "font": {
           "color": "#2a3f5f"
          },
          "geo": {
           "bgcolor": "white",
           "lakecolor": "white",
           "landcolor": "#E5ECF6",
           "showlakes": true,
           "showland": true,
           "subunitcolor": "white"
          },
          "hoverlabel": {
           "align": "left"
          },
          "hovermode": "closest",
          "mapbox": {
           "style": "light"
          },
          "paper_bgcolor": "white",
          "plot_bgcolor": "#E5ECF6",
          "polar": {
           "angularaxis": {
            "gridcolor": "white",
            "linecolor": "white",
            "ticks": ""
           },
           "bgcolor": "#E5ECF6",
           "radialaxis": {
            "gridcolor": "white",
            "linecolor": "white",
            "ticks": ""
           }
          },
          "scene": {
           "xaxis": {
            "backgroundcolor": "#E5ECF6",
            "gridcolor": "white",
            "gridwidth": 2,
            "linecolor": "white",
            "showbackground": true,
            "ticks": "",
            "zerolinecolor": "white"
           },
           "yaxis": {
            "backgroundcolor": "#E5ECF6",
            "gridcolor": "white",
            "gridwidth": 2,
            "linecolor": "white",
            "showbackground": true,
            "ticks": "",
            "zerolinecolor": "white"
           },
           "zaxis": {
            "backgroundcolor": "#E5ECF6",
            "gridcolor": "white",
            "gridwidth": 2,
            "linecolor": "white",
            "showbackground": true,
            "ticks": "",
            "zerolinecolor": "white"
           }
          },
          "shapedefaults": {
           "line": {
            "color": "#2a3f5f"
           }
          },
          "ternary": {
           "aaxis": {
            "gridcolor": "white",
            "linecolor": "white",
            "ticks": ""
           },
           "baxis": {
            "gridcolor": "white",
            "linecolor": "white",
            "ticks": ""
           },
           "bgcolor": "#E5ECF6",
           "caxis": {
            "gridcolor": "white",
            "linecolor": "white",
            "ticks": ""
           }
          },
          "title": {
           "x": 0.05
          },
          "xaxis": {
           "automargin": true,
           "gridcolor": "white",
           "linecolor": "white",
           "ticks": "",
           "title": {
            "standoff": 15
           },
           "zerolinecolor": "white",
           "zerolinewidth": 2
          },
          "yaxis": {
           "automargin": true,
           "gridcolor": "white",
           "linecolor": "white",
           "ticks": "",
           "title": {
            "standoff": 15
           },
           "zerolinecolor": "white",
           "zerolinewidth": 2
          }
         }
        },
        "title": {
         "text": "SP500 NY session Backtest EMA Trendfollowing"
        },
        "xaxis": {
         "anchor": "y",
         "domain": [
          0,
          1
         ],
         "title": {
          "text": "time"
         }
        },
        "yaxis": {
         "anchor": "x",
         "domain": [
          0,
          1
         ],
         "title": {
          "text": "value"
         }
        }
       }
      }
     },
     "metadata": {},
     "output_type": "display_data"
    }
   ],
   "source": [
    "px.line(bars3, 'time', ['gross_profit', 'net_profit'], title=\"SP500 NY session Backtest EMA Trendfollowing\")\n"
   ]
  }
 ],
 "metadata": {
  "kernelspec": {
   "display_name": "metatrader-Cdlomroj-py3.10",
   "language": "python",
   "name": "python3"
  },
  "language_info": {
   "codemirror_mode": {
    "name": "ipython",
    "version": 3
   },
   "file_extension": ".py",
   "mimetype": "text/x-python",
   "name": "python",
   "nbconvert_exporter": "python",
   "pygments_lexer": "ipython3",
   "version": "3.10.0"
  }
 },
 "nbformat": 4,
 "nbformat_minor": 2
}
