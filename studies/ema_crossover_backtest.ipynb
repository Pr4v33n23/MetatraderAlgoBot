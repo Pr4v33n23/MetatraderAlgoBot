{
 "cells": [
  {
   "cell_type": "code",
   "execution_count": 1,
   "metadata": {},
   "outputs": [
    {
     "name": "stdout",
     "output_type": "stream",
     "text": [
      "Connected to Metatrader successfully.\n"
     ]
    }
   ],
   "source": [
    "from metatrader.utils.factory import MetatraderFactory\n",
    "metatrader = MetatraderFactory.get_metatrader()\n",
    "import pandas as pd\n",
    "from datetime import datetime\n",
    "import plotly.express as px\n",
    "import plotly.graph_objects as go\n",
    "import pytz\n",
    "\n",
    "mt5 = metatrader.connect()\n",
    "\n",
    "symbol = 'SP500'\n",
    "timeframe = mt5.TIMEFRAME_M5\n",
    "\n",
    "trade_volume = 10\n",
    "commission = 0.25\n",
    "\n"
   ]
  },
  {
   "cell_type": "code",
   "execution_count": 2,
   "metadata": {},
   "outputs": [
    {
     "data": {
      "text/html": [
       "<div>\n",
       "<style scoped>\n",
       "    .dataframe tbody tr th:only-of-type {\n",
       "        vertical-align: middle;\n",
       "    }\n",
       "\n",
       "    .dataframe tbody tr th {\n",
       "        vertical-align: top;\n",
       "    }\n",
       "\n",
       "    .dataframe thead th {\n",
       "        text-align: right;\n",
       "    }\n",
       "</style>\n",
       "<table border=\"1\" class=\"dataframe\">\n",
       "  <thead>\n",
       "    <tr style=\"text-align: right;\">\n",
       "      <th></th>\n",
       "      <th>time</th>\n",
       "      <th>open</th>\n",
       "      <th>high</th>\n",
       "      <th>low</th>\n",
       "      <th>close</th>\n",
       "      <th>tick_volume</th>\n",
       "      <th>spread</th>\n",
       "      <th>real_volume</th>\n",
       "      <th>trade_volume</th>\n",
       "    </tr>\n",
       "  </thead>\n",
       "  <tbody>\n",
       "    <tr>\n",
       "      <th>0</th>\n",
       "      <td>2023-10-24 07:20:00</td>\n",
       "      <td>4228.6</td>\n",
       "      <td>4229.1</td>\n",
       "      <td>4228.1</td>\n",
       "      <td>4228.6</td>\n",
       "      <td>96</td>\n",
       "      <td>2</td>\n",
       "      <td>0</td>\n",
       "      <td>10</td>\n",
       "    </tr>\n",
       "    <tr>\n",
       "      <th>1</th>\n",
       "      <td>2023-10-24 07:25:00</td>\n",
       "      <td>4228.3</td>\n",
       "      <td>4228.3</td>\n",
       "      <td>4227.1</td>\n",
       "      <td>4227.3</td>\n",
       "      <td>42</td>\n",
       "      <td>3</td>\n",
       "      <td>0</td>\n",
       "      <td>10</td>\n",
       "    </tr>\n",
       "    <tr>\n",
       "      <th>2</th>\n",
       "      <td>2023-10-24 07:30:00</td>\n",
       "      <td>4227.1</td>\n",
       "      <td>4227.8</td>\n",
       "      <td>4226.9</td>\n",
       "      <td>4227.8</td>\n",
       "      <td>36</td>\n",
       "      <td>2</td>\n",
       "      <td>0</td>\n",
       "      <td>10</td>\n",
       "    </tr>\n",
       "    <tr>\n",
       "      <th>3</th>\n",
       "      <td>2023-10-24 07:35:00</td>\n",
       "      <td>4227.5</td>\n",
       "      <td>4228.3</td>\n",
       "      <td>4227.5</td>\n",
       "      <td>4228.3</td>\n",
       "      <td>47</td>\n",
       "      <td>2</td>\n",
       "      <td>0</td>\n",
       "      <td>10</td>\n",
       "    </tr>\n",
       "    <tr>\n",
       "      <th>4</th>\n",
       "      <td>2023-10-24 07:40:00</td>\n",
       "      <td>4228.4</td>\n",
       "      <td>4228.6</td>\n",
       "      <td>4228.3</td>\n",
       "      <td>4228.6</td>\n",
       "      <td>39</td>\n",
       "      <td>3</td>\n",
       "      <td>0</td>\n",
       "      <td>10</td>\n",
       "    </tr>\n",
       "    <tr>\n",
       "      <th>...</th>\n",
       "      <td>...</td>\n",
       "      <td>...</td>\n",
       "      <td>...</td>\n",
       "      <td>...</td>\n",
       "      <td>...</td>\n",
       "      <td>...</td>\n",
       "      <td>...</td>\n",
       "      <td>...</td>\n",
       "      <td>...</td>\n",
       "    </tr>\n",
       "    <tr>\n",
       "      <th>195</th>\n",
       "      <td>2023-10-24 23:35:00</td>\n",
       "      <td>4249.7</td>\n",
       "      <td>4249.9</td>\n",
       "      <td>4248.1</td>\n",
       "      <td>4249.4</td>\n",
       "      <td>174</td>\n",
       "      <td>2</td>\n",
       "      <td>0</td>\n",
       "      <td>10</td>\n",
       "    </tr>\n",
       "    <tr>\n",
       "      <th>196</th>\n",
       "      <td>2023-10-24 23:40:00</td>\n",
       "      <td>4249.1</td>\n",
       "      <td>4250.6</td>\n",
       "      <td>4248.6</td>\n",
       "      <td>4249.1</td>\n",
       "      <td>90</td>\n",
       "      <td>1</td>\n",
       "      <td>0</td>\n",
       "      <td>10</td>\n",
       "    </tr>\n",
       "    <tr>\n",
       "      <th>197</th>\n",
       "      <td>2023-10-24 23:45:00</td>\n",
       "      <td>4249.0</td>\n",
       "      <td>4249.1</td>\n",
       "      <td>4245.6</td>\n",
       "      <td>4247.4</td>\n",
       "      <td>94</td>\n",
       "      <td>1</td>\n",
       "      <td>0</td>\n",
       "      <td>10</td>\n",
       "    </tr>\n",
       "    <tr>\n",
       "      <th>198</th>\n",
       "      <td>2023-10-24 23:50:00</td>\n",
       "      <td>4247.5</td>\n",
       "      <td>4247.6</td>\n",
       "      <td>4245.5</td>\n",
       "      <td>4246.0</td>\n",
       "      <td>141</td>\n",
       "      <td>2</td>\n",
       "      <td>0</td>\n",
       "      <td>10</td>\n",
       "    </tr>\n",
       "    <tr>\n",
       "      <th>199</th>\n",
       "      <td>2023-10-24 23:55:00</td>\n",
       "      <td>4245.9</td>\n",
       "      <td>4247.4</td>\n",
       "      <td>4244.9</td>\n",
       "      <td>4247.1</td>\n",
       "      <td>151</td>\n",
       "      <td>2</td>\n",
       "      <td>0</td>\n",
       "      <td>10</td>\n",
       "    </tr>\n",
       "  </tbody>\n",
       "</table>\n",
       "<p>200 rows × 9 columns</p>\n",
       "</div>"
      ],
      "text/plain": [
       "                   time    open    high     low   close  tick_volume  spread  \\\n",
       "0   2023-10-24 07:20:00  4228.6  4229.1  4228.1  4228.6           96       2   \n",
       "1   2023-10-24 07:25:00  4228.3  4228.3  4227.1  4227.3           42       3   \n",
       "2   2023-10-24 07:30:00  4227.1  4227.8  4226.9  4227.8           36       2   \n",
       "3   2023-10-24 07:35:00  4227.5  4228.3  4227.5  4228.3           47       2   \n",
       "4   2023-10-24 07:40:00  4228.4  4228.6  4228.3  4228.6           39       3   \n",
       "..                  ...     ...     ...     ...     ...          ...     ...   \n",
       "195 2023-10-24 23:35:00  4249.7  4249.9  4248.1  4249.4          174       2   \n",
       "196 2023-10-24 23:40:00  4249.1  4250.6  4248.6  4249.1           90       1   \n",
       "197 2023-10-24 23:45:00  4249.0  4249.1  4245.6  4247.4           94       1   \n",
       "198 2023-10-24 23:50:00  4247.5  4247.6  4245.5  4246.0          141       2   \n",
       "199 2023-10-24 23:55:00  4245.9  4247.4  4244.9  4247.1          151       2   \n",
       "\n",
       "     real_volume  trade_volume  \n",
       "0              0            10  \n",
       "1              0            10  \n",
       "2              0            10  \n",
       "3              0            10  \n",
       "4              0            10  \n",
       "..           ...           ...  \n",
       "195            0            10  \n",
       "196            0            10  \n",
       "197            0            10  \n",
       "198            0            10  \n",
       "199            0            10  \n",
       "\n",
       "[200 rows x 9 columns]"
      ]
     },
     "execution_count": 2,
     "metadata": {},
     "output_type": "execute_result"
    }
   ],
   "source": [
    "bars = pd.DataFrame(mt5.copy_rates_from_pos(symbol, timeframe, 0,200))\n",
    "bars['time'] = pd.to_datetime(bars['time'], unit='s')\n",
    "bars['trade_volume'] = trade_volume\n",
    "bars"
   ]
  },
  {
   "cell_type": "code",
   "execution_count": 3,
   "metadata": {},
   "outputs": [
    {
     "data": {
      "text/html": [
       "<div>\n",
       "<style scoped>\n",
       "    .dataframe tbody tr th:only-of-type {\n",
       "        vertical-align: middle;\n",
       "    }\n",
       "\n",
       "    .dataframe tbody tr th {\n",
       "        vertical-align: top;\n",
       "    }\n",
       "\n",
       "    .dataframe thead th {\n",
       "        text-align: right;\n",
       "    }\n",
       "</style>\n",
       "<table border=\"1\" class=\"dataframe\">\n",
       "  <thead>\n",
       "    <tr style=\"text-align: right;\">\n",
       "      <th></th>\n",
       "      <th>time</th>\n",
       "      <th>open</th>\n",
       "      <th>high</th>\n",
       "      <th>low</th>\n",
       "      <th>close</th>\n",
       "      <th>tick_volume</th>\n",
       "      <th>spread</th>\n",
       "      <th>real_volume</th>\n",
       "      <th>trade_volume</th>\n",
       "      <th>ema_20</th>\n",
       "      <th>ema_10</th>\n",
       "      <th>hour</th>\n",
       "    </tr>\n",
       "  </thead>\n",
       "  <tbody>\n",
       "    <tr>\n",
       "      <th>0</th>\n",
       "      <td>2023-10-24 07:20:00</td>\n",
       "      <td>4228.6</td>\n",
       "      <td>4229.1</td>\n",
       "      <td>4228.1</td>\n",
       "      <td>4228.6</td>\n",
       "      <td>96</td>\n",
       "      <td>2</td>\n",
       "      <td>0</td>\n",
       "      <td>10</td>\n",
       "      <td>4228.600000</td>\n",
       "      <td>4228.600000</td>\n",
       "      <td>7</td>\n",
       "    </tr>\n",
       "    <tr>\n",
       "      <th>1</th>\n",
       "      <td>2023-10-24 07:25:00</td>\n",
       "      <td>4228.3</td>\n",
       "      <td>4228.3</td>\n",
       "      <td>4227.1</td>\n",
       "      <td>4227.3</td>\n",
       "      <td>42</td>\n",
       "      <td>3</td>\n",
       "      <td>0</td>\n",
       "      <td>10</td>\n",
       "      <td>4227.917500</td>\n",
       "      <td>4227.885000</td>\n",
       "      <td>7</td>\n",
       "    </tr>\n",
       "    <tr>\n",
       "      <th>2</th>\n",
       "      <td>2023-10-24 07:30:00</td>\n",
       "      <td>4227.1</td>\n",
       "      <td>4227.8</td>\n",
       "      <td>4226.9</td>\n",
       "      <td>4227.8</td>\n",
       "      <td>36</td>\n",
       "      <td>2</td>\n",
       "      <td>0</td>\n",
       "      <td>10</td>\n",
       "      <td>4227.874355</td>\n",
       "      <td>4227.850831</td>\n",
       "      <td>7</td>\n",
       "    </tr>\n",
       "    <tr>\n",
       "      <th>3</th>\n",
       "      <td>2023-10-24 07:35:00</td>\n",
       "      <td>4227.5</td>\n",
       "      <td>4228.3</td>\n",
       "      <td>4227.5</td>\n",
       "      <td>4228.3</td>\n",
       "      <td>47</td>\n",
       "      <td>2</td>\n",
       "      <td>0</td>\n",
       "      <td>10</td>\n",
       "      <td>4227.997232</td>\n",
       "      <td>4227.998812</td>\n",
       "      <td>7</td>\n",
       "    </tr>\n",
       "    <tr>\n",
       "      <th>4</th>\n",
       "      <td>2023-10-24 07:40:00</td>\n",
       "      <td>4228.4</td>\n",
       "      <td>4228.6</td>\n",
       "      <td>4228.3</td>\n",
       "      <td>4228.6</td>\n",
       "      <td>39</td>\n",
       "      <td>3</td>\n",
       "      <td>0</td>\n",
       "      <td>10</td>\n",
       "      <td>4228.143036</td>\n",
       "      <td>4228.171397</td>\n",
       "      <td>7</td>\n",
       "    </tr>\n",
       "    <tr>\n",
       "      <th>...</th>\n",
       "      <td>...</td>\n",
       "      <td>...</td>\n",
       "      <td>...</td>\n",
       "      <td>...</td>\n",
       "      <td>...</td>\n",
       "      <td>...</td>\n",
       "      <td>...</td>\n",
       "      <td>...</td>\n",
       "      <td>...</td>\n",
       "      <td>...</td>\n",
       "      <td>...</td>\n",
       "      <td>...</td>\n",
       "    </tr>\n",
       "    <tr>\n",
       "      <th>195</th>\n",
       "      <td>2023-10-24 23:35:00</td>\n",
       "      <td>4249.7</td>\n",
       "      <td>4249.9</td>\n",
       "      <td>4248.1</td>\n",
       "      <td>4249.4</td>\n",
       "      <td>174</td>\n",
       "      <td>2</td>\n",
       "      <td>0</td>\n",
       "      <td>10</td>\n",
       "      <td>4248.783438</td>\n",
       "      <td>4249.887413</td>\n",
       "      <td>23</td>\n",
       "    </tr>\n",
       "    <tr>\n",
       "      <th>196</th>\n",
       "      <td>2023-10-24 23:40:00</td>\n",
       "      <td>4249.1</td>\n",
       "      <td>4250.6</td>\n",
       "      <td>4248.6</td>\n",
       "      <td>4249.1</td>\n",
       "      <td>90</td>\n",
       "      <td>1</td>\n",
       "      <td>0</td>\n",
       "      <td>10</td>\n",
       "      <td>4248.813587</td>\n",
       "      <td>4249.744247</td>\n",
       "      <td>23</td>\n",
       "    </tr>\n",
       "    <tr>\n",
       "      <th>197</th>\n",
       "      <td>2023-10-24 23:45:00</td>\n",
       "      <td>4249.0</td>\n",
       "      <td>4249.1</td>\n",
       "      <td>4245.6</td>\n",
       "      <td>4247.4</td>\n",
       "      <td>94</td>\n",
       "      <td>1</td>\n",
       "      <td>0</td>\n",
       "      <td>10</td>\n",
       "      <td>4248.678959</td>\n",
       "      <td>4249.318020</td>\n",
       "      <td>23</td>\n",
       "    </tr>\n",
       "    <tr>\n",
       "      <th>198</th>\n",
       "      <td>2023-10-24 23:50:00</td>\n",
       "      <td>4247.5</td>\n",
       "      <td>4247.6</td>\n",
       "      <td>4245.5</td>\n",
       "      <td>4246.0</td>\n",
       "      <td>141</td>\n",
       "      <td>2</td>\n",
       "      <td>0</td>\n",
       "      <td>10</td>\n",
       "      <td>4248.423820</td>\n",
       "      <td>4248.714744</td>\n",
       "      <td>23</td>\n",
       "    </tr>\n",
       "    <tr>\n",
       "      <th>199</th>\n",
       "      <td>2023-10-24 23:55:00</td>\n",
       "      <td>4245.9</td>\n",
       "      <td>4247.4</td>\n",
       "      <td>4244.9</td>\n",
       "      <td>4247.1</td>\n",
       "      <td>151</td>\n",
       "      <td>2</td>\n",
       "      <td>0</td>\n",
       "      <td>10</td>\n",
       "      <td>4248.297742</td>\n",
       "      <td>4248.421154</td>\n",
       "      <td>23</td>\n",
       "    </tr>\n",
       "  </tbody>\n",
       "</table>\n",
       "<p>200 rows × 12 columns</p>\n",
       "</div>"
      ],
      "text/plain": [
       "                   time    open    high     low   close  tick_volume  spread  \\\n",
       "0   2023-10-24 07:20:00  4228.6  4229.1  4228.1  4228.6           96       2   \n",
       "1   2023-10-24 07:25:00  4228.3  4228.3  4227.1  4227.3           42       3   \n",
       "2   2023-10-24 07:30:00  4227.1  4227.8  4226.9  4227.8           36       2   \n",
       "3   2023-10-24 07:35:00  4227.5  4228.3  4227.5  4228.3           47       2   \n",
       "4   2023-10-24 07:40:00  4228.4  4228.6  4228.3  4228.6           39       3   \n",
       "..                  ...     ...     ...     ...     ...          ...     ...   \n",
       "195 2023-10-24 23:35:00  4249.7  4249.9  4248.1  4249.4          174       2   \n",
       "196 2023-10-24 23:40:00  4249.1  4250.6  4248.6  4249.1           90       1   \n",
       "197 2023-10-24 23:45:00  4249.0  4249.1  4245.6  4247.4           94       1   \n",
       "198 2023-10-24 23:50:00  4247.5  4247.6  4245.5  4246.0          141       2   \n",
       "199 2023-10-24 23:55:00  4245.9  4247.4  4244.9  4247.1          151       2   \n",
       "\n",
       "     real_volume  trade_volume       ema_20       ema_10  hour  \n",
       "0              0            10  4228.600000  4228.600000     7  \n",
       "1              0            10  4227.917500  4227.885000     7  \n",
       "2              0            10  4227.874355  4227.850831     7  \n",
       "3              0            10  4227.997232  4227.998812     7  \n",
       "4              0            10  4228.143036  4228.171397     7  \n",
       "..           ...           ...          ...          ...   ...  \n",
       "195            0            10  4248.783438  4249.887413    23  \n",
       "196            0            10  4248.813587  4249.744247    23  \n",
       "197            0            10  4248.678959  4249.318020    23  \n",
       "198            0            10  4248.423820  4248.714744    23  \n",
       "199            0            10  4248.297742  4248.421154    23  \n",
       "\n",
       "[200 rows x 12 columns]"
      ]
     },
     "execution_count": 3,
     "metadata": {},
     "output_type": "execute_result"
    }
   ],
   "source": [
    "bars['ema_20'] = bars['close'].ewm(span=20).mean()\n",
    "bars['ema_10'] = bars['close'].ewm(span=10).mean()\n",
    "bars['hour'] = bars['time'].dt.hour\n",
    "bars"
   ]
  },
  {
   "cell_type": "code",
   "execution_count": 4,
   "metadata": {},
   "outputs": [
    {
     "data": {
      "text/html": [
       "<div>\n",
       "<style scoped>\n",
       "    .dataframe tbody tr th:only-of-type {\n",
       "        vertical-align: middle;\n",
       "    }\n",
       "\n",
       "    .dataframe tbody tr th {\n",
       "        vertical-align: top;\n",
       "    }\n",
       "\n",
       "    .dataframe thead th {\n",
       "        text-align: right;\n",
       "    }\n",
       "</style>\n",
       "<table border=\"1\" class=\"dataframe\">\n",
       "  <thead>\n",
       "    <tr style=\"text-align: right;\">\n",
       "      <th></th>\n",
       "      <th>time</th>\n",
       "      <th>open</th>\n",
       "      <th>high</th>\n",
       "      <th>low</th>\n",
       "      <th>close</th>\n",
       "      <th>tick_volume</th>\n",
       "      <th>spread</th>\n",
       "      <th>real_volume</th>\n",
       "      <th>trade_volume</th>\n",
       "      <th>ema_20</th>\n",
       "      <th>ema_10</th>\n",
       "      <th>hour</th>\n",
       "      <th>signal</th>\n",
       "      <th>prev_price</th>\n",
       "      <th>price_change</th>\n",
       "      <th>signal_change</th>\n",
       "      <th>commission</th>\n",
       "    </tr>\n",
       "  </thead>\n",
       "  <tbody>\n",
       "    <tr>\n",
       "      <th>0</th>\n",
       "      <td>2023-10-24 07:20:00</td>\n",
       "      <td>4228.6</td>\n",
       "      <td>4229.1</td>\n",
       "      <td>4228.1</td>\n",
       "      <td>4228.6</td>\n",
       "      <td>96</td>\n",
       "      <td>2</td>\n",
       "      <td>0</td>\n",
       "      <td>10</td>\n",
       "      <td>4228.600000</td>\n",
       "      <td>4228.600000</td>\n",
       "      <td>7</td>\n",
       "      <td>0</td>\n",
       "      <td>NaN</td>\n",
       "      <td>NaN</td>\n",
       "      <td>NaN</td>\n",
       "      <td>NaN</td>\n",
       "    </tr>\n",
       "    <tr>\n",
       "      <th>1</th>\n",
       "      <td>2023-10-24 07:25:00</td>\n",
       "      <td>4228.3</td>\n",
       "      <td>4228.3</td>\n",
       "      <td>4227.1</td>\n",
       "      <td>4227.3</td>\n",
       "      <td>42</td>\n",
       "      <td>3</td>\n",
       "      <td>0</td>\n",
       "      <td>10</td>\n",
       "      <td>4227.917500</td>\n",
       "      <td>4227.885000</td>\n",
       "      <td>7</td>\n",
       "      <td>0</td>\n",
       "      <td>4228.6</td>\n",
       "      <td>-1.3</td>\n",
       "      <td>0.0</td>\n",
       "      <td>0.0</td>\n",
       "    </tr>\n",
       "    <tr>\n",
       "      <th>2</th>\n",
       "      <td>2023-10-24 07:30:00</td>\n",
       "      <td>4227.1</td>\n",
       "      <td>4227.8</td>\n",
       "      <td>4226.9</td>\n",
       "      <td>4227.8</td>\n",
       "      <td>36</td>\n",
       "      <td>2</td>\n",
       "      <td>0</td>\n",
       "      <td>10</td>\n",
       "      <td>4227.874355</td>\n",
       "      <td>4227.850831</td>\n",
       "      <td>7</td>\n",
       "      <td>0</td>\n",
       "      <td>4227.3</td>\n",
       "      <td>0.5</td>\n",
       "      <td>0.0</td>\n",
       "      <td>0.0</td>\n",
       "    </tr>\n",
       "    <tr>\n",
       "      <th>3</th>\n",
       "      <td>2023-10-24 07:35:00</td>\n",
       "      <td>4227.5</td>\n",
       "      <td>4228.3</td>\n",
       "      <td>4227.5</td>\n",
       "      <td>4228.3</td>\n",
       "      <td>47</td>\n",
       "      <td>2</td>\n",
       "      <td>0</td>\n",
       "      <td>10</td>\n",
       "      <td>4227.997232</td>\n",
       "      <td>4227.998812</td>\n",
       "      <td>7</td>\n",
       "      <td>0</td>\n",
       "      <td>4227.8</td>\n",
       "      <td>0.5</td>\n",
       "      <td>0.0</td>\n",
       "      <td>0.0</td>\n",
       "    </tr>\n",
       "    <tr>\n",
       "      <th>4</th>\n",
       "      <td>2023-10-24 07:40:00</td>\n",
       "      <td>4228.4</td>\n",
       "      <td>4228.6</td>\n",
       "      <td>4228.3</td>\n",
       "      <td>4228.6</td>\n",
       "      <td>39</td>\n",
       "      <td>3</td>\n",
       "      <td>0</td>\n",
       "      <td>10</td>\n",
       "      <td>4228.143036</td>\n",
       "      <td>4228.171397</td>\n",
       "      <td>7</td>\n",
       "      <td>0</td>\n",
       "      <td>4228.3</td>\n",
       "      <td>0.3</td>\n",
       "      <td>0.0</td>\n",
       "      <td>0.0</td>\n",
       "    </tr>\n",
       "    <tr>\n",
       "      <th>...</th>\n",
       "      <td>...</td>\n",
       "      <td>...</td>\n",
       "      <td>...</td>\n",
       "      <td>...</td>\n",
       "      <td>...</td>\n",
       "      <td>...</td>\n",
       "      <td>...</td>\n",
       "      <td>...</td>\n",
       "      <td>...</td>\n",
       "      <td>...</td>\n",
       "      <td>...</td>\n",
       "      <td>...</td>\n",
       "      <td>...</td>\n",
       "      <td>...</td>\n",
       "      <td>...</td>\n",
       "      <td>...</td>\n",
       "      <td>...</td>\n",
       "    </tr>\n",
       "    <tr>\n",
       "      <th>195</th>\n",
       "      <td>2023-10-24 23:35:00</td>\n",
       "      <td>4249.7</td>\n",
       "      <td>4249.9</td>\n",
       "      <td>4248.1</td>\n",
       "      <td>4249.4</td>\n",
       "      <td>174</td>\n",
       "      <td>2</td>\n",
       "      <td>0</td>\n",
       "      <td>10</td>\n",
       "      <td>4248.783438</td>\n",
       "      <td>4249.887413</td>\n",
       "      <td>23</td>\n",
       "      <td>0</td>\n",
       "      <td>4249.6</td>\n",
       "      <td>-0.2</td>\n",
       "      <td>0.0</td>\n",
       "      <td>0.0</td>\n",
       "    </tr>\n",
       "    <tr>\n",
       "      <th>196</th>\n",
       "      <td>2023-10-24 23:40:00</td>\n",
       "      <td>4249.1</td>\n",
       "      <td>4250.6</td>\n",
       "      <td>4248.6</td>\n",
       "      <td>4249.1</td>\n",
       "      <td>90</td>\n",
       "      <td>1</td>\n",
       "      <td>0</td>\n",
       "      <td>10</td>\n",
       "      <td>4248.813587</td>\n",
       "      <td>4249.744247</td>\n",
       "      <td>23</td>\n",
       "      <td>0</td>\n",
       "      <td>4249.4</td>\n",
       "      <td>-0.3</td>\n",
       "      <td>0.0</td>\n",
       "      <td>0.0</td>\n",
       "    </tr>\n",
       "    <tr>\n",
       "      <th>197</th>\n",
       "      <td>2023-10-24 23:45:00</td>\n",
       "      <td>4249.0</td>\n",
       "      <td>4249.1</td>\n",
       "      <td>4245.6</td>\n",
       "      <td>4247.4</td>\n",
       "      <td>94</td>\n",
       "      <td>1</td>\n",
       "      <td>0</td>\n",
       "      <td>10</td>\n",
       "      <td>4248.678959</td>\n",
       "      <td>4249.318020</td>\n",
       "      <td>23</td>\n",
       "      <td>0</td>\n",
       "      <td>4249.1</td>\n",
       "      <td>-1.7</td>\n",
       "      <td>0.0</td>\n",
       "      <td>0.0</td>\n",
       "    </tr>\n",
       "    <tr>\n",
       "      <th>198</th>\n",
       "      <td>2023-10-24 23:50:00</td>\n",
       "      <td>4247.5</td>\n",
       "      <td>4247.6</td>\n",
       "      <td>4245.5</td>\n",
       "      <td>4246.0</td>\n",
       "      <td>141</td>\n",
       "      <td>2</td>\n",
       "      <td>0</td>\n",
       "      <td>10</td>\n",
       "      <td>4248.423820</td>\n",
       "      <td>4248.714744</td>\n",
       "      <td>23</td>\n",
       "      <td>0</td>\n",
       "      <td>4247.4</td>\n",
       "      <td>-1.4</td>\n",
       "      <td>0.0</td>\n",
       "      <td>0.0</td>\n",
       "    </tr>\n",
       "    <tr>\n",
       "      <th>199</th>\n",
       "      <td>2023-10-24 23:55:00</td>\n",
       "      <td>4245.9</td>\n",
       "      <td>4247.4</td>\n",
       "      <td>4244.9</td>\n",
       "      <td>4247.1</td>\n",
       "      <td>151</td>\n",
       "      <td>2</td>\n",
       "      <td>0</td>\n",
       "      <td>10</td>\n",
       "      <td>4248.297742</td>\n",
       "      <td>4248.421154</td>\n",
       "      <td>23</td>\n",
       "      <td>0</td>\n",
       "      <td>4246.0</td>\n",
       "      <td>1.1</td>\n",
       "      <td>0.0</td>\n",
       "      <td>0.0</td>\n",
       "    </tr>\n",
       "  </tbody>\n",
       "</table>\n",
       "<p>200 rows × 17 columns</p>\n",
       "</div>"
      ],
      "text/plain": [
       "                   time    open    high     low   close  tick_volume  spread  \\\n",
       "0   2023-10-24 07:20:00  4228.6  4229.1  4228.1  4228.6           96       2   \n",
       "1   2023-10-24 07:25:00  4228.3  4228.3  4227.1  4227.3           42       3   \n",
       "2   2023-10-24 07:30:00  4227.1  4227.8  4226.9  4227.8           36       2   \n",
       "3   2023-10-24 07:35:00  4227.5  4228.3  4227.5  4228.3           47       2   \n",
       "4   2023-10-24 07:40:00  4228.4  4228.6  4228.3  4228.6           39       3   \n",
       "..                  ...     ...     ...     ...     ...          ...     ...   \n",
       "195 2023-10-24 23:35:00  4249.7  4249.9  4248.1  4249.4          174       2   \n",
       "196 2023-10-24 23:40:00  4249.1  4250.6  4248.6  4249.1           90       1   \n",
       "197 2023-10-24 23:45:00  4249.0  4249.1  4245.6  4247.4           94       1   \n",
       "198 2023-10-24 23:50:00  4247.5  4247.6  4245.5  4246.0          141       2   \n",
       "199 2023-10-24 23:55:00  4245.9  4247.4  4244.9  4247.1          151       2   \n",
       "\n",
       "     real_volume  trade_volume       ema_20       ema_10  hour  signal  \\\n",
       "0              0            10  4228.600000  4228.600000     7       0   \n",
       "1              0            10  4227.917500  4227.885000     7       0   \n",
       "2              0            10  4227.874355  4227.850831     7       0   \n",
       "3              0            10  4227.997232  4227.998812     7       0   \n",
       "4              0            10  4228.143036  4228.171397     7       0   \n",
       "..           ...           ...          ...          ...   ...     ...   \n",
       "195            0            10  4248.783438  4249.887413    23       0   \n",
       "196            0            10  4248.813587  4249.744247    23       0   \n",
       "197            0            10  4248.678959  4249.318020    23       0   \n",
       "198            0            10  4248.423820  4248.714744    23       0   \n",
       "199            0            10  4248.297742  4248.421154    23       0   \n",
       "\n",
       "     prev_price  price_change  signal_change  commission  \n",
       "0           NaN           NaN            NaN         NaN  \n",
       "1        4228.6          -1.3            0.0         0.0  \n",
       "2        4227.3           0.5            0.0         0.0  \n",
       "3        4227.8           0.5            0.0         0.0  \n",
       "4        4228.3           0.3            0.0         0.0  \n",
       "..          ...           ...            ...         ...  \n",
       "195      4249.6          -0.2            0.0         0.0  \n",
       "196      4249.4          -0.3            0.0         0.0  \n",
       "197      4249.1          -1.7            0.0         0.0  \n",
       "198      4247.4          -1.4            0.0         0.0  \n",
       "199      4246.0           1.1            0.0         0.0  \n",
       "\n",
       "[200 rows x 17 columns]"
      ]
     },
     "execution_count": 4,
     "metadata": {},
     "output_type": "execute_result"
    }
   ],
   "source": [
    "bars2 = bars.dropna().copy()\n",
    "\n",
    "def get_signal(x):\n",
    "\n",
    "    if 9 <= x['hour'] <= 22:\n",
    "\n",
    "        if x['ema_10'] > x['ema_20']:\n",
    "            x[\"position\"] = \"long\"\n",
    "            return 1\n",
    "        elif x['ema_10'] < x['ema_20']:\n",
    "            x[\"position\"] = \"short\"\n",
    "            return -1\n",
    "\n",
    "    return 0\n",
    "\n",
    "bars2['signal'] = bars2.apply(get_signal, axis=1)\n",
    "bars2['prev_price'] = bars2['close'].shift(1)\n",
    "bars2['price_change'] = bars2['close'] - bars2['prev_price']\n",
    "\n",
    "bars2['signal_change'] = (bars2['signal'] - bars2['signal'].shift(1)).abs()\n",
    "bars2['commission'] = bars2.apply(lambda x: commission * x['signal_change'] * x['trade_volume'], axis=1)\n",
    "bars2"
   ]
  },
  {
   "cell_type": "code",
   "execution_count": 5,
   "metadata": {},
   "outputs": [
    {
     "data": {
      "text/html": [
       "<div>\n",
       "<style scoped>\n",
       "    .dataframe tbody tr th:only-of-type {\n",
       "        vertical-align: middle;\n",
       "    }\n",
       "\n",
       "    .dataframe tbody tr th {\n",
       "        vertical-align: top;\n",
       "    }\n",
       "\n",
       "    .dataframe thead th {\n",
       "        text-align: right;\n",
       "    }\n",
       "</style>\n",
       "<table border=\"1\" class=\"dataframe\">\n",
       "  <thead>\n",
       "    <tr style=\"text-align: right;\">\n",
       "      <th></th>\n",
       "      <th>time</th>\n",
       "      <th>open</th>\n",
       "      <th>high</th>\n",
       "      <th>low</th>\n",
       "      <th>close</th>\n",
       "      <th>tick_volume</th>\n",
       "      <th>spread</th>\n",
       "      <th>real_volume</th>\n",
       "      <th>trade_volume</th>\n",
       "      <th>ema_20</th>\n",
       "      <th>ema_10</th>\n",
       "      <th>hour</th>\n",
       "      <th>signal</th>\n",
       "      <th>prev_price</th>\n",
       "      <th>price_change</th>\n",
       "      <th>signal_change</th>\n",
       "      <th>commission</th>\n",
       "      <th>profit</th>\n",
       "      <th>gross_profit</th>\n",
       "      <th>net_profit</th>\n",
       "    </tr>\n",
       "  </thead>\n",
       "  <tbody>\n",
       "    <tr>\n",
       "      <th>1</th>\n",
       "      <td>2023-10-24 07:25:00</td>\n",
       "      <td>4228.3</td>\n",
       "      <td>4228.3</td>\n",
       "      <td>4227.1</td>\n",
       "      <td>4227.3</td>\n",
       "      <td>42</td>\n",
       "      <td>3</td>\n",
       "      <td>0</td>\n",
       "      <td>10</td>\n",
       "      <td>4227.917500</td>\n",
       "      <td>4227.885000</td>\n",
       "      <td>7</td>\n",
       "      <td>0</td>\n",
       "      <td>4228.6</td>\n",
       "      <td>-1.3</td>\n",
       "      <td>0.0</td>\n",
       "      <td>0.0</td>\n",
       "      <td>-0.0</td>\n",
       "      <td>-0.0</td>\n",
       "      <td>-0.0</td>\n",
       "    </tr>\n",
       "    <tr>\n",
       "      <th>2</th>\n",
       "      <td>2023-10-24 07:30:00</td>\n",
       "      <td>4227.1</td>\n",
       "      <td>4227.8</td>\n",
       "      <td>4226.9</td>\n",
       "      <td>4227.8</td>\n",
       "      <td>36</td>\n",
       "      <td>2</td>\n",
       "      <td>0</td>\n",
       "      <td>10</td>\n",
       "      <td>4227.874355</td>\n",
       "      <td>4227.850831</td>\n",
       "      <td>7</td>\n",
       "      <td>0</td>\n",
       "      <td>4227.3</td>\n",
       "      <td>0.5</td>\n",
       "      <td>0.0</td>\n",
       "      <td>0.0</td>\n",
       "      <td>0.0</td>\n",
       "      <td>0.0</td>\n",
       "      <td>0.0</td>\n",
       "    </tr>\n",
       "    <tr>\n",
       "      <th>3</th>\n",
       "      <td>2023-10-24 07:35:00</td>\n",
       "      <td>4227.5</td>\n",
       "      <td>4228.3</td>\n",
       "      <td>4227.5</td>\n",
       "      <td>4228.3</td>\n",
       "      <td>47</td>\n",
       "      <td>2</td>\n",
       "      <td>0</td>\n",
       "      <td>10</td>\n",
       "      <td>4227.997232</td>\n",
       "      <td>4227.998812</td>\n",
       "      <td>7</td>\n",
       "      <td>0</td>\n",
       "      <td>4227.8</td>\n",
       "      <td>0.5</td>\n",
       "      <td>0.0</td>\n",
       "      <td>0.0</td>\n",
       "      <td>0.0</td>\n",
       "      <td>0.0</td>\n",
       "      <td>0.0</td>\n",
       "    </tr>\n",
       "    <tr>\n",
       "      <th>4</th>\n",
       "      <td>2023-10-24 07:40:00</td>\n",
       "      <td>4228.4</td>\n",
       "      <td>4228.6</td>\n",
       "      <td>4228.3</td>\n",
       "      <td>4228.6</td>\n",
       "      <td>39</td>\n",
       "      <td>3</td>\n",
       "      <td>0</td>\n",
       "      <td>10</td>\n",
       "      <td>4228.143036</td>\n",
       "      <td>4228.171397</td>\n",
       "      <td>7</td>\n",
       "      <td>0</td>\n",
       "      <td>4228.3</td>\n",
       "      <td>0.3</td>\n",
       "      <td>0.0</td>\n",
       "      <td>0.0</td>\n",
       "      <td>0.0</td>\n",
       "      <td>0.0</td>\n",
       "      <td>0.0</td>\n",
       "    </tr>\n",
       "    <tr>\n",
       "      <th>5</th>\n",
       "      <td>2023-10-24 07:45:00</td>\n",
       "      <td>4228.7</td>\n",
       "      <td>4229.3</td>\n",
       "      <td>4228.3</td>\n",
       "      <td>4229.1</td>\n",
       "      <td>32</td>\n",
       "      <td>3</td>\n",
       "      <td>0</td>\n",
       "      <td>10</td>\n",
       "      <td>4228.344912</td>\n",
       "      <td>4228.412587</td>\n",
       "      <td>7</td>\n",
       "      <td>0</td>\n",
       "      <td>4228.6</td>\n",
       "      <td>0.5</td>\n",
       "      <td>0.0</td>\n",
       "      <td>0.0</td>\n",
       "      <td>0.0</td>\n",
       "      <td>0.0</td>\n",
       "      <td>0.0</td>\n",
       "    </tr>\n",
       "    <tr>\n",
       "      <th>...</th>\n",
       "      <td>...</td>\n",
       "      <td>...</td>\n",
       "      <td>...</td>\n",
       "      <td>...</td>\n",
       "      <td>...</td>\n",
       "      <td>...</td>\n",
       "      <td>...</td>\n",
       "      <td>...</td>\n",
       "      <td>...</td>\n",
       "      <td>...</td>\n",
       "      <td>...</td>\n",
       "      <td>...</td>\n",
       "      <td>...</td>\n",
       "      <td>...</td>\n",
       "      <td>...</td>\n",
       "      <td>...</td>\n",
       "      <td>...</td>\n",
       "      <td>...</td>\n",
       "      <td>...</td>\n",
       "      <td>...</td>\n",
       "    </tr>\n",
       "    <tr>\n",
       "      <th>195</th>\n",
       "      <td>2023-10-24 23:35:00</td>\n",
       "      <td>4249.7</td>\n",
       "      <td>4249.9</td>\n",
       "      <td>4248.1</td>\n",
       "      <td>4249.4</td>\n",
       "      <td>174</td>\n",
       "      <td>2</td>\n",
       "      <td>0</td>\n",
       "      <td>10</td>\n",
       "      <td>4248.783438</td>\n",
       "      <td>4249.887413</td>\n",
       "      <td>23</td>\n",
       "      <td>0</td>\n",
       "      <td>4249.6</td>\n",
       "      <td>-0.2</td>\n",
       "      <td>0.0</td>\n",
       "      <td>0.0</td>\n",
       "      <td>-0.0</td>\n",
       "      <td>344.0</td>\n",
       "      <td>309.0</td>\n",
       "    </tr>\n",
       "    <tr>\n",
       "      <th>196</th>\n",
       "      <td>2023-10-24 23:40:00</td>\n",
       "      <td>4249.1</td>\n",
       "      <td>4250.6</td>\n",
       "      <td>4248.6</td>\n",
       "      <td>4249.1</td>\n",
       "      <td>90</td>\n",
       "      <td>1</td>\n",
       "      <td>0</td>\n",
       "      <td>10</td>\n",
       "      <td>4248.813587</td>\n",
       "      <td>4249.744247</td>\n",
       "      <td>23</td>\n",
       "      <td>0</td>\n",
       "      <td>4249.4</td>\n",
       "      <td>-0.3</td>\n",
       "      <td>0.0</td>\n",
       "      <td>0.0</td>\n",
       "      <td>-0.0</td>\n",
       "      <td>344.0</td>\n",
       "      <td>309.0</td>\n",
       "    </tr>\n",
       "    <tr>\n",
       "      <th>197</th>\n",
       "      <td>2023-10-24 23:45:00</td>\n",
       "      <td>4249.0</td>\n",
       "      <td>4249.1</td>\n",
       "      <td>4245.6</td>\n",
       "      <td>4247.4</td>\n",
       "      <td>94</td>\n",
       "      <td>1</td>\n",
       "      <td>0</td>\n",
       "      <td>10</td>\n",
       "      <td>4248.678959</td>\n",
       "      <td>4249.318020</td>\n",
       "      <td>23</td>\n",
       "      <td>0</td>\n",
       "      <td>4249.1</td>\n",
       "      <td>-1.7</td>\n",
       "      <td>0.0</td>\n",
       "      <td>0.0</td>\n",
       "      <td>-0.0</td>\n",
       "      <td>344.0</td>\n",
       "      <td>309.0</td>\n",
       "    </tr>\n",
       "    <tr>\n",
       "      <th>198</th>\n",
       "      <td>2023-10-24 23:50:00</td>\n",
       "      <td>4247.5</td>\n",
       "      <td>4247.6</td>\n",
       "      <td>4245.5</td>\n",
       "      <td>4246.0</td>\n",
       "      <td>141</td>\n",
       "      <td>2</td>\n",
       "      <td>0</td>\n",
       "      <td>10</td>\n",
       "      <td>4248.423820</td>\n",
       "      <td>4248.714744</td>\n",
       "      <td>23</td>\n",
       "      <td>0</td>\n",
       "      <td>4247.4</td>\n",
       "      <td>-1.4</td>\n",
       "      <td>0.0</td>\n",
       "      <td>0.0</td>\n",
       "      <td>-0.0</td>\n",
       "      <td>344.0</td>\n",
       "      <td>309.0</td>\n",
       "    </tr>\n",
       "    <tr>\n",
       "      <th>199</th>\n",
       "      <td>2023-10-24 23:55:00</td>\n",
       "      <td>4245.9</td>\n",
       "      <td>4247.4</td>\n",
       "      <td>4244.9</td>\n",
       "      <td>4247.1</td>\n",
       "      <td>151</td>\n",
       "      <td>2</td>\n",
       "      <td>0</td>\n",
       "      <td>10</td>\n",
       "      <td>4248.297742</td>\n",
       "      <td>4248.421154</td>\n",
       "      <td>23</td>\n",
       "      <td>0</td>\n",
       "      <td>4246.0</td>\n",
       "      <td>1.1</td>\n",
       "      <td>0.0</td>\n",
       "      <td>0.0</td>\n",
       "      <td>0.0</td>\n",
       "      <td>344.0</td>\n",
       "      <td>309.0</td>\n",
       "    </tr>\n",
       "  </tbody>\n",
       "</table>\n",
       "<p>199 rows × 20 columns</p>\n",
       "</div>"
      ],
      "text/plain": [
       "                   time    open    high     low   close  tick_volume  spread  \\\n",
       "1   2023-10-24 07:25:00  4228.3  4228.3  4227.1  4227.3           42       3   \n",
       "2   2023-10-24 07:30:00  4227.1  4227.8  4226.9  4227.8           36       2   \n",
       "3   2023-10-24 07:35:00  4227.5  4228.3  4227.5  4228.3           47       2   \n",
       "4   2023-10-24 07:40:00  4228.4  4228.6  4228.3  4228.6           39       3   \n",
       "5   2023-10-24 07:45:00  4228.7  4229.3  4228.3  4229.1           32       3   \n",
       "..                  ...     ...     ...     ...     ...          ...     ...   \n",
       "195 2023-10-24 23:35:00  4249.7  4249.9  4248.1  4249.4          174       2   \n",
       "196 2023-10-24 23:40:00  4249.1  4250.6  4248.6  4249.1           90       1   \n",
       "197 2023-10-24 23:45:00  4249.0  4249.1  4245.6  4247.4           94       1   \n",
       "198 2023-10-24 23:50:00  4247.5  4247.6  4245.5  4246.0          141       2   \n",
       "199 2023-10-24 23:55:00  4245.9  4247.4  4244.9  4247.1          151       2   \n",
       "\n",
       "     real_volume  trade_volume       ema_20       ema_10  hour  signal  \\\n",
       "1              0            10  4227.917500  4227.885000     7       0   \n",
       "2              0            10  4227.874355  4227.850831     7       0   \n",
       "3              0            10  4227.997232  4227.998812     7       0   \n",
       "4              0            10  4228.143036  4228.171397     7       0   \n",
       "5              0            10  4228.344912  4228.412587     7       0   \n",
       "..           ...           ...          ...          ...   ...     ...   \n",
       "195            0            10  4248.783438  4249.887413    23       0   \n",
       "196            0            10  4248.813587  4249.744247    23       0   \n",
       "197            0            10  4248.678959  4249.318020    23       0   \n",
       "198            0            10  4248.423820  4248.714744    23       0   \n",
       "199            0            10  4248.297742  4248.421154    23       0   \n",
       "\n",
       "     prev_price  price_change  signal_change  commission  profit  \\\n",
       "1        4228.6          -1.3            0.0         0.0    -0.0   \n",
       "2        4227.3           0.5            0.0         0.0     0.0   \n",
       "3        4227.8           0.5            0.0         0.0     0.0   \n",
       "4        4228.3           0.3            0.0         0.0     0.0   \n",
       "5        4228.6           0.5            0.0         0.0     0.0   \n",
       "..          ...           ...            ...         ...     ...   \n",
       "195      4249.6          -0.2            0.0         0.0    -0.0   \n",
       "196      4249.4          -0.3            0.0         0.0    -0.0   \n",
       "197      4249.1          -1.7            0.0         0.0    -0.0   \n",
       "198      4247.4          -1.4            0.0         0.0    -0.0   \n",
       "199      4246.0           1.1            0.0         0.0     0.0   \n",
       "\n",
       "     gross_profit  net_profit  \n",
       "1            -0.0        -0.0  \n",
       "2             0.0         0.0  \n",
       "3             0.0         0.0  \n",
       "4             0.0         0.0  \n",
       "5             0.0         0.0  \n",
       "..            ...         ...  \n",
       "195         344.0       309.0  \n",
       "196         344.0       309.0  \n",
       "197         344.0       309.0  \n",
       "198         344.0       309.0  \n",
       "199         344.0       309.0  \n",
       "\n",
       "[199 rows x 20 columns]"
      ]
     },
     "execution_count": 5,
     "metadata": {},
     "output_type": "execute_result"
    }
   ],
   "source": [
    "bars3 = bars2.dropna().copy()\n",
    "bars3['profit'] = bars3['signal'] * bars3['price_change'] * bars3['trade_volume']\n",
    "bars3['gross_profit'] = bars3['profit'].cumsum()\n",
    "bars3['net_profit'] = bars3['gross_profit'] - bars3['commission'].cumsum()\n",
    "\n",
    "\n",
    "bars3"
   ]
  },
  {
   "cell_type": "code",
   "execution_count": 6,
   "metadata": {},
   "outputs": [
    {
     "name": "stderr",
     "output_type": "stream",
     "text": [
      "c:\\Users\\praveenjaisankar\\AppData\\Local\\pypoetry\\Cache\\virtualenvs\\metatrader-Cdlomroj-py3.10\\lib\\site-packages\\_plotly_utils\\basevalidators.py:105: FutureWarning: The behavior of DatetimeProperties.to_pydatetime is deprecated, in a future version this will return a Series containing python datetime objects instead of an ndarray. To retain the old behavior, call `np.array` on the result\n",
      "  v = v.dt.to_pydatetime()\n"
     ]
    },
    {
     "data": {
      "application/vnd.plotly.v1+json": {
       "config": {
        "plotlyServerURL": "https://plot.ly"
       },
       "data": [
        {
         "hovertemplate": "variable=gross_profit<br>time=%{x}<br>value=%{y}<extra></extra>",
         "legendgroup": "gross_profit",
         "line": {
          "color": "#636efa",
          "dash": "solid"
         },
         "marker": {
          "symbol": "circle"
         },
         "mode": "lines",
         "name": "gross_profit",
         "orientation": "v",
         "showlegend": true,
         "type": "scatter",
         "x": [
          "2023-10-24T07:25:00",
          "2023-10-24T07:30:00",
          "2023-10-24T07:35:00",
          "2023-10-24T07:40:00",
          "2023-10-24T07:45:00",
          "2023-10-24T07:50:00",
          "2023-10-24T07:55:00",
          "2023-10-24T08:00:00",
          "2023-10-24T08:05:00",
          "2023-10-24T08:10:00",
          "2023-10-24T08:15:00",
          "2023-10-24T08:20:00",
          "2023-10-24T08:25:00",
          "2023-10-24T08:30:00",
          "2023-10-24T08:35:00",
          "2023-10-24T08:40:00",
          "2023-10-24T08:45:00",
          "2023-10-24T08:50:00",
          "2023-10-24T08:55:00",
          "2023-10-24T09:00:00",
          "2023-10-24T09:05:00",
          "2023-10-24T09:10:00",
          "2023-10-24T09:15:00",
          "2023-10-24T09:20:00",
          "2023-10-24T09:25:00",
          "2023-10-24T09:30:00",
          "2023-10-24T09:35:00",
          "2023-10-24T09:40:00",
          "2023-10-24T09:45:00",
          "2023-10-24T09:50:00",
          "2023-10-24T09:55:00",
          "2023-10-24T10:00:00",
          "2023-10-24T10:05:00",
          "2023-10-24T10:10:00",
          "2023-10-24T10:15:00",
          "2023-10-24T10:20:00",
          "2023-10-24T10:25:00",
          "2023-10-24T10:30:00",
          "2023-10-24T10:35:00",
          "2023-10-24T10:40:00",
          "2023-10-24T10:45:00",
          "2023-10-24T10:50:00",
          "2023-10-24T10:55:00",
          "2023-10-24T11:00:00",
          "2023-10-24T11:05:00",
          "2023-10-24T11:10:00",
          "2023-10-24T11:15:00",
          "2023-10-24T11:20:00",
          "2023-10-24T11:25:00",
          "2023-10-24T11:30:00",
          "2023-10-24T11:35:00",
          "2023-10-24T11:40:00",
          "2023-10-24T11:45:00",
          "2023-10-24T11:50:00",
          "2023-10-24T11:55:00",
          "2023-10-24T12:00:00",
          "2023-10-24T12:05:00",
          "2023-10-24T12:10:00",
          "2023-10-24T12:15:00",
          "2023-10-24T12:20:00",
          "2023-10-24T12:25:00",
          "2023-10-24T12:30:00",
          "2023-10-24T12:35:00",
          "2023-10-24T12:40:00",
          "2023-10-24T12:45:00",
          "2023-10-24T12:50:00",
          "2023-10-24T12:55:00",
          "2023-10-24T13:00:00",
          "2023-10-24T13:05:00",
          "2023-10-24T13:10:00",
          "2023-10-24T13:15:00",
          "2023-10-24T13:20:00",
          "2023-10-24T13:25:00",
          "2023-10-24T13:30:00",
          "2023-10-24T13:35:00",
          "2023-10-24T13:40:00",
          "2023-10-24T13:45:00",
          "2023-10-24T13:50:00",
          "2023-10-24T13:55:00",
          "2023-10-24T14:00:00",
          "2023-10-24T14:05:00",
          "2023-10-24T14:10:00",
          "2023-10-24T14:15:00",
          "2023-10-24T14:20:00",
          "2023-10-24T14:25:00",
          "2023-10-24T14:30:00",
          "2023-10-24T14:35:00",
          "2023-10-24T14:40:00",
          "2023-10-24T14:45:00",
          "2023-10-24T14:50:00",
          "2023-10-24T14:55:00",
          "2023-10-24T15:00:00",
          "2023-10-24T15:05:00",
          "2023-10-24T15:10:00",
          "2023-10-24T15:15:00",
          "2023-10-24T15:20:00",
          "2023-10-24T15:25:00",
          "2023-10-24T15:30:00",
          "2023-10-24T15:35:00",
          "2023-10-24T15:40:00",
          "2023-10-24T15:45:00",
          "2023-10-24T15:50:00",
          "2023-10-24T15:55:00",
          "2023-10-24T16:00:00",
          "2023-10-24T16:05:00",
          "2023-10-24T16:10:00",
          "2023-10-24T16:15:00",
          "2023-10-24T16:20:00",
          "2023-10-24T16:25:00",
          "2023-10-24T16:30:00",
          "2023-10-24T16:35:00",
          "2023-10-24T16:40:00",
          "2023-10-24T16:45:00",
          "2023-10-24T16:50:00",
          "2023-10-24T16:55:00",
          "2023-10-24T17:00:00",
          "2023-10-24T17:05:00",
          "2023-10-24T17:10:00",
          "2023-10-24T17:15:00",
          "2023-10-24T17:20:00",
          "2023-10-24T17:25:00",
          "2023-10-24T17:30:00",
          "2023-10-24T17:35:00",
          "2023-10-24T17:40:00",
          "2023-10-24T17:45:00",
          "2023-10-24T17:50:00",
          "2023-10-24T17:55:00",
          "2023-10-24T18:00:00",
          "2023-10-24T18:05:00",
          "2023-10-24T18:10:00",
          "2023-10-24T18:15:00",
          "2023-10-24T18:20:00",
          "2023-10-24T18:25:00",
          "2023-10-24T18:30:00",
          "2023-10-24T18:35:00",
          "2023-10-24T18:40:00",
          "2023-10-24T18:45:00",
          "2023-10-24T18:50:00",
          "2023-10-24T18:55:00",
          "2023-10-24T19:00:00",
          "2023-10-24T19:05:00",
          "2023-10-24T19:10:00",
          "2023-10-24T19:15:00",
          "2023-10-24T19:20:00",
          "2023-10-24T19:25:00",
          "2023-10-24T19:30:00",
          "2023-10-24T19:35:00",
          "2023-10-24T19:40:00",
          "2023-10-24T19:45:00",
          "2023-10-24T19:50:00",
          "2023-10-24T19:55:00",
          "2023-10-24T20:00:00",
          "2023-10-24T20:05:00",
          "2023-10-24T20:10:00",
          "2023-10-24T20:15:00",
          "2023-10-24T20:20:00",
          "2023-10-24T20:25:00",
          "2023-10-24T20:30:00",
          "2023-10-24T20:35:00",
          "2023-10-24T20:40:00",
          "2023-10-24T20:45:00",
          "2023-10-24T20:50:00",
          "2023-10-24T20:55:00",
          "2023-10-24T21:00:00",
          "2023-10-24T21:05:00",
          "2023-10-24T21:10:00",
          "2023-10-24T21:15:00",
          "2023-10-24T21:20:00",
          "2023-10-24T21:25:00",
          "2023-10-24T21:30:00",
          "2023-10-24T21:35:00",
          "2023-10-24T21:40:00",
          "2023-10-24T21:45:00",
          "2023-10-24T21:50:00",
          "2023-10-24T21:55:00",
          "2023-10-24T22:00:00",
          "2023-10-24T22:05:00",
          "2023-10-24T22:10:00",
          "2023-10-24T22:15:00",
          "2023-10-24T22:20:00",
          "2023-10-24T22:25:00",
          "2023-10-24T22:30:00",
          "2023-10-24T22:35:00",
          "2023-10-24T22:40:00",
          "2023-10-24T22:45:00",
          "2023-10-24T22:50:00",
          "2023-10-24T22:55:00",
          "2023-10-24T23:00:00",
          "2023-10-24T23:05:00",
          "2023-10-24T23:10:00",
          "2023-10-24T23:15:00",
          "2023-10-24T23:20:00",
          "2023-10-24T23:25:00",
          "2023-10-24T23:30:00",
          "2023-10-24T23:35:00",
          "2023-10-24T23:40:00",
          "2023-10-24T23:45:00",
          "2023-10-24T23:50:00",
          "2023-10-24T23:55:00"
         ],
         "xaxis": "x",
         "y": [
          0,
          0,
          0,
          0,
          0,
          0,
          0,
          0,
          0,
          0,
          0,
          0,
          0,
          0,
          0,
          0,
          0,
          0,
          0,
          13.000000000001819,
          5,
          13.000000000001819,
          -5,
          -1.000000000003638,
          5,
          13.000000000001819,
          23.00000000000182,
          15,
          20,
          30.999999999994543,
          43.00000000000182,
          48.99999999999636,
          58.99999999999636,
          38.99999999999636,
          56.99999999999818,
          51.99999999999818,
          38.99999999999636,
          25,
          -11.000000000003638,
          -9.094947017729282e-12,
          -7.000000000007276,
          -6.000000000003638,
          -17.000000000007276,
          -13.000000000001819,
          -29.000000000005457,
          -22.000000000007276,
          12.999999999992724,
          -15.000000000009095,
          -9.000000000005457,
          25.999999999994543,
          32.999999999992724,
          -22.000000000007276,
          -44.00000000000546,
          -42.000000000007276,
          -36.00000000001273,
          -25.000000000009095,
          -37.000000000007276,
          -27.000000000007276,
          -10.000000000009095,
          -2.000000000007276,
          -9.094947017729282e-12,
          4.999999999990905,
          7.999999999992724,
          -9.094947017729282e-12,
          14.999999999990905,
          8.999999999987267,
          9.999999999990905,
          14.999999999990905,
          19.999999999990905,
          22.999999999992724,
          -9.094947017729282e-12,
          -10.000000000009095,
          -10.000000000009095,
          7.999999999992724,
          19.999999999990905,
          2.999999999992724,
          22.999999999992724,
          18.999999999987267,
          29.999999999990905,
          32.999999999992724,
          47.999999999992724,
          37.999999999992724,
          47.999999999992724,
          64.9999999999909,
          67.99999999999272,
          69.9999999999909,
          59.999999999990905,
          49.999999999990905,
          37.999999999992724,
          60.99999999999454,
          55.99999999999454,
          20.999999999994543,
          23.999999999987267,
          17.999999999992724,
          24.999999999990905,
          70.99999999999454,
          55.99999999999454,
          65.99999999999454,
          58.99999999998727,
          53.99999999998727,
          35.99999999999454,
          43.99999999998727,
          68.99999999998727,
          38.99999999998727,
          30.999999999994543,
          37.999999999992724,
          77.99999999999272,
          70.99999999999454,
          62.999999999992724,
          161.9999999999891,
          163.99999999998727,
          144.9999999999909,
          72.99999999999272,
          100.99999999999454,
          182.99999999999272,
          87.99999999999272,
          178.99999999998727,
          160.99999999999454,
          118.99999999998727,
          205.99999999999454,
          243.99999999998727,
          217.99999999999272,
          246.9999999999891,
          221.9999999999891,
          270.99999999999454,
          220.99999999999454,
          217.99999999999272,
          216.9999999999891,
          187.99999999999272,
          177.99999999999272,
          166.9999999999891,
          106.99999999998909,
          119.9999999999909,
          115.99999999998545,
          137.99999999998363,
          130.99999999998545,
          116.99999999998909,
          110.99999999998545,
          87.99999999998363,
          105.99999999998545,
          120.99999999998545,
          127.99999999998363,
          199.9999999999909,
          247.99999999998363,
          261.9999999999891,
          260.99999999998545,
          264.9999999999909,
          291.9999999999891,
          311.9999999999891,
          334.9999999999909,
          291.9999999999891,
          274.9999999999909,
          261.9999999999891,
          281.9999999999891,
          257.99999999998363,
          235.99999999998545,
          201.9999999999891,
          210.99999999998545,
          191.9999999999891,
          182.99999999998363,
          192.99999999998363,
          190.99999999998545,
          200.99999999998545,
          198.99999999998727,
          227.99999999998363,
          230.99999999998545,
          230.99999999998545,
          254.9999999999818,
          280.99999999998545,
          318.99999999998727,
          313.99999999998727,
          342.99999999998363,
          345.99999999998545,
          355.99999999998545,
          339.9999999999818,
          351.99999999998,
          312.99999999998363,
          340.99999999998545,
          375.99999999998545,
          378.99999999998727,
          390.99999999998545,
          380.99999999998545,
          371.99999999998,
          399.9999999999818,
          379.9999999999818,
          354.9999999999818,
          343.99999999998727,
          343.99999999998727,
          343.99999999998727,
          343.99999999998727,
          343.99999999998727,
          343.99999999998727,
          343.99999999998727,
          343.99999999998727,
          343.99999999998727,
          343.99999999998727,
          343.99999999998727,
          343.99999999998727,
          343.99999999998727
         ],
         "yaxis": "y"
        },
        {
         "hovertemplate": "variable=net_profit<br>time=%{x}<br>value=%{y}<extra></extra>",
         "legendgroup": "net_profit",
         "line": {
          "color": "#EF553B",
          "dash": "solid"
         },
         "marker": {
          "symbol": "circle"
         },
         "mode": "lines",
         "name": "net_profit",
         "orientation": "v",
         "showlegend": true,
         "type": "scatter",
         "x": [
          "2023-10-24T07:25:00",
          "2023-10-24T07:30:00",
          "2023-10-24T07:35:00",
          "2023-10-24T07:40:00",
          "2023-10-24T07:45:00",
          "2023-10-24T07:50:00",
          "2023-10-24T07:55:00",
          "2023-10-24T08:00:00",
          "2023-10-24T08:05:00",
          "2023-10-24T08:10:00",
          "2023-10-24T08:15:00",
          "2023-10-24T08:20:00",
          "2023-10-24T08:25:00",
          "2023-10-24T08:30:00",
          "2023-10-24T08:35:00",
          "2023-10-24T08:40:00",
          "2023-10-24T08:45:00",
          "2023-10-24T08:50:00",
          "2023-10-24T08:55:00",
          "2023-10-24T09:00:00",
          "2023-10-24T09:05:00",
          "2023-10-24T09:10:00",
          "2023-10-24T09:15:00",
          "2023-10-24T09:20:00",
          "2023-10-24T09:25:00",
          "2023-10-24T09:30:00",
          "2023-10-24T09:35:00",
          "2023-10-24T09:40:00",
          "2023-10-24T09:45:00",
          "2023-10-24T09:50:00",
          "2023-10-24T09:55:00",
          "2023-10-24T10:00:00",
          "2023-10-24T10:05:00",
          "2023-10-24T10:10:00",
          "2023-10-24T10:15:00",
          "2023-10-24T10:20:00",
          "2023-10-24T10:25:00",
          "2023-10-24T10:30:00",
          "2023-10-24T10:35:00",
          "2023-10-24T10:40:00",
          "2023-10-24T10:45:00",
          "2023-10-24T10:50:00",
          "2023-10-24T10:55:00",
          "2023-10-24T11:00:00",
          "2023-10-24T11:05:00",
          "2023-10-24T11:10:00",
          "2023-10-24T11:15:00",
          "2023-10-24T11:20:00",
          "2023-10-24T11:25:00",
          "2023-10-24T11:30:00",
          "2023-10-24T11:35:00",
          "2023-10-24T11:40:00",
          "2023-10-24T11:45:00",
          "2023-10-24T11:50:00",
          "2023-10-24T11:55:00",
          "2023-10-24T12:00:00",
          "2023-10-24T12:05:00",
          "2023-10-24T12:10:00",
          "2023-10-24T12:15:00",
          "2023-10-24T12:20:00",
          "2023-10-24T12:25:00",
          "2023-10-24T12:30:00",
          "2023-10-24T12:35:00",
          "2023-10-24T12:40:00",
          "2023-10-24T12:45:00",
          "2023-10-24T12:50:00",
          "2023-10-24T12:55:00",
          "2023-10-24T13:00:00",
          "2023-10-24T13:05:00",
          "2023-10-24T13:10:00",
          "2023-10-24T13:15:00",
          "2023-10-24T13:20:00",
          "2023-10-24T13:25:00",
          "2023-10-24T13:30:00",
          "2023-10-24T13:35:00",
          "2023-10-24T13:40:00",
          "2023-10-24T13:45:00",
          "2023-10-24T13:50:00",
          "2023-10-24T13:55:00",
          "2023-10-24T14:00:00",
          "2023-10-24T14:05:00",
          "2023-10-24T14:10:00",
          "2023-10-24T14:15:00",
          "2023-10-24T14:20:00",
          "2023-10-24T14:25:00",
          "2023-10-24T14:30:00",
          "2023-10-24T14:35:00",
          "2023-10-24T14:40:00",
          "2023-10-24T14:45:00",
          "2023-10-24T14:50:00",
          "2023-10-24T14:55:00",
          "2023-10-24T15:00:00",
          "2023-10-24T15:05:00",
          "2023-10-24T15:10:00",
          "2023-10-24T15:15:00",
          "2023-10-24T15:20:00",
          "2023-10-24T15:25:00",
          "2023-10-24T15:30:00",
          "2023-10-24T15:35:00",
          "2023-10-24T15:40:00",
          "2023-10-24T15:45:00",
          "2023-10-24T15:50:00",
          "2023-10-24T15:55:00",
          "2023-10-24T16:00:00",
          "2023-10-24T16:05:00",
          "2023-10-24T16:10:00",
          "2023-10-24T16:15:00",
          "2023-10-24T16:20:00",
          "2023-10-24T16:25:00",
          "2023-10-24T16:30:00",
          "2023-10-24T16:35:00",
          "2023-10-24T16:40:00",
          "2023-10-24T16:45:00",
          "2023-10-24T16:50:00",
          "2023-10-24T16:55:00",
          "2023-10-24T17:00:00",
          "2023-10-24T17:05:00",
          "2023-10-24T17:10:00",
          "2023-10-24T17:15:00",
          "2023-10-24T17:20:00",
          "2023-10-24T17:25:00",
          "2023-10-24T17:30:00",
          "2023-10-24T17:35:00",
          "2023-10-24T17:40:00",
          "2023-10-24T17:45:00",
          "2023-10-24T17:50:00",
          "2023-10-24T17:55:00",
          "2023-10-24T18:00:00",
          "2023-10-24T18:05:00",
          "2023-10-24T18:10:00",
          "2023-10-24T18:15:00",
          "2023-10-24T18:20:00",
          "2023-10-24T18:25:00",
          "2023-10-24T18:30:00",
          "2023-10-24T18:35:00",
          "2023-10-24T18:40:00",
          "2023-10-24T18:45:00",
          "2023-10-24T18:50:00",
          "2023-10-24T18:55:00",
          "2023-10-24T19:00:00",
          "2023-10-24T19:05:00",
          "2023-10-24T19:10:00",
          "2023-10-24T19:15:00",
          "2023-10-24T19:20:00",
          "2023-10-24T19:25:00",
          "2023-10-24T19:30:00",
          "2023-10-24T19:35:00",
          "2023-10-24T19:40:00",
          "2023-10-24T19:45:00",
          "2023-10-24T19:50:00",
          "2023-10-24T19:55:00",
          "2023-10-24T20:00:00",
          "2023-10-24T20:05:00",
          "2023-10-24T20:10:00",
          "2023-10-24T20:15:00",
          "2023-10-24T20:20:00",
          "2023-10-24T20:25:00",
          "2023-10-24T20:30:00",
          "2023-10-24T20:35:00",
          "2023-10-24T20:40:00",
          "2023-10-24T20:45:00",
          "2023-10-24T20:50:00",
          "2023-10-24T20:55:00",
          "2023-10-24T21:00:00",
          "2023-10-24T21:05:00",
          "2023-10-24T21:10:00",
          "2023-10-24T21:15:00",
          "2023-10-24T21:20:00",
          "2023-10-24T21:25:00",
          "2023-10-24T21:30:00",
          "2023-10-24T21:35:00",
          "2023-10-24T21:40:00",
          "2023-10-24T21:45:00",
          "2023-10-24T21:50:00",
          "2023-10-24T21:55:00",
          "2023-10-24T22:00:00",
          "2023-10-24T22:05:00",
          "2023-10-24T22:10:00",
          "2023-10-24T22:15:00",
          "2023-10-24T22:20:00",
          "2023-10-24T22:25:00",
          "2023-10-24T22:30:00",
          "2023-10-24T22:35:00",
          "2023-10-24T22:40:00",
          "2023-10-24T22:45:00",
          "2023-10-24T22:50:00",
          "2023-10-24T22:55:00",
          "2023-10-24T23:00:00",
          "2023-10-24T23:05:00",
          "2023-10-24T23:10:00",
          "2023-10-24T23:15:00",
          "2023-10-24T23:20:00",
          "2023-10-24T23:25:00",
          "2023-10-24T23:30:00",
          "2023-10-24T23:35:00",
          "2023-10-24T23:40:00",
          "2023-10-24T23:45:00",
          "2023-10-24T23:50:00",
          "2023-10-24T23:55:00"
         ],
         "xaxis": "x",
         "y": [
          0,
          0,
          0,
          0,
          0,
          0,
          0,
          0,
          0,
          0,
          0,
          0,
          0,
          0,
          0,
          0,
          0,
          0,
          0,
          10.500000000001819,
          2.5,
          10.500000000001819,
          -7.5,
          -3.500000000003638,
          2.5,
          10.500000000001819,
          20.50000000000182,
          12.5,
          17.5,
          28.499999999994543,
          40.50000000000182,
          46.49999999999636,
          56.49999999999636,
          36.49999999999636,
          54.49999999999818,
          49.49999999999818,
          36.49999999999636,
          22.5,
          -13.500000000003638,
          -7.500000000009095,
          -14.500000000007276,
          -13.500000000003638,
          -24.500000000007276,
          -20.50000000000182,
          -36.50000000000546,
          -29.500000000007276,
          5.499999999992724,
          -22.500000000009095,
          -16.500000000005457,
          18.499999999994543,
          25.499999999992724,
          -29.500000000007276,
          -51.50000000000546,
          -49.500000000007276,
          -48.50000000001273,
          -37.500000000009095,
          -49.500000000007276,
          -39.500000000007276,
          -22.500000000009095,
          -14.500000000007276,
          -12.500000000009095,
          -7.500000000009095,
          -4.500000000007276,
          -12.500000000009095,
          2.499999999990905,
          -3.500000000012733,
          -2.500000000009095,
          2.499999999990905,
          7.499999999990905,
          10.499999999992724,
          -12.500000000009095,
          -22.500000000009095,
          -22.500000000009095,
          -4.500000000007276,
          7.499999999990905,
          -9.500000000007276,
          10.499999999992724,
          6.499999999987267,
          17.499999999990905,
          20.499999999992724,
          35.499999999992724,
          25.499999999992724,
          35.499999999992724,
          52.499999999990905,
          55.499999999992724,
          57.499999999990905,
          47.499999999990905,
          37.499999999990905,
          25.499999999992724,
          48.49999999999454,
          43.49999999999454,
          8.499999999994543,
          11.499999999987267,
          5.499999999992724,
          12.499999999990905,
          58.49999999999454,
          43.49999999999454,
          53.49999999999454,
          46.49999999998727,
          41.49999999998727,
          23.499999999994543,
          31.499999999987267,
          56.49999999998727,
          26.499999999987267,
          18.499999999994543,
          25.499999999992724,
          60.499999999992724,
          53.49999999999454,
          45.499999999992724,
          139.4999999999891,
          141.49999999998727,
          122.4999999999909,
          50.499999999992724,
          78.49999999999454,
          160.49999999999272,
          65.49999999999272,
          156.49999999998727,
          138.49999999999454,
          96.49999999998727,
          183.49999999999454,
          221.49999999998727,
          195.49999999999272,
          224.4999999999891,
          199.4999999999891,
          248.49999999999454,
          198.49999999999454,
          195.49999999999272,
          194.4999999999891,
          165.49999999999272,
          155.49999999999272,
          144.4999999999891,
          84.49999999998909,
          92.4999999999909,
          88.49999999998545,
          110.49999999998363,
          103.49999999998545,
          89.49999999998909,
          83.49999999998545,
          60.49999999998363,
          78.49999999998545,
          93.49999999998545,
          100.49999999998363,
          172.4999999999909,
          220.49999999998363,
          234.4999999999891,
          233.49999999998545,
          237.4999999999909,
          264.4999999999891,
          284.4999999999891,
          307.4999999999909,
          264.4999999999891,
          247.4999999999909,
          234.4999999999891,
          254.4999999999891,
          230.49999999998363,
          208.49999999998545,
          174.4999999999891,
          183.49999999998545,
          164.4999999999891,
          155.49999999998363,
          165.49999999998363,
          163.49999999998545,
          173.49999999998545,
          166.49999999998727,
          195.49999999998363,
          198.49999999998545,
          198.49999999998545,
          222.4999999999818,
          248.49999999998545,
          286.49999999998727,
          281.49999999998727,
          310.49999999998363,
          313.49999999998545,
          323.49999999998545,
          307.4999999999818,
          319.49999999998,
          280.49999999998363,
          308.49999999998545,
          343.49999999998545,
          346.49999999998727,
          358.49999999998545,
          348.49999999998545,
          339.49999999998,
          367.4999999999818,
          347.4999999999818,
          322.4999999999818,
          311.49999999998727,
          308.99999999998727,
          308.99999999998727,
          308.99999999998727,
          308.99999999998727,
          308.99999999998727,
          308.99999999998727,
          308.99999999998727,
          308.99999999998727,
          308.99999999998727,
          308.99999999998727,
          308.99999999998727,
          308.99999999998727
         ],
         "yaxis": "y"
        }
       ],
       "layout": {
        "legend": {
         "title": {
          "text": "variable"
         },
         "tracegroupgap": 0
        },
        "template": {
         "data": {
          "bar": [
           {
            "error_x": {
             "color": "#2a3f5f"
            },
            "error_y": {
             "color": "#2a3f5f"
            },
            "marker": {
             "line": {
              "color": "#E5ECF6",
              "width": 0.5
             },
             "pattern": {
              "fillmode": "overlay",
              "size": 10,
              "solidity": 0.2
             }
            },
            "type": "bar"
           }
          ],
          "barpolar": [
           {
            "marker": {
             "line": {
              "color": "#E5ECF6",
              "width": 0.5
             },
             "pattern": {
              "fillmode": "overlay",
              "size": 10,
              "solidity": 0.2
             }
            },
            "type": "barpolar"
           }
          ],
          "carpet": [
           {
            "aaxis": {
             "endlinecolor": "#2a3f5f",
             "gridcolor": "white",
             "linecolor": "white",
             "minorgridcolor": "white",
             "startlinecolor": "#2a3f5f"
            },
            "baxis": {
             "endlinecolor": "#2a3f5f",
             "gridcolor": "white",
             "linecolor": "white",
             "minorgridcolor": "white",
             "startlinecolor": "#2a3f5f"
            },
            "type": "carpet"
           }
          ],
          "choropleth": [
           {
            "colorbar": {
             "outlinewidth": 0,
             "ticks": ""
            },
            "type": "choropleth"
           }
          ],
          "contour": [
           {
            "colorbar": {
             "outlinewidth": 0,
             "ticks": ""
            },
            "colorscale": [
             [
              0,
              "#0d0887"
             ],
             [
              0.1111111111111111,
              "#46039f"
             ],
             [
              0.2222222222222222,
              "#7201a8"
             ],
             [
              0.3333333333333333,
              "#9c179e"
             ],
             [
              0.4444444444444444,
              "#bd3786"
             ],
             [
              0.5555555555555556,
              "#d8576b"
             ],
             [
              0.6666666666666666,
              "#ed7953"
             ],
             [
              0.7777777777777778,
              "#fb9f3a"
             ],
             [
              0.8888888888888888,
              "#fdca26"
             ],
             [
              1,
              "#f0f921"
             ]
            ],
            "type": "contour"
           }
          ],
          "contourcarpet": [
           {
            "colorbar": {
             "outlinewidth": 0,
             "ticks": ""
            },
            "type": "contourcarpet"
           }
          ],
          "heatmap": [
           {
            "colorbar": {
             "outlinewidth": 0,
             "ticks": ""
            },
            "colorscale": [
             [
              0,
              "#0d0887"
             ],
             [
              0.1111111111111111,
              "#46039f"
             ],
             [
              0.2222222222222222,
              "#7201a8"
             ],
             [
              0.3333333333333333,
              "#9c179e"
             ],
             [
              0.4444444444444444,
              "#bd3786"
             ],
             [
              0.5555555555555556,
              "#d8576b"
             ],
             [
              0.6666666666666666,
              "#ed7953"
             ],
             [
              0.7777777777777778,
              "#fb9f3a"
             ],
             [
              0.8888888888888888,
              "#fdca26"
             ],
             [
              1,
              "#f0f921"
             ]
            ],
            "type": "heatmap"
           }
          ],
          "heatmapgl": [
           {
            "colorbar": {
             "outlinewidth": 0,
             "ticks": ""
            },
            "colorscale": [
             [
              0,
              "#0d0887"
             ],
             [
              0.1111111111111111,
              "#46039f"
             ],
             [
              0.2222222222222222,
              "#7201a8"
             ],
             [
              0.3333333333333333,
              "#9c179e"
             ],
             [
              0.4444444444444444,
              "#bd3786"
             ],
             [
              0.5555555555555556,
              "#d8576b"
             ],
             [
              0.6666666666666666,
              "#ed7953"
             ],
             [
              0.7777777777777778,
              "#fb9f3a"
             ],
             [
              0.8888888888888888,
              "#fdca26"
             ],
             [
              1,
              "#f0f921"
             ]
            ],
            "type": "heatmapgl"
           }
          ],
          "histogram": [
           {
            "marker": {
             "pattern": {
              "fillmode": "overlay",
              "size": 10,
              "solidity": 0.2
             }
            },
            "type": "histogram"
           }
          ],
          "histogram2d": [
           {
            "colorbar": {
             "outlinewidth": 0,
             "ticks": ""
            },
            "colorscale": [
             [
              0,
              "#0d0887"
             ],
             [
              0.1111111111111111,
              "#46039f"
             ],
             [
              0.2222222222222222,
              "#7201a8"
             ],
             [
              0.3333333333333333,
              "#9c179e"
             ],
             [
              0.4444444444444444,
              "#bd3786"
             ],
             [
              0.5555555555555556,
              "#d8576b"
             ],
             [
              0.6666666666666666,
              "#ed7953"
             ],
             [
              0.7777777777777778,
              "#fb9f3a"
             ],
             [
              0.8888888888888888,
              "#fdca26"
             ],
             [
              1,
              "#f0f921"
             ]
            ],
            "type": "histogram2d"
           }
          ],
          "histogram2dcontour": [
           {
            "colorbar": {
             "outlinewidth": 0,
             "ticks": ""
            },
            "colorscale": [
             [
              0,
              "#0d0887"
             ],
             [
              0.1111111111111111,
              "#46039f"
             ],
             [
              0.2222222222222222,
              "#7201a8"
             ],
             [
              0.3333333333333333,
              "#9c179e"
             ],
             [
              0.4444444444444444,
              "#bd3786"
             ],
             [
              0.5555555555555556,
              "#d8576b"
             ],
             [
              0.6666666666666666,
              "#ed7953"
             ],
             [
              0.7777777777777778,
              "#fb9f3a"
             ],
             [
              0.8888888888888888,
              "#fdca26"
             ],
             [
              1,
              "#f0f921"
             ]
            ],
            "type": "histogram2dcontour"
           }
          ],
          "mesh3d": [
           {
            "colorbar": {
             "outlinewidth": 0,
             "ticks": ""
            },
            "type": "mesh3d"
           }
          ],
          "parcoords": [
           {
            "line": {
             "colorbar": {
              "outlinewidth": 0,
              "ticks": ""
             }
            },
            "type": "parcoords"
           }
          ],
          "pie": [
           {
            "automargin": true,
            "type": "pie"
           }
          ],
          "scatter": [
           {
            "fillpattern": {
             "fillmode": "overlay",
             "size": 10,
             "solidity": 0.2
            },
            "type": "scatter"
           }
          ],
          "scatter3d": [
           {
            "line": {
             "colorbar": {
              "outlinewidth": 0,
              "ticks": ""
             }
            },
            "marker": {
             "colorbar": {
              "outlinewidth": 0,
              "ticks": ""
             }
            },
            "type": "scatter3d"
           }
          ],
          "scattercarpet": [
           {
            "marker": {
             "colorbar": {
              "outlinewidth": 0,
              "ticks": ""
             }
            },
            "type": "scattercarpet"
           }
          ],
          "scattergeo": [
           {
            "marker": {
             "colorbar": {
              "outlinewidth": 0,
              "ticks": ""
             }
            },
            "type": "scattergeo"
           }
          ],
          "scattergl": [
           {
            "marker": {
             "colorbar": {
              "outlinewidth": 0,
              "ticks": ""
             }
            },
            "type": "scattergl"
           }
          ],
          "scattermapbox": [
           {
            "marker": {
             "colorbar": {
              "outlinewidth": 0,
              "ticks": ""
             }
            },
            "type": "scattermapbox"
           }
          ],
          "scatterpolar": [
           {
            "marker": {
             "colorbar": {
              "outlinewidth": 0,
              "ticks": ""
             }
            },
            "type": "scatterpolar"
           }
          ],
          "scatterpolargl": [
           {
            "marker": {
             "colorbar": {
              "outlinewidth": 0,
              "ticks": ""
             }
            },
            "type": "scatterpolargl"
           }
          ],
          "scatterternary": [
           {
            "marker": {
             "colorbar": {
              "outlinewidth": 0,
              "ticks": ""
             }
            },
            "type": "scatterternary"
           }
          ],
          "surface": [
           {
            "colorbar": {
             "outlinewidth": 0,
             "ticks": ""
            },
            "colorscale": [
             [
              0,
              "#0d0887"
             ],
             [
              0.1111111111111111,
              "#46039f"
             ],
             [
              0.2222222222222222,
              "#7201a8"
             ],
             [
              0.3333333333333333,
              "#9c179e"
             ],
             [
              0.4444444444444444,
              "#bd3786"
             ],
             [
              0.5555555555555556,
              "#d8576b"
             ],
             [
              0.6666666666666666,
              "#ed7953"
             ],
             [
              0.7777777777777778,
              "#fb9f3a"
             ],
             [
              0.8888888888888888,
              "#fdca26"
             ],
             [
              1,
              "#f0f921"
             ]
            ],
            "type": "surface"
           }
          ],
          "table": [
           {
            "cells": {
             "fill": {
              "color": "#EBF0F8"
             },
             "line": {
              "color": "white"
             }
            },
            "header": {
             "fill": {
              "color": "#C8D4E3"
             },
             "line": {
              "color": "white"
             }
            },
            "type": "table"
           }
          ]
         },
         "layout": {
          "annotationdefaults": {
           "arrowcolor": "#2a3f5f",
           "arrowhead": 0,
           "arrowwidth": 1
          },
          "autotypenumbers": "strict",
          "coloraxis": {
           "colorbar": {
            "outlinewidth": 0,
            "ticks": ""
           }
          },
          "colorscale": {
           "diverging": [
            [
             0,
             "#8e0152"
            ],
            [
             0.1,
             "#c51b7d"
            ],
            [
             0.2,
             "#de77ae"
            ],
            [
             0.3,
             "#f1b6da"
            ],
            [
             0.4,
             "#fde0ef"
            ],
            [
             0.5,
             "#f7f7f7"
            ],
            [
             0.6,
             "#e6f5d0"
            ],
            [
             0.7,
             "#b8e186"
            ],
            [
             0.8,
             "#7fbc41"
            ],
            [
             0.9,
             "#4d9221"
            ],
            [
             1,
             "#276419"
            ]
           ],
           "sequential": [
            [
             0,
             "#0d0887"
            ],
            [
             0.1111111111111111,
             "#46039f"
            ],
            [
             0.2222222222222222,
             "#7201a8"
            ],
            [
             0.3333333333333333,
             "#9c179e"
            ],
            [
             0.4444444444444444,
             "#bd3786"
            ],
            [
             0.5555555555555556,
             "#d8576b"
            ],
            [
             0.6666666666666666,
             "#ed7953"
            ],
            [
             0.7777777777777778,
             "#fb9f3a"
            ],
            [
             0.8888888888888888,
             "#fdca26"
            ],
            [
             1,
             "#f0f921"
            ]
           ],
           "sequentialminus": [
            [
             0,
             "#0d0887"
            ],
            [
             0.1111111111111111,
             "#46039f"
            ],
            [
             0.2222222222222222,
             "#7201a8"
            ],
            [
             0.3333333333333333,
             "#9c179e"
            ],
            [
             0.4444444444444444,
             "#bd3786"
            ],
            [
             0.5555555555555556,
             "#d8576b"
            ],
            [
             0.6666666666666666,
             "#ed7953"
            ],
            [
             0.7777777777777778,
             "#fb9f3a"
            ],
            [
             0.8888888888888888,
             "#fdca26"
            ],
            [
             1,
             "#f0f921"
            ]
           ]
          },
          "colorway": [
           "#636efa",
           "#EF553B",
           "#00cc96",
           "#ab63fa",
           "#FFA15A",
           "#19d3f3",
           "#FF6692",
           "#B6E880",
           "#FF97FF",
           "#FECB52"
          ],
          "font": {
           "color": "#2a3f5f"
          },
          "geo": {
           "bgcolor": "white",
           "lakecolor": "white",
           "landcolor": "#E5ECF6",
           "showlakes": true,
           "showland": true,
           "subunitcolor": "white"
          },
          "hoverlabel": {
           "align": "left"
          },
          "hovermode": "closest",
          "mapbox": {
           "style": "light"
          },
          "paper_bgcolor": "white",
          "plot_bgcolor": "#E5ECF6",
          "polar": {
           "angularaxis": {
            "gridcolor": "white",
            "linecolor": "white",
            "ticks": ""
           },
           "bgcolor": "#E5ECF6",
           "radialaxis": {
            "gridcolor": "white",
            "linecolor": "white",
            "ticks": ""
           }
          },
          "scene": {
           "xaxis": {
            "backgroundcolor": "#E5ECF6",
            "gridcolor": "white",
            "gridwidth": 2,
            "linecolor": "white",
            "showbackground": true,
            "ticks": "",
            "zerolinecolor": "white"
           },
           "yaxis": {
            "backgroundcolor": "#E5ECF6",
            "gridcolor": "white",
            "gridwidth": 2,
            "linecolor": "white",
            "showbackground": true,
            "ticks": "",
            "zerolinecolor": "white"
           },
           "zaxis": {
            "backgroundcolor": "#E5ECF6",
            "gridcolor": "white",
            "gridwidth": 2,
            "linecolor": "white",
            "showbackground": true,
            "ticks": "",
            "zerolinecolor": "white"
           }
          },
          "shapedefaults": {
           "line": {
            "color": "#2a3f5f"
           }
          },
          "ternary": {
           "aaxis": {
            "gridcolor": "white",
            "linecolor": "white",
            "ticks": ""
           },
           "baxis": {
            "gridcolor": "white",
            "linecolor": "white",
            "ticks": ""
           },
           "bgcolor": "#E5ECF6",
           "caxis": {
            "gridcolor": "white",
            "linecolor": "white",
            "ticks": ""
           }
          },
          "title": {
           "x": 0.05
          },
          "xaxis": {
           "automargin": true,
           "gridcolor": "white",
           "linecolor": "white",
           "ticks": "",
           "title": {
            "standoff": 15
           },
           "zerolinecolor": "white",
           "zerolinewidth": 2
          },
          "yaxis": {
           "automargin": true,
           "gridcolor": "white",
           "linecolor": "white",
           "ticks": "",
           "title": {
            "standoff": 15
           },
           "zerolinecolor": "white",
           "zerolinewidth": 2
          }
         }
        },
        "title": {
         "text": "SP500 NY session Backtest EMA Trendfollowing"
        },
        "xaxis": {
         "anchor": "y",
         "domain": [
          0,
          1
         ],
         "title": {
          "text": "time"
         }
        },
        "yaxis": {
         "anchor": "x",
         "domain": [
          0,
          1
         ],
         "title": {
          "text": "value"
         }
        }
       }
      }
     },
     "metadata": {},
     "output_type": "display_data"
    }
   ],
   "source": [
    "px.line(bars3, 'time', ['gross_profit', 'net_profit'], title=\"SP500 NY session Backtest EMA Trendfollowing\")\n"
   ]
  },
  {
   "cell_type": "code",
   "execution_count": 7,
   "metadata": {},
   "outputs": [
    {
     "data": {
      "text/html": [
       "<div>\n",
       "<style scoped>\n",
       "    .dataframe tbody tr th:only-of-type {\n",
       "        vertical-align: middle;\n",
       "    }\n",
       "\n",
       "    .dataframe tbody tr th {\n",
       "        vertical-align: top;\n",
       "    }\n",
       "\n",
       "    .dataframe thead th {\n",
       "        text-align: right;\n",
       "    }\n",
       "</style>\n",
       "<table border=\"1\" class=\"dataframe\">\n",
       "  <thead>\n",
       "    <tr style=\"text-align: right;\">\n",
       "      <th></th>\n",
       "      <th>time</th>\n",
       "      <th>open</th>\n",
       "      <th>high</th>\n",
       "      <th>low</th>\n",
       "      <th>close</th>\n",
       "      <th>tick_volume</th>\n",
       "      <th>spread</th>\n",
       "      <th>real_volume</th>\n",
       "      <th>trade_volume</th>\n",
       "      <th>ema_20</th>\n",
       "      <th>ema_10</th>\n",
       "      <th>hour</th>\n",
       "      <th>signal</th>\n",
       "      <th>prev_price</th>\n",
       "      <th>price_change</th>\n",
       "      <th>signal_change</th>\n",
       "      <th>commission</th>\n",
       "      <th>profit</th>\n",
       "      <th>gross_profit</th>\n",
       "      <th>net_profit</th>\n",
       "    </tr>\n",
       "  </thead>\n",
       "  <tbody>\n",
       "    <tr>\n",
       "      <th>20</th>\n",
       "      <td>2023-10-24 09:00:00</td>\n",
       "      <td>4230.5</td>\n",
       "      <td>4232.4</td>\n",
       "      <td>4230.5</td>\n",
       "      <td>4232.1</td>\n",
       "      <td>150</td>\n",
       "      <td>2</td>\n",
       "      <td>0</td>\n",
       "      <td>10</td>\n",
       "      <td>4230.291708</td>\n",
       "      <td>4230.636129</td>\n",
       "      <td>9</td>\n",
       "      <td>1</td>\n",
       "      <td>4230.8</td>\n",
       "      <td>1.3</td>\n",
       "      <td>1.0</td>\n",
       "      <td>2.5</td>\n",
       "      <td>13.0</td>\n",
       "      <td>1.300000e+01</td>\n",
       "      <td>10.5</td>\n",
       "    </tr>\n",
       "    <tr>\n",
       "      <th>40</th>\n",
       "      <td>2023-10-24 10:40:00</td>\n",
       "      <td>4229.5</td>\n",
       "      <td>4230.8</td>\n",
       "      <td>4227.5</td>\n",
       "      <td>4228.6</td>\n",
       "      <td>365</td>\n",
       "      <td>1</td>\n",
       "      <td>0</td>\n",
       "      <td>10</td>\n",
       "      <td>4232.790324</td>\n",
       "      <td>4232.708124</td>\n",
       "      <td>10</td>\n",
       "      <td>-1</td>\n",
       "      <td>4229.7</td>\n",
       "      <td>-1.1</td>\n",
       "      <td>2.0</td>\n",
       "      <td>5.0</td>\n",
       "      <td>11.0</td>\n",
       "      <td>-9.094947e-12</td>\n",
       "      <td>-7.5</td>\n",
       "    </tr>\n",
       "    <tr>\n",
       "      <th>55</th>\n",
       "      <td>2023-10-24 11:55:00</td>\n",
       "      <td>4232.8</td>\n",
       "      <td>4234.5</td>\n",
       "      <td>4232.0</td>\n",
       "      <td>4233.4</td>\n",
       "      <td>132</td>\n",
       "      <td>2</td>\n",
       "      <td>0</td>\n",
       "      <td>10</td>\n",
       "      <td>4230.854054</td>\n",
       "      <td>4230.887079</td>\n",
       "      <td>11</td>\n",
       "      <td>1</td>\n",
       "      <td>4232.8</td>\n",
       "      <td>0.6</td>\n",
       "      <td>2.0</td>\n",
       "      <td>5.0</td>\n",
       "      <td>6.0</td>\n",
       "      <td>-3.600000e+01</td>\n",
       "      <td>-48.5</td>\n",
       "    </tr>\n",
       "    <tr>\n",
       "      <th>107</th>\n",
       "      <td>2023-10-24 16:15:00</td>\n",
       "      <td>4240.5</td>\n",
       "      <td>4240.8</td>\n",
       "      <td>4236.5</td>\n",
       "      <td>4236.8</td>\n",
       "      <td>159</td>\n",
       "      <td>1</td>\n",
       "      <td>0</td>\n",
       "      <td>10</td>\n",
       "      <td>4240.896259</td>\n",
       "      <td>4240.594640</td>\n",
       "      <td>16</td>\n",
       "      <td>-1</td>\n",
       "      <td>4240.8</td>\n",
       "      <td>-4.0</td>\n",
       "      <td>2.0</td>\n",
       "      <td>5.0</td>\n",
       "      <td>40.0</td>\n",
       "      <td>7.800000e+01</td>\n",
       "      <td>60.5</td>\n",
       "    </tr>\n",
       "    <tr>\n",
       "      <th>110</th>\n",
       "      <td>2023-10-24 16:30:00</td>\n",
       "      <td>4238.5</td>\n",
       "      <td>4248.3</td>\n",
       "      <td>4238.0</td>\n",
       "      <td>4248.2</td>\n",
       "      <td>1086</td>\n",
       "      <td>1</td>\n",
       "      <td>0</td>\n",
       "      <td>10</td>\n",
       "      <td>4241.103365</td>\n",
       "      <td>4241.259423</td>\n",
       "      <td>16</td>\n",
       "      <td>1</td>\n",
       "      <td>4238.3</td>\n",
       "      <td>9.9</td>\n",
       "      <td>2.0</td>\n",
       "      <td>5.0</td>\n",
       "      <td>99.0</td>\n",
       "      <td>1.620000e+02</td>\n",
       "      <td>139.5</td>\n",
       "    </tr>\n",
       "    <tr>\n",
       "      <th>133</th>\n",
       "      <td>2023-10-24 18:25:00</td>\n",
       "      <td>4242.7</td>\n",
       "      <td>4245.0</td>\n",
       "      <td>4240.8</td>\n",
       "      <td>4241.4</td>\n",
       "      <td>764</td>\n",
       "      <td>1</td>\n",
       "      <td>0</td>\n",
       "      <td>10</td>\n",
       "      <td>4248.712511</td>\n",
       "      <td>4248.406719</td>\n",
       "      <td>18</td>\n",
       "      <td>-1</td>\n",
       "      <td>4242.7</td>\n",
       "      <td>-1.3</td>\n",
       "      <td>2.0</td>\n",
       "      <td>5.0</td>\n",
       "      <td>13.0</td>\n",
       "      <td>1.200000e+02</td>\n",
       "      <td>92.5</td>\n",
       "    </tr>\n",
       "    <tr>\n",
       "      <th>164</th>\n",
       "      <td>2023-10-24 21:00:00</td>\n",
       "      <td>4233.2</td>\n",
       "      <td>4235.9</td>\n",
       "      <td>4231.7</td>\n",
       "      <td>4233.1</td>\n",
       "      <td>523</td>\n",
       "      <td>1</td>\n",
       "      <td>0</td>\n",
       "      <td>10</td>\n",
       "      <td>4232.400478</td>\n",
       "      <td>4232.446747</td>\n",
       "      <td>21</td>\n",
       "      <td>1</td>\n",
       "      <td>4233.3</td>\n",
       "      <td>-0.2</td>\n",
       "      <td>2.0</td>\n",
       "      <td>5.0</td>\n",
       "      <td>-2.0</td>\n",
       "      <td>1.990000e+02</td>\n",
       "      <td>166.5</td>\n",
       "    </tr>\n",
       "    <tr>\n",
       "      <th>188</th>\n",
       "      <td>2023-10-24 23:00:00</td>\n",
       "      <td>4247.9</td>\n",
       "      <td>4267.0</td>\n",
       "      <td>4244.6</td>\n",
       "      <td>4250.1</td>\n",
       "      <td>1546</td>\n",
       "      <td>1</td>\n",
       "      <td>0</td>\n",
       "      <td>10</td>\n",
       "      <td>4247.287337</td>\n",
       "      <td>4249.493771</td>\n",
       "      <td>23</td>\n",
       "      <td>0</td>\n",
       "      <td>4247.6</td>\n",
       "      <td>2.5</td>\n",
       "      <td>1.0</td>\n",
       "      <td>2.5</td>\n",
       "      <td>0.0</td>\n",
       "      <td>3.440000e+02</td>\n",
       "      <td>309.0</td>\n",
       "    </tr>\n",
       "  </tbody>\n",
       "</table>\n",
       "</div>"
      ],
      "text/plain": [
       "                   time    open    high     low   close  tick_volume  spread  \\\n",
       "20  2023-10-24 09:00:00  4230.5  4232.4  4230.5  4232.1          150       2   \n",
       "40  2023-10-24 10:40:00  4229.5  4230.8  4227.5  4228.6          365       1   \n",
       "55  2023-10-24 11:55:00  4232.8  4234.5  4232.0  4233.4          132       2   \n",
       "107 2023-10-24 16:15:00  4240.5  4240.8  4236.5  4236.8          159       1   \n",
       "110 2023-10-24 16:30:00  4238.5  4248.3  4238.0  4248.2         1086       1   \n",
       "133 2023-10-24 18:25:00  4242.7  4245.0  4240.8  4241.4          764       1   \n",
       "164 2023-10-24 21:00:00  4233.2  4235.9  4231.7  4233.1          523       1   \n",
       "188 2023-10-24 23:00:00  4247.9  4267.0  4244.6  4250.1         1546       1   \n",
       "\n",
       "     real_volume  trade_volume       ema_20       ema_10  hour  signal  \\\n",
       "20             0            10  4230.291708  4230.636129     9       1   \n",
       "40             0            10  4232.790324  4232.708124    10      -1   \n",
       "55             0            10  4230.854054  4230.887079    11       1   \n",
       "107            0            10  4240.896259  4240.594640    16      -1   \n",
       "110            0            10  4241.103365  4241.259423    16       1   \n",
       "133            0            10  4248.712511  4248.406719    18      -1   \n",
       "164            0            10  4232.400478  4232.446747    21       1   \n",
       "188            0            10  4247.287337  4249.493771    23       0   \n",
       "\n",
       "     prev_price  price_change  signal_change  commission  profit  \\\n",
       "20       4230.8           1.3            1.0         2.5    13.0   \n",
       "40       4229.7          -1.1            2.0         5.0    11.0   \n",
       "55       4232.8           0.6            2.0         5.0     6.0   \n",
       "107      4240.8          -4.0            2.0         5.0    40.0   \n",
       "110      4238.3           9.9            2.0         5.0    99.0   \n",
       "133      4242.7          -1.3            2.0         5.0    13.0   \n",
       "164      4233.3          -0.2            2.0         5.0    -2.0   \n",
       "188      4247.6           2.5            1.0         2.5     0.0   \n",
       "\n",
       "     gross_profit  net_profit  \n",
       "20   1.300000e+01        10.5  \n",
       "40  -9.094947e-12        -7.5  \n",
       "55  -3.600000e+01       -48.5  \n",
       "107  7.800000e+01        60.5  \n",
       "110  1.620000e+02       139.5  \n",
       "133  1.200000e+02        92.5  \n",
       "164  1.990000e+02       166.5  \n",
       "188  3.440000e+02       309.0  "
      ]
     },
     "execution_count": 7,
     "metadata": {},
     "output_type": "execute_result"
    }
   ],
   "source": [
    "\n",
    "trades = bars3.loc[bars3['signal_change']!=0]\n",
    "\n",
    "\n",
    "trades\n"
   ]
  },
  {
   "cell_type": "code",
   "execution_count": 8,
   "metadata": {},
   "outputs": [
    {
     "name": "stderr",
     "output_type": "stream",
     "text": [
      "c:\\Users\\praveenjaisankar\\AppData\\Local\\pypoetry\\Cache\\virtualenvs\\metatrader-Cdlomroj-py3.10\\lib\\site-packages\\_plotly_utils\\basevalidators.py:105: FutureWarning:\n",
      "\n",
      "The behavior of DatetimeProperties.to_pydatetime is deprecated, in a future version this will return a Series containing python datetime objects instead of an ndarray. To retain the old behavior, call `np.array` on the result\n",
      "\n"
     ]
    },
    {
     "data": {
      "application/vnd.plotly.v1+json": {
       "config": {
        "plotlyServerURL": "https://plot.ly"
       },
       "data": [
        {
         "close": [
          4232.1,
          4228.6,
          4233.4,
          4236.8,
          4248.2,
          4241.4,
          4233.1,
          4250.1
         ],
         "high": [
          4232.4,
          4230.8,
          4234.5,
          4240.8,
          4248.3,
          4245,
          4235.9,
          4267
         ],
         "low": [
          4230.5,
          4227.5,
          4232,
          4236.5,
          4238,
          4240.8,
          4231.7,
          4244.6
         ],
         "open": [
          4230.5,
          4229.5,
          4232.8,
          4240.5,
          4238.5,
          4242.7,
          4233.2,
          4247.9
         ],
         "type": "candlestick",
         "x": [
          "2023-10-24T09:00:00",
          "2023-10-24T10:40:00",
          "2023-10-24T11:55:00",
          "2023-10-24T16:15:00",
          "2023-10-24T16:30:00",
          "2023-10-24T18:25:00",
          "2023-10-24T21:00:00",
          "2023-10-24T23:00:00"
         ]
        }
       ],
       "layout": {
        "template": {
         "data": {
          "bar": [
           {
            "error_x": {
             "color": "#2a3f5f"
            },
            "error_y": {
             "color": "#2a3f5f"
            },
            "marker": {
             "line": {
              "color": "#E5ECF6",
              "width": 0.5
             },
             "pattern": {
              "fillmode": "overlay",
              "size": 10,
              "solidity": 0.2
             }
            },
            "type": "bar"
           }
          ],
          "barpolar": [
           {
            "marker": {
             "line": {
              "color": "#E5ECF6",
              "width": 0.5
             },
             "pattern": {
              "fillmode": "overlay",
              "size": 10,
              "solidity": 0.2
             }
            },
            "type": "barpolar"
           }
          ],
          "carpet": [
           {
            "aaxis": {
             "endlinecolor": "#2a3f5f",
             "gridcolor": "white",
             "linecolor": "white",
             "minorgridcolor": "white",
             "startlinecolor": "#2a3f5f"
            },
            "baxis": {
             "endlinecolor": "#2a3f5f",
             "gridcolor": "white",
             "linecolor": "white",
             "minorgridcolor": "white",
             "startlinecolor": "#2a3f5f"
            },
            "type": "carpet"
           }
          ],
          "choropleth": [
           {
            "colorbar": {
             "outlinewidth": 0,
             "ticks": ""
            },
            "type": "choropleth"
           }
          ],
          "contour": [
           {
            "colorbar": {
             "outlinewidth": 0,
             "ticks": ""
            },
            "colorscale": [
             [
              0,
              "#0d0887"
             ],
             [
              0.1111111111111111,
              "#46039f"
             ],
             [
              0.2222222222222222,
              "#7201a8"
             ],
             [
              0.3333333333333333,
              "#9c179e"
             ],
             [
              0.4444444444444444,
              "#bd3786"
             ],
             [
              0.5555555555555556,
              "#d8576b"
             ],
             [
              0.6666666666666666,
              "#ed7953"
             ],
             [
              0.7777777777777778,
              "#fb9f3a"
             ],
             [
              0.8888888888888888,
              "#fdca26"
             ],
             [
              1,
              "#f0f921"
             ]
            ],
            "type": "contour"
           }
          ],
          "contourcarpet": [
           {
            "colorbar": {
             "outlinewidth": 0,
             "ticks": ""
            },
            "type": "contourcarpet"
           }
          ],
          "heatmap": [
           {
            "colorbar": {
             "outlinewidth": 0,
             "ticks": ""
            },
            "colorscale": [
             [
              0,
              "#0d0887"
             ],
             [
              0.1111111111111111,
              "#46039f"
             ],
             [
              0.2222222222222222,
              "#7201a8"
             ],
             [
              0.3333333333333333,
              "#9c179e"
             ],
             [
              0.4444444444444444,
              "#bd3786"
             ],
             [
              0.5555555555555556,
              "#d8576b"
             ],
             [
              0.6666666666666666,
              "#ed7953"
             ],
             [
              0.7777777777777778,
              "#fb9f3a"
             ],
             [
              0.8888888888888888,
              "#fdca26"
             ],
             [
              1,
              "#f0f921"
             ]
            ],
            "type": "heatmap"
           }
          ],
          "heatmapgl": [
           {
            "colorbar": {
             "outlinewidth": 0,
             "ticks": ""
            },
            "colorscale": [
             [
              0,
              "#0d0887"
             ],
             [
              0.1111111111111111,
              "#46039f"
             ],
             [
              0.2222222222222222,
              "#7201a8"
             ],
             [
              0.3333333333333333,
              "#9c179e"
             ],
             [
              0.4444444444444444,
              "#bd3786"
             ],
             [
              0.5555555555555556,
              "#d8576b"
             ],
             [
              0.6666666666666666,
              "#ed7953"
             ],
             [
              0.7777777777777778,
              "#fb9f3a"
             ],
             [
              0.8888888888888888,
              "#fdca26"
             ],
             [
              1,
              "#f0f921"
             ]
            ],
            "type": "heatmapgl"
           }
          ],
          "histogram": [
           {
            "marker": {
             "pattern": {
              "fillmode": "overlay",
              "size": 10,
              "solidity": 0.2
             }
            },
            "type": "histogram"
           }
          ],
          "histogram2d": [
           {
            "colorbar": {
             "outlinewidth": 0,
             "ticks": ""
            },
            "colorscale": [
             [
              0,
              "#0d0887"
             ],
             [
              0.1111111111111111,
              "#46039f"
             ],
             [
              0.2222222222222222,
              "#7201a8"
             ],
             [
              0.3333333333333333,
              "#9c179e"
             ],
             [
              0.4444444444444444,
              "#bd3786"
             ],
             [
              0.5555555555555556,
              "#d8576b"
             ],
             [
              0.6666666666666666,
              "#ed7953"
             ],
             [
              0.7777777777777778,
              "#fb9f3a"
             ],
             [
              0.8888888888888888,
              "#fdca26"
             ],
             [
              1,
              "#f0f921"
             ]
            ],
            "type": "histogram2d"
           }
          ],
          "histogram2dcontour": [
           {
            "colorbar": {
             "outlinewidth": 0,
             "ticks": ""
            },
            "colorscale": [
             [
              0,
              "#0d0887"
             ],
             [
              0.1111111111111111,
              "#46039f"
             ],
             [
              0.2222222222222222,
              "#7201a8"
             ],
             [
              0.3333333333333333,
              "#9c179e"
             ],
             [
              0.4444444444444444,
              "#bd3786"
             ],
             [
              0.5555555555555556,
              "#d8576b"
             ],
             [
              0.6666666666666666,
              "#ed7953"
             ],
             [
              0.7777777777777778,
              "#fb9f3a"
             ],
             [
              0.8888888888888888,
              "#fdca26"
             ],
             [
              1,
              "#f0f921"
             ]
            ],
            "type": "histogram2dcontour"
           }
          ],
          "mesh3d": [
           {
            "colorbar": {
             "outlinewidth": 0,
             "ticks": ""
            },
            "type": "mesh3d"
           }
          ],
          "parcoords": [
           {
            "line": {
             "colorbar": {
              "outlinewidth": 0,
              "ticks": ""
             }
            },
            "type": "parcoords"
           }
          ],
          "pie": [
           {
            "automargin": true,
            "type": "pie"
           }
          ],
          "scatter": [
           {
            "fillpattern": {
             "fillmode": "overlay",
             "size": 10,
             "solidity": 0.2
            },
            "type": "scatter"
           }
          ],
          "scatter3d": [
           {
            "line": {
             "colorbar": {
              "outlinewidth": 0,
              "ticks": ""
             }
            },
            "marker": {
             "colorbar": {
              "outlinewidth": 0,
              "ticks": ""
             }
            },
            "type": "scatter3d"
           }
          ],
          "scattercarpet": [
           {
            "marker": {
             "colorbar": {
              "outlinewidth": 0,
              "ticks": ""
             }
            },
            "type": "scattercarpet"
           }
          ],
          "scattergeo": [
           {
            "marker": {
             "colorbar": {
              "outlinewidth": 0,
              "ticks": ""
             }
            },
            "type": "scattergeo"
           }
          ],
          "scattergl": [
           {
            "marker": {
             "colorbar": {
              "outlinewidth": 0,
              "ticks": ""
             }
            },
            "type": "scattergl"
           }
          ],
          "scattermapbox": [
           {
            "marker": {
             "colorbar": {
              "outlinewidth": 0,
              "ticks": ""
             }
            },
            "type": "scattermapbox"
           }
          ],
          "scatterpolar": [
           {
            "marker": {
             "colorbar": {
              "outlinewidth": 0,
              "ticks": ""
             }
            },
            "type": "scatterpolar"
           }
          ],
          "scatterpolargl": [
           {
            "marker": {
             "colorbar": {
              "outlinewidth": 0,
              "ticks": ""
             }
            },
            "type": "scatterpolargl"
           }
          ],
          "scatterternary": [
           {
            "marker": {
             "colorbar": {
              "outlinewidth": 0,
              "ticks": ""
             }
            },
            "type": "scatterternary"
           }
          ],
          "surface": [
           {
            "colorbar": {
             "outlinewidth": 0,
             "ticks": ""
            },
            "colorscale": [
             [
              0,
              "#0d0887"
             ],
             [
              0.1111111111111111,
              "#46039f"
             ],
             [
              0.2222222222222222,
              "#7201a8"
             ],
             [
              0.3333333333333333,
              "#9c179e"
             ],
             [
              0.4444444444444444,
              "#bd3786"
             ],
             [
              0.5555555555555556,
              "#d8576b"
             ],
             [
              0.6666666666666666,
              "#ed7953"
             ],
             [
              0.7777777777777778,
              "#fb9f3a"
             ],
             [
              0.8888888888888888,
              "#fdca26"
             ],
             [
              1,
              "#f0f921"
             ]
            ],
            "type": "surface"
           }
          ],
          "table": [
           {
            "cells": {
             "fill": {
              "color": "#EBF0F8"
             },
             "line": {
              "color": "white"
             }
            },
            "header": {
             "fill": {
              "color": "#C8D4E3"
             },
             "line": {
              "color": "white"
             }
            },
            "type": "table"
           }
          ]
         },
         "layout": {
          "annotationdefaults": {
           "arrowcolor": "#2a3f5f",
           "arrowhead": 0,
           "arrowwidth": 1
          },
          "autotypenumbers": "strict",
          "coloraxis": {
           "colorbar": {
            "outlinewidth": 0,
            "ticks": ""
           }
          },
          "colorscale": {
           "diverging": [
            [
             0,
             "#8e0152"
            ],
            [
             0.1,
             "#c51b7d"
            ],
            [
             0.2,
             "#de77ae"
            ],
            [
             0.3,
             "#f1b6da"
            ],
            [
             0.4,
             "#fde0ef"
            ],
            [
             0.5,
             "#f7f7f7"
            ],
            [
             0.6,
             "#e6f5d0"
            ],
            [
             0.7,
             "#b8e186"
            ],
            [
             0.8,
             "#7fbc41"
            ],
            [
             0.9,
             "#4d9221"
            ],
            [
             1,
             "#276419"
            ]
           ],
           "sequential": [
            [
             0,
             "#0d0887"
            ],
            [
             0.1111111111111111,
             "#46039f"
            ],
            [
             0.2222222222222222,
             "#7201a8"
            ],
            [
             0.3333333333333333,
             "#9c179e"
            ],
            [
             0.4444444444444444,
             "#bd3786"
            ],
            [
             0.5555555555555556,
             "#d8576b"
            ],
            [
             0.6666666666666666,
             "#ed7953"
            ],
            [
             0.7777777777777778,
             "#fb9f3a"
            ],
            [
             0.8888888888888888,
             "#fdca26"
            ],
            [
             1,
             "#f0f921"
            ]
           ],
           "sequentialminus": [
            [
             0,
             "#0d0887"
            ],
            [
             0.1111111111111111,
             "#46039f"
            ],
            [
             0.2222222222222222,
             "#7201a8"
            ],
            [
             0.3333333333333333,
             "#9c179e"
            ],
            [
             0.4444444444444444,
             "#bd3786"
            ],
            [
             0.5555555555555556,
             "#d8576b"
            ],
            [
             0.6666666666666666,
             "#ed7953"
            ],
            [
             0.7777777777777778,
             "#fb9f3a"
            ],
            [
             0.8888888888888888,
             "#fdca26"
            ],
            [
             1,
             "#f0f921"
            ]
           ]
          },
          "colorway": [
           "#636efa",
           "#EF553B",
           "#00cc96",
           "#ab63fa",
           "#FFA15A",
           "#19d3f3",
           "#FF6692",
           "#B6E880",
           "#FF97FF",
           "#FECB52"
          ],
          "font": {
           "color": "#2a3f5f"
          },
          "geo": {
           "bgcolor": "white",
           "lakecolor": "white",
           "landcolor": "#E5ECF6",
           "showlakes": true,
           "showland": true,
           "subunitcolor": "white"
          },
          "hoverlabel": {
           "align": "left"
          },
          "hovermode": "closest",
          "mapbox": {
           "style": "light"
          },
          "paper_bgcolor": "white",
          "plot_bgcolor": "#E5ECF6",
          "polar": {
           "angularaxis": {
            "gridcolor": "white",
            "linecolor": "white",
            "ticks": ""
           },
           "bgcolor": "#E5ECF6",
           "radialaxis": {
            "gridcolor": "white",
            "linecolor": "white",
            "ticks": ""
           }
          },
          "scene": {
           "xaxis": {
            "backgroundcolor": "#E5ECF6",
            "gridcolor": "white",
            "gridwidth": 2,
            "linecolor": "white",
            "showbackground": true,
            "ticks": "",
            "zerolinecolor": "white"
           },
           "yaxis": {
            "backgroundcolor": "#E5ECF6",
            "gridcolor": "white",
            "gridwidth": 2,
            "linecolor": "white",
            "showbackground": true,
            "ticks": "",
            "zerolinecolor": "white"
           },
           "zaxis": {
            "backgroundcolor": "#E5ECF6",
            "gridcolor": "white",
            "gridwidth": 2,
            "linecolor": "white",
            "showbackground": true,
            "ticks": "",
            "zerolinecolor": "white"
           }
          },
          "shapedefaults": {
           "line": {
            "color": "#2a3f5f"
           }
          },
          "ternary": {
           "aaxis": {
            "gridcolor": "white",
            "linecolor": "white",
            "ticks": ""
           },
           "baxis": {
            "gridcolor": "white",
            "linecolor": "white",
            "ticks": ""
           },
           "bgcolor": "#E5ECF6",
           "caxis": {
            "gridcolor": "white",
            "linecolor": "white",
            "ticks": ""
           }
          },
          "title": {
           "x": 0.05
          },
          "xaxis": {
           "automargin": true,
           "gridcolor": "white",
           "linecolor": "white",
           "ticks": "",
           "title": {
            "standoff": 15
           },
           "zerolinecolor": "white",
           "zerolinewidth": 2
          },
          "yaxis": {
           "automargin": true,
           "gridcolor": "white",
           "linecolor": "white",
           "ticks": "",
           "title": {
            "standoff": 15
           },
           "zerolinecolor": "white",
           "zerolinewidth": 2
          }
         }
        }
       }
      }
     },
     "metadata": {},
     "output_type": "display_data"
    }
   ],
   "source": [
    "fig = go.Figure(data=[go.Candlestick(x=trades['time'],\n",
    "                open=trades['open'],\n",
    "                high=trades['high'],\n",
    "                low=trades['low'],\n",
    "                close=trades['close'])],\n",
    "                )\n",
    "\n",
    "fig.show()"
   ]
  },
  {
   "cell_type": "code",
   "execution_count": null,
   "metadata": {},
   "outputs": [],
   "source": []
  }
 ],
 "metadata": {
  "kernelspec": {
   "display_name": "metatrader-Cdlomroj-py3.10",
   "language": "python",
   "name": "python3"
  },
  "language_info": {
   "codemirror_mode": {
    "name": "ipython",
    "version": 3
   },
   "file_extension": ".py",
   "mimetype": "text/x-python",
   "name": "python",
   "nbconvert_exporter": "python",
   "pygments_lexer": "ipython3",
   "version": "3.10.0"
  }
 },
 "nbformat": 4,
 "nbformat_minor": 2
}
