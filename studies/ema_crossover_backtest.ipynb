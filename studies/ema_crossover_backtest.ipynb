{
 "cells": [
  {
   "cell_type": "code",
   "execution_count": 1,
   "metadata": {},
   "outputs": [
    {
     "name": "stdout",
     "output_type": "stream",
     "text": [
      "Connected to Metatrader successfully.\n"
     ]
    }
   ],
   "source": [
    "from metatrader.utils.factory import MetatraderFactory\n",
    "metatrader = MetatraderFactory.get_metatrader()\n",
    "import pandas as pd\n",
    "from datetime import datetime\n",
    "import plotly.express as px\n",
    "import plotly.graph_objects as go\n",
    "\n",
    "mt5 = metatrader.connect()\n",
    "\n",
    "symbol = 'EURUSD'\n",
    "timeframe = mt5.TIMEFRAME_M5\n",
    "\n",
    "trade_volume = 500000\n",
    "commission = 0.000025\n",
    "\n"
   ]
  },
  {
   "cell_type": "code",
   "execution_count": 2,
   "metadata": {},
   "outputs": [
    {
     "data": {
      "text/html": [
       "<div>\n",
       "<style scoped>\n",
       "    .dataframe tbody tr th:only-of-type {\n",
       "        vertical-align: middle;\n",
       "    }\n",
       "\n",
       "    .dataframe tbody tr th {\n",
       "        vertical-align: top;\n",
       "    }\n",
       "\n",
       "    .dataframe thead th {\n",
       "        text-align: right;\n",
       "    }\n",
       "</style>\n",
       "<table border=\"1\" class=\"dataframe\">\n",
       "  <thead>\n",
       "    <tr style=\"text-align: right;\">\n",
       "      <th></th>\n",
       "      <th>time</th>\n",
       "      <th>open</th>\n",
       "      <th>high</th>\n",
       "      <th>low</th>\n",
       "      <th>close</th>\n",
       "      <th>tick_volume</th>\n",
       "      <th>spread</th>\n",
       "      <th>real_volume</th>\n",
       "      <th>trade_volume</th>\n",
       "    </tr>\n",
       "  </thead>\n",
       "  <tbody>\n",
       "    <tr>\n",
       "      <th>0</th>\n",
       "      <td>2023-09-29 15:35:00</td>\n",
       "      <td>1.05896</td>\n",
       "      <td>1.06062</td>\n",
       "      <td>1.05883</td>\n",
       "      <td>1.06048</td>\n",
       "      <td>917</td>\n",
       "      <td>0</td>\n",
       "      <td>0</td>\n",
       "      <td>500000</td>\n",
       "    </tr>\n",
       "    <tr>\n",
       "      <th>1</th>\n",
       "      <td>2023-09-29 15:40:00</td>\n",
       "      <td>1.06048</td>\n",
       "      <td>1.06101</td>\n",
       "      <td>1.06020</td>\n",
       "      <td>1.06046</td>\n",
       "      <td>719</td>\n",
       "      <td>0</td>\n",
       "      <td>0</td>\n",
       "      <td>500000</td>\n",
       "    </tr>\n",
       "    <tr>\n",
       "      <th>2</th>\n",
       "      <td>2023-09-29 15:45:00</td>\n",
       "      <td>1.06043</td>\n",
       "      <td>1.06047</td>\n",
       "      <td>1.05989</td>\n",
       "      <td>1.06003</td>\n",
       "      <td>576</td>\n",
       "      <td>0</td>\n",
       "      <td>0</td>\n",
       "      <td>500000</td>\n",
       "    </tr>\n",
       "    <tr>\n",
       "      <th>3</th>\n",
       "      <td>2023-09-29 15:50:00</td>\n",
       "      <td>1.06002</td>\n",
       "      <td>1.06041</td>\n",
       "      <td>1.05992</td>\n",
       "      <td>1.06008</td>\n",
       "      <td>561</td>\n",
       "      <td>0</td>\n",
       "      <td>0</td>\n",
       "      <td>500000</td>\n",
       "    </tr>\n",
       "    <tr>\n",
       "      <th>4</th>\n",
       "      <td>2023-09-29 15:55:00</td>\n",
       "      <td>1.06012</td>\n",
       "      <td>1.06038</td>\n",
       "      <td>1.05966</td>\n",
       "      <td>1.05998</td>\n",
       "      <td>517</td>\n",
       "      <td>0</td>\n",
       "      <td>0</td>\n",
       "      <td>500000</td>\n",
       "    </tr>\n",
       "    <tr>\n",
       "      <th>...</th>\n",
       "      <td>...</td>\n",
       "      <td>...</td>\n",
       "      <td>...</td>\n",
       "      <td>...</td>\n",
       "      <td>...</td>\n",
       "      <td>...</td>\n",
       "      <td>...</td>\n",
       "      <td>...</td>\n",
       "      <td>...</td>\n",
       "    </tr>\n",
       "    <tr>\n",
       "      <th>4995</th>\n",
       "      <td>2023-10-25 00:30:00</td>\n",
       "      <td>1.05923</td>\n",
       "      <td>1.05923</td>\n",
       "      <td>1.05913</td>\n",
       "      <td>1.05921</td>\n",
       "      <td>45</td>\n",
       "      <td>22</td>\n",
       "      <td>0</td>\n",
       "      <td>500000</td>\n",
       "    </tr>\n",
       "    <tr>\n",
       "      <th>4996</th>\n",
       "      <td>2023-10-25 00:35:00</td>\n",
       "      <td>1.05920</td>\n",
       "      <td>1.05928</td>\n",
       "      <td>1.05916</td>\n",
       "      <td>1.05921</td>\n",
       "      <td>109</td>\n",
       "      <td>8</td>\n",
       "      <td>0</td>\n",
       "      <td>500000</td>\n",
       "    </tr>\n",
       "    <tr>\n",
       "      <th>4997</th>\n",
       "      <td>2023-10-25 00:40:00</td>\n",
       "      <td>1.05923</td>\n",
       "      <td>1.05929</td>\n",
       "      <td>1.05919</td>\n",
       "      <td>1.05923</td>\n",
       "      <td>96</td>\n",
       "      <td>20</td>\n",
       "      <td>0</td>\n",
       "      <td>500000</td>\n",
       "    </tr>\n",
       "    <tr>\n",
       "      <th>4998</th>\n",
       "      <td>2023-10-25 00:45:00</td>\n",
       "      <td>1.05924</td>\n",
       "      <td>1.05925</td>\n",
       "      <td>1.05909</td>\n",
       "      <td>1.05913</td>\n",
       "      <td>143</td>\n",
       "      <td>8</td>\n",
       "      <td>0</td>\n",
       "      <td>500000</td>\n",
       "    </tr>\n",
       "    <tr>\n",
       "      <th>4999</th>\n",
       "      <td>2023-10-25 00:50:00</td>\n",
       "      <td>1.05912</td>\n",
       "      <td>1.05919</td>\n",
       "      <td>1.05911</td>\n",
       "      <td>1.05916</td>\n",
       "      <td>35</td>\n",
       "      <td>13</td>\n",
       "      <td>0</td>\n",
       "      <td>500000</td>\n",
       "    </tr>\n",
       "  </tbody>\n",
       "</table>\n",
       "<p>5000 rows × 9 columns</p>\n",
       "</div>"
      ],
      "text/plain": [
       "                    time     open     high      low    close  tick_volume  \\\n",
       "0    2023-09-29 15:35:00  1.05896  1.06062  1.05883  1.06048          917   \n",
       "1    2023-09-29 15:40:00  1.06048  1.06101  1.06020  1.06046          719   \n",
       "2    2023-09-29 15:45:00  1.06043  1.06047  1.05989  1.06003          576   \n",
       "3    2023-09-29 15:50:00  1.06002  1.06041  1.05992  1.06008          561   \n",
       "4    2023-09-29 15:55:00  1.06012  1.06038  1.05966  1.05998          517   \n",
       "...                  ...      ...      ...      ...      ...          ...   \n",
       "4995 2023-10-25 00:30:00  1.05923  1.05923  1.05913  1.05921           45   \n",
       "4996 2023-10-25 00:35:00  1.05920  1.05928  1.05916  1.05921          109   \n",
       "4997 2023-10-25 00:40:00  1.05923  1.05929  1.05919  1.05923           96   \n",
       "4998 2023-10-25 00:45:00  1.05924  1.05925  1.05909  1.05913          143   \n",
       "4999 2023-10-25 00:50:00  1.05912  1.05919  1.05911  1.05916           35   \n",
       "\n",
       "      spread  real_volume  trade_volume  \n",
       "0          0            0        500000  \n",
       "1          0            0        500000  \n",
       "2          0            0        500000  \n",
       "3          0            0        500000  \n",
       "4          0            0        500000  \n",
       "...      ...          ...           ...  \n",
       "4995      22            0        500000  \n",
       "4996       8            0        500000  \n",
       "4997      20            0        500000  \n",
       "4998       8            0        500000  \n",
       "4999      13            0        500000  \n",
       "\n",
       "[5000 rows x 9 columns]"
      ]
     },
     "execution_count": 2,
     "metadata": {},
     "output_type": "execute_result"
    }
   ],
   "source": [
    "bars = pd.DataFrame(mt5.copy_rates_from_pos(symbol, timeframe, 0,5000))\n",
    "bars['time'] = pd.to_datetime(bars['time'], unit='s')\n",
    "bars['trade_volume'] = trade_volume\n",
    "bars"
   ]
  },
  {
   "cell_type": "code",
   "execution_count": 3,
   "metadata": {},
   "outputs": [
    {
     "data": {
      "text/html": [
       "<div>\n",
       "<style scoped>\n",
       "    .dataframe tbody tr th:only-of-type {\n",
       "        vertical-align: middle;\n",
       "    }\n",
       "\n",
       "    .dataframe tbody tr th {\n",
       "        vertical-align: top;\n",
       "    }\n",
       "\n",
       "    .dataframe thead th {\n",
       "        text-align: right;\n",
       "    }\n",
       "</style>\n",
       "<table border=\"1\" class=\"dataframe\">\n",
       "  <thead>\n",
       "    <tr style=\"text-align: right;\">\n",
       "      <th></th>\n",
       "      <th>time</th>\n",
       "      <th>open</th>\n",
       "      <th>high</th>\n",
       "      <th>low</th>\n",
       "      <th>close</th>\n",
       "      <th>tick_volume</th>\n",
       "      <th>spread</th>\n",
       "      <th>real_volume</th>\n",
       "      <th>trade_volume</th>\n",
       "      <th>ema_20</th>\n",
       "      <th>ema_10</th>\n",
       "      <th>hour</th>\n",
       "    </tr>\n",
       "  </thead>\n",
       "  <tbody>\n",
       "    <tr>\n",
       "      <th>0</th>\n",
       "      <td>2023-09-29 15:35:00</td>\n",
       "      <td>1.05896</td>\n",
       "      <td>1.06062</td>\n",
       "      <td>1.05883</td>\n",
       "      <td>1.06048</td>\n",
       "      <td>917</td>\n",
       "      <td>0</td>\n",
       "      <td>0</td>\n",
       "      <td>500000</td>\n",
       "      <td>1.060480</td>\n",
       "      <td>1.060480</td>\n",
       "      <td>15</td>\n",
       "    </tr>\n",
       "    <tr>\n",
       "      <th>1</th>\n",
       "      <td>2023-09-29 15:40:00</td>\n",
       "      <td>1.06048</td>\n",
       "      <td>1.06101</td>\n",
       "      <td>1.06020</td>\n",
       "      <td>1.06046</td>\n",
       "      <td>719</td>\n",
       "      <td>0</td>\n",
       "      <td>0</td>\n",
       "      <td>500000</td>\n",
       "      <td>1.060469</td>\n",
       "      <td>1.060469</td>\n",
       "      <td>15</td>\n",
       "    </tr>\n",
       "    <tr>\n",
       "      <th>2</th>\n",
       "      <td>2023-09-29 15:45:00</td>\n",
       "      <td>1.06043</td>\n",
       "      <td>1.06047</td>\n",
       "      <td>1.05989</td>\n",
       "      <td>1.06003</td>\n",
       "      <td>576</td>\n",
       "      <td>0</td>\n",
       "      <td>0</td>\n",
       "      <td>500000</td>\n",
       "      <td>1.060308</td>\n",
       "      <td>1.060293</td>\n",
       "      <td>15</td>\n",
       "    </tr>\n",
       "    <tr>\n",
       "      <th>3</th>\n",
       "      <td>2023-09-29 15:50:00</td>\n",
       "      <td>1.06002</td>\n",
       "      <td>1.06041</td>\n",
       "      <td>1.05992</td>\n",
       "      <td>1.06008</td>\n",
       "      <td>561</td>\n",
       "      <td>0</td>\n",
       "      <td>0</td>\n",
       "      <td>500000</td>\n",
       "      <td>1.060242</td>\n",
       "      <td>1.060223</td>\n",
       "      <td>15</td>\n",
       "    </tr>\n",
       "    <tr>\n",
       "      <th>4</th>\n",
       "      <td>2023-09-29 15:55:00</td>\n",
       "      <td>1.06012</td>\n",
       "      <td>1.06038</td>\n",
       "      <td>1.05966</td>\n",
       "      <td>1.05998</td>\n",
       "      <td>517</td>\n",
       "      <td>0</td>\n",
       "      <td>0</td>\n",
       "      <td>500000</td>\n",
       "      <td>1.060179</td>\n",
       "      <td>1.060153</td>\n",
       "      <td>15</td>\n",
       "    </tr>\n",
       "    <tr>\n",
       "      <th>...</th>\n",
       "      <td>...</td>\n",
       "      <td>...</td>\n",
       "      <td>...</td>\n",
       "      <td>...</td>\n",
       "      <td>...</td>\n",
       "      <td>...</td>\n",
       "      <td>...</td>\n",
       "      <td>...</td>\n",
       "      <td>...</td>\n",
       "      <td>...</td>\n",
       "      <td>...</td>\n",
       "      <td>...</td>\n",
       "    </tr>\n",
       "    <tr>\n",
       "      <th>4995</th>\n",
       "      <td>2023-10-25 00:30:00</td>\n",
       "      <td>1.05923</td>\n",
       "      <td>1.05923</td>\n",
       "      <td>1.05913</td>\n",
       "      <td>1.05921</td>\n",
       "      <td>45</td>\n",
       "      <td>22</td>\n",
       "      <td>0</td>\n",
       "      <td>500000</td>\n",
       "      <td>1.059103</td>\n",
       "      <td>1.059130</td>\n",
       "      <td>0</td>\n",
       "    </tr>\n",
       "    <tr>\n",
       "      <th>4996</th>\n",
       "      <td>2023-10-25 00:35:00</td>\n",
       "      <td>1.05920</td>\n",
       "      <td>1.05928</td>\n",
       "      <td>1.05916</td>\n",
       "      <td>1.05921</td>\n",
       "      <td>109</td>\n",
       "      <td>8</td>\n",
       "      <td>0</td>\n",
       "      <td>500000</td>\n",
       "      <td>1.059113</td>\n",
       "      <td>1.059145</td>\n",
       "      <td>0</td>\n",
       "    </tr>\n",
       "    <tr>\n",
       "      <th>4997</th>\n",
       "      <td>2023-10-25 00:40:00</td>\n",
       "      <td>1.05923</td>\n",
       "      <td>1.05929</td>\n",
       "      <td>1.05919</td>\n",
       "      <td>1.05923</td>\n",
       "      <td>96</td>\n",
       "      <td>20</td>\n",
       "      <td>0</td>\n",
       "      <td>500000</td>\n",
       "      <td>1.059124</td>\n",
       "      <td>1.059160</td>\n",
       "      <td>0</td>\n",
       "    </tr>\n",
       "    <tr>\n",
       "      <th>4998</th>\n",
       "      <td>2023-10-25 00:45:00</td>\n",
       "      <td>1.05924</td>\n",
       "      <td>1.05925</td>\n",
       "      <td>1.05909</td>\n",
       "      <td>1.05913</td>\n",
       "      <td>143</td>\n",
       "      <td>8</td>\n",
       "      <td>0</td>\n",
       "      <td>500000</td>\n",
       "      <td>1.059125</td>\n",
       "      <td>1.059155</td>\n",
       "      <td>0</td>\n",
       "    </tr>\n",
       "    <tr>\n",
       "      <th>4999</th>\n",
       "      <td>2023-10-25 00:50:00</td>\n",
       "      <td>1.05912</td>\n",
       "      <td>1.05919</td>\n",
       "      <td>1.05911</td>\n",
       "      <td>1.05916</td>\n",
       "      <td>35</td>\n",
       "      <td>13</td>\n",
       "      <td>0</td>\n",
       "      <td>500000</td>\n",
       "      <td>1.059128</td>\n",
       "      <td>1.059156</td>\n",
       "      <td>0</td>\n",
       "    </tr>\n",
       "  </tbody>\n",
       "</table>\n",
       "<p>5000 rows × 12 columns</p>\n",
       "</div>"
      ],
      "text/plain": [
       "                    time     open     high      low    close  tick_volume  \\\n",
       "0    2023-09-29 15:35:00  1.05896  1.06062  1.05883  1.06048          917   \n",
       "1    2023-09-29 15:40:00  1.06048  1.06101  1.06020  1.06046          719   \n",
       "2    2023-09-29 15:45:00  1.06043  1.06047  1.05989  1.06003          576   \n",
       "3    2023-09-29 15:50:00  1.06002  1.06041  1.05992  1.06008          561   \n",
       "4    2023-09-29 15:55:00  1.06012  1.06038  1.05966  1.05998          517   \n",
       "...                  ...      ...      ...      ...      ...          ...   \n",
       "4995 2023-10-25 00:30:00  1.05923  1.05923  1.05913  1.05921           45   \n",
       "4996 2023-10-25 00:35:00  1.05920  1.05928  1.05916  1.05921          109   \n",
       "4997 2023-10-25 00:40:00  1.05923  1.05929  1.05919  1.05923           96   \n",
       "4998 2023-10-25 00:45:00  1.05924  1.05925  1.05909  1.05913          143   \n",
       "4999 2023-10-25 00:50:00  1.05912  1.05919  1.05911  1.05916           35   \n",
       "\n",
       "      spread  real_volume  trade_volume    ema_20    ema_10  hour  \n",
       "0          0            0        500000  1.060480  1.060480    15  \n",
       "1          0            0        500000  1.060469  1.060469    15  \n",
       "2          0            0        500000  1.060308  1.060293    15  \n",
       "3          0            0        500000  1.060242  1.060223    15  \n",
       "4          0            0        500000  1.060179  1.060153    15  \n",
       "...      ...          ...           ...       ...       ...   ...  \n",
       "4995      22            0        500000  1.059103  1.059130     0  \n",
       "4996       8            0        500000  1.059113  1.059145     0  \n",
       "4997      20            0        500000  1.059124  1.059160     0  \n",
       "4998       8            0        500000  1.059125  1.059155     0  \n",
       "4999      13            0        500000  1.059128  1.059156     0  \n",
       "\n",
       "[5000 rows x 12 columns]"
      ]
     },
     "execution_count": 3,
     "metadata": {},
     "output_type": "execute_result"
    }
   ],
   "source": [
    "bars['ema_20'] = bars['close'].ewm(span=20).mean()\n",
    "bars['ema_10'] = bars['close'].ewm(span=10).mean()\n",
    "bars['hour'] = bars['time'].dt.hour\n",
    "bars"
   ]
  },
  {
   "cell_type": "code",
   "execution_count": 4,
   "metadata": {},
   "outputs": [
    {
     "data": {
      "text/html": [
       "<div>\n",
       "<style scoped>\n",
       "    .dataframe tbody tr th:only-of-type {\n",
       "        vertical-align: middle;\n",
       "    }\n",
       "\n",
       "    .dataframe tbody tr th {\n",
       "        vertical-align: top;\n",
       "    }\n",
       "\n",
       "    .dataframe thead th {\n",
       "        text-align: right;\n",
       "    }\n",
       "</style>\n",
       "<table border=\"1\" class=\"dataframe\">\n",
       "  <thead>\n",
       "    <tr style=\"text-align: right;\">\n",
       "      <th></th>\n",
       "      <th>time</th>\n",
       "      <th>open</th>\n",
       "      <th>high</th>\n",
       "      <th>low</th>\n",
       "      <th>close</th>\n",
       "      <th>tick_volume</th>\n",
       "      <th>spread</th>\n",
       "      <th>real_volume</th>\n",
       "      <th>trade_volume</th>\n",
       "      <th>ema_20</th>\n",
       "      <th>ema_10</th>\n",
       "      <th>hour</th>\n",
       "      <th>signal</th>\n",
       "      <th>prev_price</th>\n",
       "      <th>price_change</th>\n",
       "      <th>signal_change</th>\n",
       "      <th>commission</th>\n",
       "    </tr>\n",
       "  </thead>\n",
       "  <tbody>\n",
       "    <tr>\n",
       "      <th>0</th>\n",
       "      <td>2023-09-29 15:35:00</td>\n",
       "      <td>1.05896</td>\n",
       "      <td>1.06062</td>\n",
       "      <td>1.05883</td>\n",
       "      <td>1.06048</td>\n",
       "      <td>917</td>\n",
       "      <td>0</td>\n",
       "      <td>0</td>\n",
       "      <td>500000</td>\n",
       "      <td>1.060480</td>\n",
       "      <td>1.060480</td>\n",
       "      <td>15</td>\n",
       "      <td>0</td>\n",
       "      <td>NaN</td>\n",
       "      <td>NaN</td>\n",
       "      <td>NaN</td>\n",
       "      <td>NaN</td>\n",
       "    </tr>\n",
       "    <tr>\n",
       "      <th>1</th>\n",
       "      <td>2023-09-29 15:40:00</td>\n",
       "      <td>1.06048</td>\n",
       "      <td>1.06101</td>\n",
       "      <td>1.06020</td>\n",
       "      <td>1.06046</td>\n",
       "      <td>719</td>\n",
       "      <td>0</td>\n",
       "      <td>0</td>\n",
       "      <td>500000</td>\n",
       "      <td>1.060469</td>\n",
       "      <td>1.060469</td>\n",
       "      <td>15</td>\n",
       "      <td>-1</td>\n",
       "      <td>1.06048</td>\n",
       "      <td>-0.00002</td>\n",
       "      <td>1.0</td>\n",
       "      <td>12.5</td>\n",
       "    </tr>\n",
       "    <tr>\n",
       "      <th>2</th>\n",
       "      <td>2023-09-29 15:45:00</td>\n",
       "      <td>1.06043</td>\n",
       "      <td>1.06047</td>\n",
       "      <td>1.05989</td>\n",
       "      <td>1.06003</td>\n",
       "      <td>576</td>\n",
       "      <td>0</td>\n",
       "      <td>0</td>\n",
       "      <td>500000</td>\n",
       "      <td>1.060308</td>\n",
       "      <td>1.060293</td>\n",
       "      <td>15</td>\n",
       "      <td>-1</td>\n",
       "      <td>1.06046</td>\n",
       "      <td>-0.00043</td>\n",
       "      <td>0.0</td>\n",
       "      <td>0.0</td>\n",
       "    </tr>\n",
       "    <tr>\n",
       "      <th>3</th>\n",
       "      <td>2023-09-29 15:50:00</td>\n",
       "      <td>1.06002</td>\n",
       "      <td>1.06041</td>\n",
       "      <td>1.05992</td>\n",
       "      <td>1.06008</td>\n",
       "      <td>561</td>\n",
       "      <td>0</td>\n",
       "      <td>0</td>\n",
       "      <td>500000</td>\n",
       "      <td>1.060242</td>\n",
       "      <td>1.060223</td>\n",
       "      <td>15</td>\n",
       "      <td>-1</td>\n",
       "      <td>1.06003</td>\n",
       "      <td>0.00005</td>\n",
       "      <td>0.0</td>\n",
       "      <td>0.0</td>\n",
       "    </tr>\n",
       "    <tr>\n",
       "      <th>4</th>\n",
       "      <td>2023-09-29 15:55:00</td>\n",
       "      <td>1.06012</td>\n",
       "      <td>1.06038</td>\n",
       "      <td>1.05966</td>\n",
       "      <td>1.05998</td>\n",
       "      <td>517</td>\n",
       "      <td>0</td>\n",
       "      <td>0</td>\n",
       "      <td>500000</td>\n",
       "      <td>1.060179</td>\n",
       "      <td>1.060153</td>\n",
       "      <td>15</td>\n",
       "      <td>-1</td>\n",
       "      <td>1.06008</td>\n",
       "      <td>-0.00010</td>\n",
       "      <td>0.0</td>\n",
       "      <td>0.0</td>\n",
       "    </tr>\n",
       "    <tr>\n",
       "      <th>...</th>\n",
       "      <td>...</td>\n",
       "      <td>...</td>\n",
       "      <td>...</td>\n",
       "      <td>...</td>\n",
       "      <td>...</td>\n",
       "      <td>...</td>\n",
       "      <td>...</td>\n",
       "      <td>...</td>\n",
       "      <td>...</td>\n",
       "      <td>...</td>\n",
       "      <td>...</td>\n",
       "      <td>...</td>\n",
       "      <td>...</td>\n",
       "      <td>...</td>\n",
       "      <td>...</td>\n",
       "      <td>...</td>\n",
       "      <td>...</td>\n",
       "    </tr>\n",
       "    <tr>\n",
       "      <th>4995</th>\n",
       "      <td>2023-10-25 00:30:00</td>\n",
       "      <td>1.05923</td>\n",
       "      <td>1.05923</td>\n",
       "      <td>1.05913</td>\n",
       "      <td>1.05921</td>\n",
       "      <td>45</td>\n",
       "      <td>22</td>\n",
       "      <td>0</td>\n",
       "      <td>500000</td>\n",
       "      <td>1.059103</td>\n",
       "      <td>1.059130</td>\n",
       "      <td>0</td>\n",
       "      <td>0</td>\n",
       "      <td>1.05918</td>\n",
       "      <td>0.00003</td>\n",
       "      <td>0.0</td>\n",
       "      <td>0.0</td>\n",
       "    </tr>\n",
       "    <tr>\n",
       "      <th>4996</th>\n",
       "      <td>2023-10-25 00:35:00</td>\n",
       "      <td>1.05920</td>\n",
       "      <td>1.05928</td>\n",
       "      <td>1.05916</td>\n",
       "      <td>1.05921</td>\n",
       "      <td>109</td>\n",
       "      <td>8</td>\n",
       "      <td>0</td>\n",
       "      <td>500000</td>\n",
       "      <td>1.059113</td>\n",
       "      <td>1.059145</td>\n",
       "      <td>0</td>\n",
       "      <td>0</td>\n",
       "      <td>1.05921</td>\n",
       "      <td>0.00000</td>\n",
       "      <td>0.0</td>\n",
       "      <td>0.0</td>\n",
       "    </tr>\n",
       "    <tr>\n",
       "      <th>4997</th>\n",
       "      <td>2023-10-25 00:40:00</td>\n",
       "      <td>1.05923</td>\n",
       "      <td>1.05929</td>\n",
       "      <td>1.05919</td>\n",
       "      <td>1.05923</td>\n",
       "      <td>96</td>\n",
       "      <td>20</td>\n",
       "      <td>0</td>\n",
       "      <td>500000</td>\n",
       "      <td>1.059124</td>\n",
       "      <td>1.059160</td>\n",
       "      <td>0</td>\n",
       "      <td>0</td>\n",
       "      <td>1.05921</td>\n",
       "      <td>0.00002</td>\n",
       "      <td>0.0</td>\n",
       "      <td>0.0</td>\n",
       "    </tr>\n",
       "    <tr>\n",
       "      <th>4998</th>\n",
       "      <td>2023-10-25 00:45:00</td>\n",
       "      <td>1.05924</td>\n",
       "      <td>1.05925</td>\n",
       "      <td>1.05909</td>\n",
       "      <td>1.05913</td>\n",
       "      <td>143</td>\n",
       "      <td>8</td>\n",
       "      <td>0</td>\n",
       "      <td>500000</td>\n",
       "      <td>1.059125</td>\n",
       "      <td>1.059155</td>\n",
       "      <td>0</td>\n",
       "      <td>0</td>\n",
       "      <td>1.05923</td>\n",
       "      <td>-0.00010</td>\n",
       "      <td>0.0</td>\n",
       "      <td>0.0</td>\n",
       "    </tr>\n",
       "    <tr>\n",
       "      <th>4999</th>\n",
       "      <td>2023-10-25 00:50:00</td>\n",
       "      <td>1.05912</td>\n",
       "      <td>1.05919</td>\n",
       "      <td>1.05911</td>\n",
       "      <td>1.05916</td>\n",
       "      <td>35</td>\n",
       "      <td>13</td>\n",
       "      <td>0</td>\n",
       "      <td>500000</td>\n",
       "      <td>1.059128</td>\n",
       "      <td>1.059156</td>\n",
       "      <td>0</td>\n",
       "      <td>0</td>\n",
       "      <td>1.05913</td>\n",
       "      <td>0.00003</td>\n",
       "      <td>0.0</td>\n",
       "      <td>0.0</td>\n",
       "    </tr>\n",
       "  </tbody>\n",
       "</table>\n",
       "<p>5000 rows × 17 columns</p>\n",
       "</div>"
      ],
      "text/plain": [
       "                    time     open     high      low    close  tick_volume  \\\n",
       "0    2023-09-29 15:35:00  1.05896  1.06062  1.05883  1.06048          917   \n",
       "1    2023-09-29 15:40:00  1.06048  1.06101  1.06020  1.06046          719   \n",
       "2    2023-09-29 15:45:00  1.06043  1.06047  1.05989  1.06003          576   \n",
       "3    2023-09-29 15:50:00  1.06002  1.06041  1.05992  1.06008          561   \n",
       "4    2023-09-29 15:55:00  1.06012  1.06038  1.05966  1.05998          517   \n",
       "...                  ...      ...      ...      ...      ...          ...   \n",
       "4995 2023-10-25 00:30:00  1.05923  1.05923  1.05913  1.05921           45   \n",
       "4996 2023-10-25 00:35:00  1.05920  1.05928  1.05916  1.05921          109   \n",
       "4997 2023-10-25 00:40:00  1.05923  1.05929  1.05919  1.05923           96   \n",
       "4998 2023-10-25 00:45:00  1.05924  1.05925  1.05909  1.05913          143   \n",
       "4999 2023-10-25 00:50:00  1.05912  1.05919  1.05911  1.05916           35   \n",
       "\n",
       "      spread  real_volume  trade_volume    ema_20    ema_10  hour  signal  \\\n",
       "0          0            0        500000  1.060480  1.060480    15       0   \n",
       "1          0            0        500000  1.060469  1.060469    15      -1   \n",
       "2          0            0        500000  1.060308  1.060293    15      -1   \n",
       "3          0            0        500000  1.060242  1.060223    15      -1   \n",
       "4          0            0        500000  1.060179  1.060153    15      -1   \n",
       "...      ...          ...           ...       ...       ...   ...     ...   \n",
       "4995      22            0        500000  1.059103  1.059130     0       0   \n",
       "4996       8            0        500000  1.059113  1.059145     0       0   \n",
       "4997      20            0        500000  1.059124  1.059160     0       0   \n",
       "4998       8            0        500000  1.059125  1.059155     0       0   \n",
       "4999      13            0        500000  1.059128  1.059156     0       0   \n",
       "\n",
       "      prev_price  price_change  signal_change  commission  \n",
       "0            NaN           NaN            NaN         NaN  \n",
       "1        1.06048      -0.00002            1.0        12.5  \n",
       "2        1.06046      -0.00043            0.0         0.0  \n",
       "3        1.06003       0.00005            0.0         0.0  \n",
       "4        1.06008      -0.00010            0.0         0.0  \n",
       "...          ...           ...            ...         ...  \n",
       "4995     1.05918       0.00003            0.0         0.0  \n",
       "4996     1.05921       0.00000            0.0         0.0  \n",
       "4997     1.05921       0.00002            0.0         0.0  \n",
       "4998     1.05923      -0.00010            0.0         0.0  \n",
       "4999     1.05913       0.00003            0.0         0.0  \n",
       "\n",
       "[5000 rows x 17 columns]"
      ]
     },
     "execution_count": 4,
     "metadata": {},
     "output_type": "execute_result"
    }
   ],
   "source": [
    "bars2 = bars.dropna().copy()\n",
    "\n",
    "def get_signal(x):\n",
    "\n",
    "    if 9 <= x['hour'] <= 22:\n",
    "\n",
    "        if x['ema_10'] > x['ema_20']:\n",
    "            x[\"position\"] = \"long\"\n",
    "            return 1\n",
    "        elif x['ema_10'] < x['ema_20']:\n",
    "            x[\"position\"] = \"short\"\n",
    "            return -1\n",
    "\n",
    "    return 0\n",
    "\n",
    "bars2['signal'] = bars2.apply(get_signal, axis=1)\n",
    "bars2['prev_price'] = bars2['close'].shift(1)\n",
    "bars2['price_change'] = bars2['close'] - bars2['prev_price']\n",
    "\n",
    "bars2['signal_change'] = (bars2['signal'] - bars2['signal'].shift(1)).abs()\n",
    "bars2['commission'] = bars2.apply(lambda x: commission * x['signal_change'] * x['trade_volume'], axis=1)\n",
    "bars2"
   ]
  },
  {
   "cell_type": "code",
   "execution_count": 5,
   "metadata": {},
   "outputs": [
    {
     "data": {
      "text/html": [
       "<div>\n",
       "<style scoped>\n",
       "    .dataframe tbody tr th:only-of-type {\n",
       "        vertical-align: middle;\n",
       "    }\n",
       "\n",
       "    .dataframe tbody tr th {\n",
       "        vertical-align: top;\n",
       "    }\n",
       "\n",
       "    .dataframe thead th {\n",
       "        text-align: right;\n",
       "    }\n",
       "</style>\n",
       "<table border=\"1\" class=\"dataframe\">\n",
       "  <thead>\n",
       "    <tr style=\"text-align: right;\">\n",
       "      <th></th>\n",
       "      <th>time</th>\n",
       "      <th>open</th>\n",
       "      <th>high</th>\n",
       "      <th>low</th>\n",
       "      <th>close</th>\n",
       "      <th>tick_volume</th>\n",
       "      <th>spread</th>\n",
       "      <th>real_volume</th>\n",
       "      <th>trade_volume</th>\n",
       "      <th>ema_20</th>\n",
       "      <th>ema_10</th>\n",
       "      <th>hour</th>\n",
       "      <th>signal</th>\n",
       "      <th>prev_price</th>\n",
       "      <th>price_change</th>\n",
       "      <th>signal_change</th>\n",
       "      <th>commission</th>\n",
       "      <th>profit</th>\n",
       "      <th>gross_profit</th>\n",
       "      <th>net_profit</th>\n",
       "    </tr>\n",
       "  </thead>\n",
       "  <tbody>\n",
       "    <tr>\n",
       "      <th>1</th>\n",
       "      <td>2023-09-29 15:40:00</td>\n",
       "      <td>1.06048</td>\n",
       "      <td>1.06101</td>\n",
       "      <td>1.06020</td>\n",
       "      <td>1.06046</td>\n",
       "      <td>719</td>\n",
       "      <td>0</td>\n",
       "      <td>0</td>\n",
       "      <td>500000</td>\n",
       "      <td>1.060469</td>\n",
       "      <td>1.060469</td>\n",
       "      <td>15</td>\n",
       "      <td>-1</td>\n",
       "      <td>1.06048</td>\n",
       "      <td>-0.00002</td>\n",
       "      <td>1.0</td>\n",
       "      <td>12.5</td>\n",
       "      <td>10.0</td>\n",
       "      <td>10.0</td>\n",
       "      <td>-2.5</td>\n",
       "    </tr>\n",
       "    <tr>\n",
       "      <th>41</th>\n",
       "      <td>2023-09-29 19:00:00</td>\n",
       "      <td>1.05834</td>\n",
       "      <td>1.05851</td>\n",
       "      <td>1.05820</td>\n",
       "      <td>1.05839</td>\n",
       "      <td>242</td>\n",
       "      <td>0</td>\n",
       "      <td>0</td>\n",
       "      <td>500000</td>\n",
       "      <td>1.058111</td>\n",
       "      <td>1.058120</td>\n",
       "      <td>19</td>\n",
       "      <td>1</td>\n",
       "      <td>1.05833</td>\n",
       "      <td>0.00006</td>\n",
       "      <td>2.0</td>\n",
       "      <td>25.0</td>\n",
       "      <td>30.0</td>\n",
       "      <td>40.0</td>\n",
       "      <td>2.5</td>\n",
       "    </tr>\n",
       "    <tr>\n",
       "      <th>43</th>\n",
       "      <td>2023-09-29 19:10:00</td>\n",
       "      <td>1.05828</td>\n",
       "      <td>1.05837</td>\n",
       "      <td>1.05781</td>\n",
       "      <td>1.05781</td>\n",
       "      <td>239</td>\n",
       "      <td>0</td>\n",
       "      <td>0</td>\n",
       "      <td>500000</td>\n",
       "      <td>1.058097</td>\n",
       "      <td>1.058087</td>\n",
       "      <td>19</td>\n",
       "      <td>-1</td>\n",
       "      <td>1.05828</td>\n",
       "      <td>-0.00047</td>\n",
       "      <td>2.0</td>\n",
       "      <td>25.0</td>\n",
       "      <td>235.0</td>\n",
       "      <td>275.0</td>\n",
       "      <td>212.5</td>\n",
       "    </tr>\n",
       "    <tr>\n",
       "      <th>45</th>\n",
       "      <td>2023-09-29 19:20:00</td>\n",
       "      <td>1.05795</td>\n",
       "      <td>1.05846</td>\n",
       "      <td>1.05787</td>\n",
       "      <td>1.05838</td>\n",
       "      <td>243</td>\n",
       "      <td>0</td>\n",
       "      <td>0</td>\n",
       "      <td>500000</td>\n",
       "      <td>1.058112</td>\n",
       "      <td>1.058120</td>\n",
       "      <td>19</td>\n",
       "      <td>1</td>\n",
       "      <td>1.05795</td>\n",
       "      <td>0.00043</td>\n",
       "      <td>2.0</td>\n",
       "      <td>25.0</td>\n",
       "      <td>215.0</td>\n",
       "      <td>490.0</td>\n",
       "      <td>402.5</td>\n",
       "    </tr>\n",
       "    <tr>\n",
       "      <th>50</th>\n",
       "      <td>2023-09-29 19:45:00</td>\n",
       "      <td>1.05799</td>\n",
       "      <td>1.05848</td>\n",
       "      <td>1.05757</td>\n",
       "      <td>1.05761</td>\n",
       "      <td>333</td>\n",
       "      <td>0</td>\n",
       "      <td>0</td>\n",
       "      <td>500000</td>\n",
       "      <td>1.058114</td>\n",
       "      <td>1.058090</td>\n",
       "      <td>19</td>\n",
       "      <td>-1</td>\n",
       "      <td>1.05800</td>\n",
       "      <td>-0.00039</td>\n",
       "      <td>2.0</td>\n",
       "      <td>25.0</td>\n",
       "      <td>195.0</td>\n",
       "      <td>685.0</td>\n",
       "      <td>572.5</td>\n",
       "    </tr>\n",
       "    <tr>\n",
       "      <th>...</th>\n",
       "      <td>...</td>\n",
       "      <td>...</td>\n",
       "      <td>...</td>\n",
       "      <td>...</td>\n",
       "      <td>...</td>\n",
       "      <td>...</td>\n",
       "      <td>...</td>\n",
       "      <td>...</td>\n",
       "      <td>...</td>\n",
       "      <td>...</td>\n",
       "      <td>...</td>\n",
       "      <td>...</td>\n",
       "      <td>...</td>\n",
       "      <td>...</td>\n",
       "      <td>...</td>\n",
       "      <td>...</td>\n",
       "      <td>...</td>\n",
       "      <td>...</td>\n",
       "      <td>...</td>\n",
       "      <td>...</td>\n",
       "    </tr>\n",
       "    <tr>\n",
       "      <th>4827</th>\n",
       "      <td>2023-10-24 10:30:00</td>\n",
       "      <td>1.06772</td>\n",
       "      <td>1.06772</td>\n",
       "      <td>1.06601</td>\n",
       "      <td>1.06678</td>\n",
       "      <td>1131</td>\n",
       "      <td>0</td>\n",
       "      <td>0</td>\n",
       "      <td>500000</td>\n",
       "      <td>1.068185</td>\n",
       "      <td>1.068088</td>\n",
       "      <td>10</td>\n",
       "      <td>-1</td>\n",
       "      <td>1.06776</td>\n",
       "      <td>-0.00098</td>\n",
       "      <td>2.0</td>\n",
       "      <td>25.0</td>\n",
       "      <td>490.0</td>\n",
       "      <td>24020.0</td>\n",
       "      <td>20282.5</td>\n",
       "    </tr>\n",
       "    <tr>\n",
       "      <th>4879</th>\n",
       "      <td>2023-10-24 14:50:00</td>\n",
       "      <td>1.06356</td>\n",
       "      <td>1.06415</td>\n",
       "      <td>1.06356</td>\n",
       "      <td>1.06411</td>\n",
       "      <td>289</td>\n",
       "      <td>0</td>\n",
       "      <td>0</td>\n",
       "      <td>500000</td>\n",
       "      <td>1.063448</td>\n",
       "      <td>1.063473</td>\n",
       "      <td>14</td>\n",
       "      <td>1</td>\n",
       "      <td>1.06356</td>\n",
       "      <td>0.00055</td>\n",
       "      <td>2.0</td>\n",
       "      <td>25.0</td>\n",
       "      <td>275.0</td>\n",
       "      <td>24295.0</td>\n",
       "      <td>20532.5</td>\n",
       "    </tr>\n",
       "    <tr>\n",
       "      <th>4881</th>\n",
       "      <td>2023-10-24 15:00:00</td>\n",
       "      <td>1.06353</td>\n",
       "      <td>1.06365</td>\n",
       "      <td>1.06287</td>\n",
       "      <td>1.06291</td>\n",
       "      <td>490</td>\n",
       "      <td>0</td>\n",
       "      <td>0</td>\n",
       "      <td>500000</td>\n",
       "      <td>1.063404</td>\n",
       "      <td>1.063379</td>\n",
       "      <td>15</td>\n",
       "      <td>-1</td>\n",
       "      <td>1.06353</td>\n",
       "      <td>-0.00062</td>\n",
       "      <td>2.0</td>\n",
       "      <td>25.0</td>\n",
       "      <td>310.0</td>\n",
       "      <td>24605.0</td>\n",
       "      <td>20817.5</td>\n",
       "    </tr>\n",
       "    <tr>\n",
       "      <th>4973</th>\n",
       "      <td>2023-10-24 22:40:00</td>\n",
       "      <td>1.05882</td>\n",
       "      <td>1.05900</td>\n",
       "      <td>1.05880</td>\n",
       "      <td>1.05899</td>\n",
       "      <td>76</td>\n",
       "      <td>0</td>\n",
       "      <td>0</td>\n",
       "      <td>500000</td>\n",
       "      <td>1.058883</td>\n",
       "      <td>1.058888</td>\n",
       "      <td>22</td>\n",
       "      <td>1</td>\n",
       "      <td>1.05883</td>\n",
       "      <td>0.00016</td>\n",
       "      <td>2.0</td>\n",
       "      <td>25.0</td>\n",
       "      <td>80.0</td>\n",
       "      <td>24685.0</td>\n",
       "      <td>20872.5</td>\n",
       "    </tr>\n",
       "    <tr>\n",
       "      <th>4977</th>\n",
       "      <td>2023-10-24 23:00:00</td>\n",
       "      <td>1.05918</td>\n",
       "      <td>1.05938</td>\n",
       "      <td>1.05913</td>\n",
       "      <td>1.05915</td>\n",
       "      <td>202</td>\n",
       "      <td>0</td>\n",
       "      <td>0</td>\n",
       "      <td>500000</td>\n",
       "      <td>1.058981</td>\n",
       "      <td>1.059048</td>\n",
       "      <td>23</td>\n",
       "      <td>0</td>\n",
       "      <td>1.05918</td>\n",
       "      <td>-0.00003</td>\n",
       "      <td>1.0</td>\n",
       "      <td>12.5</td>\n",
       "      <td>-0.0</td>\n",
       "      <td>24685.0</td>\n",
       "      <td>20860.0</td>\n",
       "    </tr>\n",
       "  </tbody>\n",
       "</table>\n",
       "<p>171 rows × 20 columns</p>\n",
       "</div>"
      ],
      "text/plain": [
       "                    time     open     high      low    close  tick_volume  \\\n",
       "1    2023-09-29 15:40:00  1.06048  1.06101  1.06020  1.06046          719   \n",
       "41   2023-09-29 19:00:00  1.05834  1.05851  1.05820  1.05839          242   \n",
       "43   2023-09-29 19:10:00  1.05828  1.05837  1.05781  1.05781          239   \n",
       "45   2023-09-29 19:20:00  1.05795  1.05846  1.05787  1.05838          243   \n",
       "50   2023-09-29 19:45:00  1.05799  1.05848  1.05757  1.05761          333   \n",
       "...                  ...      ...      ...      ...      ...          ...   \n",
       "4827 2023-10-24 10:30:00  1.06772  1.06772  1.06601  1.06678         1131   \n",
       "4879 2023-10-24 14:50:00  1.06356  1.06415  1.06356  1.06411          289   \n",
       "4881 2023-10-24 15:00:00  1.06353  1.06365  1.06287  1.06291          490   \n",
       "4973 2023-10-24 22:40:00  1.05882  1.05900  1.05880  1.05899           76   \n",
       "4977 2023-10-24 23:00:00  1.05918  1.05938  1.05913  1.05915          202   \n",
       "\n",
       "      spread  real_volume  trade_volume    ema_20    ema_10  hour  signal  \\\n",
       "1          0            0        500000  1.060469  1.060469    15      -1   \n",
       "41         0            0        500000  1.058111  1.058120    19       1   \n",
       "43         0            0        500000  1.058097  1.058087    19      -1   \n",
       "45         0            0        500000  1.058112  1.058120    19       1   \n",
       "50         0            0        500000  1.058114  1.058090    19      -1   \n",
       "...      ...          ...           ...       ...       ...   ...     ...   \n",
       "4827       0            0        500000  1.068185  1.068088    10      -1   \n",
       "4879       0            0        500000  1.063448  1.063473    14       1   \n",
       "4881       0            0        500000  1.063404  1.063379    15      -1   \n",
       "4973       0            0        500000  1.058883  1.058888    22       1   \n",
       "4977       0            0        500000  1.058981  1.059048    23       0   \n",
       "\n",
       "      prev_price  price_change  signal_change  commission  profit  \\\n",
       "1        1.06048      -0.00002            1.0        12.5    10.0   \n",
       "41       1.05833       0.00006            2.0        25.0    30.0   \n",
       "43       1.05828      -0.00047            2.0        25.0   235.0   \n",
       "45       1.05795       0.00043            2.0        25.0   215.0   \n",
       "50       1.05800      -0.00039            2.0        25.0   195.0   \n",
       "...          ...           ...            ...         ...     ...   \n",
       "4827     1.06776      -0.00098            2.0        25.0   490.0   \n",
       "4879     1.06356       0.00055            2.0        25.0   275.0   \n",
       "4881     1.06353      -0.00062            2.0        25.0   310.0   \n",
       "4973     1.05883       0.00016            2.0        25.0    80.0   \n",
       "4977     1.05918      -0.00003            1.0        12.5    -0.0   \n",
       "\n",
       "      gross_profit  net_profit  \n",
       "1             10.0        -2.5  \n",
       "41            40.0         2.5  \n",
       "43           275.0       212.5  \n",
       "45           490.0       402.5  \n",
       "50           685.0       572.5  \n",
       "...            ...         ...  \n",
       "4827       24020.0     20282.5  \n",
       "4879       24295.0     20532.5  \n",
       "4881       24605.0     20817.5  \n",
       "4973       24685.0     20872.5  \n",
       "4977       24685.0     20860.0  \n",
       "\n",
       "[171 rows x 20 columns]"
      ]
     },
     "execution_count": 5,
     "metadata": {},
     "output_type": "execute_result"
    }
   ],
   "source": [
    "bars3 = bars2.dropna().copy()\n",
    "bars3 = bars3.loc[bars3['signal_change']!=0]\n",
    "bars3['profit'] = bars3['signal'] * bars3['price_change'] * bars3['trade_volume']\n",
    "bars3['gross_profit'] = bars3['profit'].cumsum()\n",
    "bars3['net_profit'] = bars3['gross_profit'] - bars3['commission'].cumsum()\n",
    "\n",
    "\n",
    "bars3"
   ]
  },
  {
   "cell_type": "code",
   "execution_count": 6,
   "metadata": {},
   "outputs": [
    {
     "name": "stderr",
     "output_type": "stream",
     "text": [
      "c:\\Users\\praveenjaisankar\\AppData\\Local\\pypoetry\\Cache\\virtualenvs\\metatrader-Cdlomroj-py3.10\\lib\\site-packages\\_plotly_utils\\basevalidators.py:105: FutureWarning: The behavior of DatetimeProperties.to_pydatetime is deprecated, in a future version this will return a Series containing python datetime objects instead of an ndarray. To retain the old behavior, call `np.array` on the result\n",
      "  v = v.dt.to_pydatetime()\n"
     ]
    },
    {
     "data": {
      "application/vnd.plotly.v1+json": {
       "config": {
        "plotlyServerURL": "https://plot.ly"
       },
       "data": [
        {
         "hovertemplate": "variable=gross_profit<br>time=%{x}<br>value=%{y}<extra></extra>",
         "legendgroup": "gross_profit",
         "line": {
          "color": "#636efa",
          "dash": "solid"
         },
         "marker": {
          "symbol": "circle"
         },
         "mode": "lines",
         "name": "gross_profit",
         "orientation": "v",
         "showlegend": true,
         "type": "scatter",
         "x": [
          "2023-09-29T15:40:00",
          "2023-09-29T19:00:00",
          "2023-09-29T19:10:00",
          "2023-09-29T19:20:00",
          "2023-09-29T19:45:00",
          "2023-09-29T21:55:00",
          "2023-09-29T23:00:00",
          "2023-10-02T09:00:00",
          "2023-10-02T09:30:00",
          "2023-10-02T11:10:00",
          "2023-10-02T20:30:00",
          "2023-10-02T21:00:00",
          "2023-10-02T21:10:00",
          "2023-10-02T21:20:00",
          "2023-10-02T23:00:00",
          "2023-10-03T09:00:00",
          "2023-10-03T09:05:00",
          "2023-10-03T13:15:00",
          "2023-10-03T16:40:00",
          "2023-10-03T17:00:00",
          "2023-10-03T17:40:00",
          "2023-10-03T18:00:00",
          "2023-10-03T19:25:00",
          "2023-10-03T19:50:00",
          "2023-10-03T20:00:00",
          "2023-10-03T21:15:00",
          "2023-10-03T21:30:00",
          "2023-10-03T23:00:00",
          "2023-10-04T09:00:00",
          "2023-10-04T09:15:00",
          "2023-10-04T10:25:00",
          "2023-10-04T15:05:00",
          "2023-10-04T15:20:00",
          "2023-10-04T16:50:00",
          "2023-10-04T18:20:00",
          "2023-10-04T20:10:00",
          "2023-10-04T22:10:00",
          "2023-10-04T23:00:00",
          "2023-10-05T09:00:00",
          "2023-10-05T11:15:00",
          "2023-10-05T11:50:00",
          "2023-10-05T12:20:00",
          "2023-10-05T12:35:00",
          "2023-10-05T13:30:00",
          "2023-10-05T15:30:00",
          "2023-10-05T16:25:00",
          "2023-10-05T23:00:00",
          "2023-10-06T09:00:00",
          "2023-10-06T10:20:00",
          "2023-10-06T14:15:00",
          "2023-10-06T14:40:00",
          "2023-10-06T15:30:00",
          "2023-10-06T17:25:00",
          "2023-10-06T23:00:00",
          "2023-10-09T09:00:00",
          "2023-10-09T09:25:00",
          "2023-10-09T11:50:00",
          "2023-10-09T12:55:00",
          "2023-10-09T14:25:00",
          "2023-10-09T14:55:00",
          "2023-10-09T15:55:00",
          "2023-10-09T18:45:00",
          "2023-10-09T20:35:00",
          "2023-10-09T23:00:00",
          "2023-10-10T09:00:00",
          "2023-10-10T10:35:00",
          "2023-10-10T13:50:00",
          "2023-10-10T15:50:00",
          "2023-10-10T20:15:00",
          "2023-10-10T22:40:00",
          "2023-10-10T23:00:00",
          "2023-10-11T09:00:00",
          "2023-10-11T09:35:00",
          "2023-10-11T11:00:00",
          "2023-10-11T11:50:00",
          "2023-10-11T13:05:00",
          "2023-10-11T15:45:00",
          "2023-10-11T18:15:00",
          "2023-10-11T21:45:00",
          "2023-10-11T23:00:00",
          "2023-10-12T09:00:00",
          "2023-10-12T10:15:00",
          "2023-10-12T15:15:00",
          "2023-10-12T15:30:00",
          "2023-10-12T23:00:00",
          "2023-10-13T09:00:00",
          "2023-10-13T10:30:00",
          "2023-10-13T12:15:00",
          "2023-10-13T15:20:00",
          "2023-10-13T16:20:00",
          "2023-10-13T19:20:00",
          "2023-10-13T20:10:00",
          "2023-10-13T20:50:00",
          "2023-10-13T20:55:00",
          "2023-10-13T21:05:00",
          "2023-10-13T23:00:00",
          "2023-10-16T09:00:00",
          "2023-10-16T10:25:00",
          "2023-10-16T10:50:00",
          "2023-10-16T11:15:00",
          "2023-10-16T11:25:00",
          "2023-10-16T13:00:00",
          "2023-10-16T14:45:00",
          "2023-10-16T16:40:00",
          "2023-10-16T17:30:00",
          "2023-10-16T23:00:00",
          "2023-10-17T09:00:00",
          "2023-10-17T10:15:00",
          "2023-10-17T11:20:00",
          "2023-10-17T12:15:00",
          "2023-10-17T15:35:00",
          "2023-10-17T17:10:00",
          "2023-10-17T20:00:00",
          "2023-10-17T22:15:00",
          "2023-10-17T23:00:00",
          "2023-10-18T09:00:00",
          "2023-10-18T10:05:00",
          "2023-10-18T11:45:00",
          "2023-10-18T12:40:00",
          "2023-10-18T15:10:00",
          "2023-10-18T15:40:00",
          "2023-10-18T20:00:00",
          "2023-10-18T21:45:00",
          "2023-10-18T23:00:00",
          "2023-10-19T09:00:00",
          "2023-10-19T09:20:00",
          "2023-10-19T11:10:00",
          "2023-10-19T11:25:00",
          "2023-10-19T11:30:00",
          "2023-10-19T12:10:00",
          "2023-10-19T17:45:00",
          "2023-10-19T18:05:00",
          "2023-10-19T19:45:00",
          "2023-10-19T19:50:00",
          "2023-10-19T21:40:00",
          "2023-10-19T23:00:00",
          "2023-10-20T09:00:00",
          "2023-10-20T10:50:00",
          "2023-10-20T10:55:00",
          "2023-10-20T11:00:00",
          "2023-10-20T15:15:00",
          "2023-10-20T16:20:00",
          "2023-10-20T16:25:00",
          "2023-10-20T16:30:00",
          "2023-10-20T16:55:00",
          "2023-10-20T17:35:00",
          "2023-10-20T19:05:00",
          "2023-10-20T20:05:00",
          "2023-10-20T21:15:00",
          "2023-10-20T21:55:00",
          "2023-10-20T22:25:00",
          "2023-10-20T22:35:00",
          "2023-10-20T22:40:00",
          "2023-10-20T23:00:00",
          "2023-10-23T09:00:00",
          "2023-10-23T09:15:00",
          "2023-10-23T09:35:00",
          "2023-10-23T12:55:00",
          "2023-10-23T13:55:00",
          "2023-10-23T15:05:00",
          "2023-10-23T15:20:00",
          "2023-10-23T16:20:00",
          "2023-10-23T17:10:00",
          "2023-10-23T22:30:00",
          "2023-10-23T23:00:00",
          "2023-10-24T09:00:00",
          "2023-10-24T10:30:00",
          "2023-10-24T14:50:00",
          "2023-10-24T15:00:00",
          "2023-10-24T22:40:00",
          "2023-10-24T23:00:00"
         ],
         "xaxis": "x",
         "y": [
          10.000000000065512,
          40.000000000040004,
          275.00000000002524,
          490.00000000010147,
          685.0000000001577,
          905.0000000001556,
          905.0000000001556,
          725.0000000001977,
          875.0000000002922,
          1065.0000000003156,
          1085.0000000003356,
          1105.0000000003556,
          1340.0000000004518,
          1430.0000000004864,
          1430.0000000004864,
          1395.000000000479,
          1370.0000000004263,
          1520.0000000004097,
          1830.000000000331,
          3135.000000000332,
          3615.000000000257,
          4065.0000000003183,
          4260.000000000375,
          4390.000000000449,
          4590.000000000538,
          4650.0000000004875,
          4830.000000000446,
          4830.000000000446,
          4725.000000000424,
          4925.000000000513,
          5045.000000000522,
          5260.0000000004875,
          5250.000000000533,
          5355.000000000555,
          5280.0000000006185,
          5420.000000000648,
          5560.000000000677,
          5560.000000000677,
          5695.000000000673,
          5785.000000000708,
          6180.000000000631,
          6165.000000000644,
          6315.0000000007385,
          6445.000000000813,
          6790.000000000853,
          7285.000000000765,
          7285.000000000765,
          7245.000000000725,
          7540.00000000077,
          7420.000000000761,
          7595.000000000687,
          10195.000000000622,
          10440.000000000562,
          10440.000000000562,
          10420.000000000653,
          10800.0000000007,
          10775.000000000648,
          10705.000000000633,
          10900.000000000578,
          10930.000000000553,
          10925.00000000052,
          11005.0000000006,
          11335.000000000542,
          11335.000000000542,
          11010.000000000633,
          11180.000000000637,
          11205.000000000578,
          11375.000000000582,
          11235.000000000553,
          11315.000000000633,
          11315.000000000633,
          11320.000000000666,
          11530.00000000071,
          11540.000000000664,
          11445.000000000708,
          11510.00000000069,
          11845.000000000775,
          12140.00000000082,
          12265.000000000862,
          12265.000000000862,
          12440.000000000788,
          12530.000000000822,
          12710.00000000078,
          14395.000000000828,
          14395.000000000828,
          14685.00000000084,
          14640.000000000879,
          14465.000000000842,
          14920.000000000826,
          15155.000000000811,
          15280.000000000853,
          15435.00000000087,
          15445.000000000824,
          15650.000000000835,
          15715.000000000817,
          15715.000000000817,
          15715.000000000817,
          15715.000000000817,
          15825.000000000871,
          15965.0000000009,
          16160.000000000846,
          16340.000000000804,
          16295.000000000731,
          16195.000000000742,
          16410.000000000706,
          16410.000000000706,
          16465.000000000622,
          16530.000000000604,
          16535.000000000524,
          16960.000000000422,
          17130.000000000426,
          17545.00000000048,
          17595.000000000473,
          17625.00000000056,
          17625.00000000056,
          17710.00000000056,
          17560.00000000058,
          17505.000000000662,
          17685.00000000062,
          17820.000000000615,
          17925.000000000637,
          18425.000000000582,
          18555.000000000546,
          18555.000000000546,
          18710.00000000056,
          18730.00000000058,
          18955.000000000608,
          19040.000000000608,
          19240.000000000586,
          19285.000000000546,
          19465.000000000502,
          19675.000000000546,
          19170.000000000568,
          19875.000000000524,
          19945.00000000054,
          19945.00000000054,
          20000.000000000564,
          20050.000000000557,
          20175.000000000597,
          20315.000000000626,
          20555.000000000644,
          20730.000000000568,
          20980.00000000054,
          21325.00000000058,
          21790.000000000626,
          21970.000000000695,
          21965.000000000662,
          22095.000000000735,
          22030.000000000753,
          21920.00000000081,
          21860.000000000753,
          21885.000000000808,
          21980.000000000764,
          21980.000000000764,
          22070.000000000797,
          22365.00000000073,
          22500.000000000728,
          22600.000000000717,
          22660.000000000666,
          22755.00000000073,
          23035.000000000677,
          22975.00000000062,
          23355.000000000553,
          23405.000000000546,
          23405.000000000546,
          23530.000000000586,
          24020.000000000575,
          24295.000000000487,
          24605.00000000052,
          24685.0000000006,
          24685.0000000006
         ],
         "yaxis": "y"
        },
        {
         "hovertemplate": "variable=net_profit<br>time=%{x}<br>value=%{y}<extra></extra>",
         "legendgroup": "net_profit",
         "line": {
          "color": "#EF553B",
          "dash": "solid"
         },
         "marker": {
          "symbol": "circle"
         },
         "mode": "lines",
         "name": "net_profit",
         "orientation": "v",
         "showlegend": true,
         "type": "scatter",
         "x": [
          "2023-09-29T15:40:00",
          "2023-09-29T19:00:00",
          "2023-09-29T19:10:00",
          "2023-09-29T19:20:00",
          "2023-09-29T19:45:00",
          "2023-09-29T21:55:00",
          "2023-09-29T23:00:00",
          "2023-10-02T09:00:00",
          "2023-10-02T09:30:00",
          "2023-10-02T11:10:00",
          "2023-10-02T20:30:00",
          "2023-10-02T21:00:00",
          "2023-10-02T21:10:00",
          "2023-10-02T21:20:00",
          "2023-10-02T23:00:00",
          "2023-10-03T09:00:00",
          "2023-10-03T09:05:00",
          "2023-10-03T13:15:00",
          "2023-10-03T16:40:00",
          "2023-10-03T17:00:00",
          "2023-10-03T17:40:00",
          "2023-10-03T18:00:00",
          "2023-10-03T19:25:00",
          "2023-10-03T19:50:00",
          "2023-10-03T20:00:00",
          "2023-10-03T21:15:00",
          "2023-10-03T21:30:00",
          "2023-10-03T23:00:00",
          "2023-10-04T09:00:00",
          "2023-10-04T09:15:00",
          "2023-10-04T10:25:00",
          "2023-10-04T15:05:00",
          "2023-10-04T15:20:00",
          "2023-10-04T16:50:00",
          "2023-10-04T18:20:00",
          "2023-10-04T20:10:00",
          "2023-10-04T22:10:00",
          "2023-10-04T23:00:00",
          "2023-10-05T09:00:00",
          "2023-10-05T11:15:00",
          "2023-10-05T11:50:00",
          "2023-10-05T12:20:00",
          "2023-10-05T12:35:00",
          "2023-10-05T13:30:00",
          "2023-10-05T15:30:00",
          "2023-10-05T16:25:00",
          "2023-10-05T23:00:00",
          "2023-10-06T09:00:00",
          "2023-10-06T10:20:00",
          "2023-10-06T14:15:00",
          "2023-10-06T14:40:00",
          "2023-10-06T15:30:00",
          "2023-10-06T17:25:00",
          "2023-10-06T23:00:00",
          "2023-10-09T09:00:00",
          "2023-10-09T09:25:00",
          "2023-10-09T11:50:00",
          "2023-10-09T12:55:00",
          "2023-10-09T14:25:00",
          "2023-10-09T14:55:00",
          "2023-10-09T15:55:00",
          "2023-10-09T18:45:00",
          "2023-10-09T20:35:00",
          "2023-10-09T23:00:00",
          "2023-10-10T09:00:00",
          "2023-10-10T10:35:00",
          "2023-10-10T13:50:00",
          "2023-10-10T15:50:00",
          "2023-10-10T20:15:00",
          "2023-10-10T22:40:00",
          "2023-10-10T23:00:00",
          "2023-10-11T09:00:00",
          "2023-10-11T09:35:00",
          "2023-10-11T11:00:00",
          "2023-10-11T11:50:00",
          "2023-10-11T13:05:00",
          "2023-10-11T15:45:00",
          "2023-10-11T18:15:00",
          "2023-10-11T21:45:00",
          "2023-10-11T23:00:00",
          "2023-10-12T09:00:00",
          "2023-10-12T10:15:00",
          "2023-10-12T15:15:00",
          "2023-10-12T15:30:00",
          "2023-10-12T23:00:00",
          "2023-10-13T09:00:00",
          "2023-10-13T10:30:00",
          "2023-10-13T12:15:00",
          "2023-10-13T15:20:00",
          "2023-10-13T16:20:00",
          "2023-10-13T19:20:00",
          "2023-10-13T20:10:00",
          "2023-10-13T20:50:00",
          "2023-10-13T20:55:00",
          "2023-10-13T21:05:00",
          "2023-10-13T23:00:00",
          "2023-10-16T09:00:00",
          "2023-10-16T10:25:00",
          "2023-10-16T10:50:00",
          "2023-10-16T11:15:00",
          "2023-10-16T11:25:00",
          "2023-10-16T13:00:00",
          "2023-10-16T14:45:00",
          "2023-10-16T16:40:00",
          "2023-10-16T17:30:00",
          "2023-10-16T23:00:00",
          "2023-10-17T09:00:00",
          "2023-10-17T10:15:00",
          "2023-10-17T11:20:00",
          "2023-10-17T12:15:00",
          "2023-10-17T15:35:00",
          "2023-10-17T17:10:00",
          "2023-10-17T20:00:00",
          "2023-10-17T22:15:00",
          "2023-10-17T23:00:00",
          "2023-10-18T09:00:00",
          "2023-10-18T10:05:00",
          "2023-10-18T11:45:00",
          "2023-10-18T12:40:00",
          "2023-10-18T15:10:00",
          "2023-10-18T15:40:00",
          "2023-10-18T20:00:00",
          "2023-10-18T21:45:00",
          "2023-10-18T23:00:00",
          "2023-10-19T09:00:00",
          "2023-10-19T09:20:00",
          "2023-10-19T11:10:00",
          "2023-10-19T11:25:00",
          "2023-10-19T11:30:00",
          "2023-10-19T12:10:00",
          "2023-10-19T17:45:00",
          "2023-10-19T18:05:00",
          "2023-10-19T19:45:00",
          "2023-10-19T19:50:00",
          "2023-10-19T21:40:00",
          "2023-10-19T23:00:00",
          "2023-10-20T09:00:00",
          "2023-10-20T10:50:00",
          "2023-10-20T10:55:00",
          "2023-10-20T11:00:00",
          "2023-10-20T15:15:00",
          "2023-10-20T16:20:00",
          "2023-10-20T16:25:00",
          "2023-10-20T16:30:00",
          "2023-10-20T16:55:00",
          "2023-10-20T17:35:00",
          "2023-10-20T19:05:00",
          "2023-10-20T20:05:00",
          "2023-10-20T21:15:00",
          "2023-10-20T21:55:00",
          "2023-10-20T22:25:00",
          "2023-10-20T22:35:00",
          "2023-10-20T22:40:00",
          "2023-10-20T23:00:00",
          "2023-10-23T09:00:00",
          "2023-10-23T09:15:00",
          "2023-10-23T09:35:00",
          "2023-10-23T12:55:00",
          "2023-10-23T13:55:00",
          "2023-10-23T15:05:00",
          "2023-10-23T15:20:00",
          "2023-10-23T16:20:00",
          "2023-10-23T17:10:00",
          "2023-10-23T22:30:00",
          "2023-10-23T23:00:00",
          "2023-10-24T09:00:00",
          "2023-10-24T10:30:00",
          "2023-10-24T14:50:00",
          "2023-10-24T15:00:00",
          "2023-10-24T22:40:00",
          "2023-10-24T23:00:00"
         ],
         "xaxis": "x",
         "y": [
          -2.499999999934488,
          2.5000000000400036,
          212.50000000002524,
          402.50000000010147,
          572.5000000001577,
          767.5000000001556,
          755.0000000001556,
          562.5000000001977,
          687.5000000002922,
          852.5000000003156,
          847.5000000003356,
          842.5000000003556,
          1052.5000000004518,
          1117.5000000004864,
          1105.0000000004864,
          1057.500000000479,
          1007.5000000004263,
          1132.5000000004097,
          1417.500000000331,
          2697.500000000332,
          3152.500000000257,
          3577.5000000003183,
          3747.5000000003747,
          3852.5000000004493,
          4027.5000000005384,
          4062.5000000004875,
          4217.500000000446,
          4205.000000000446,
          4087.500000000424,
          4262.500000000513,
          4357.500000000522,
          4547.5000000004875,
          4512.500000000533,
          4592.500000000555,
          4492.5000000006185,
          4607.500000000648,
          4722.500000000677,
          4710.000000000677,
          4832.500000000673,
          4897.500000000708,
          5267.500000000631,
          5227.500000000644,
          5352.5000000007385,
          5457.500000000813,
          5777.500000000853,
          6247.500000000765,
          6235.000000000765,
          6182.500000000725,
          6452.50000000077,
          6307.500000000761,
          6457.500000000687,
          9032.500000000622,
          9252.500000000562,
          9240.000000000562,
          9207.500000000653,
          9562.5000000007,
          9512.500000000648,
          9417.500000000633,
          9587.500000000578,
          9592.500000000553,
          9562.50000000052,
          9617.5000000006,
          9922.500000000542,
          9910.000000000542,
          9572.500000000633,
          9717.500000000637,
          9717.500000000578,
          9862.500000000582,
          9697.500000000553,
          9752.500000000633,
          9740.000000000633,
          9732.500000000666,
          9917.50000000071,
          9902.500000000664,
          9782.500000000708,
          9822.50000000069,
          10132.500000000775,
          10402.50000000082,
          10502.500000000862,
          10490.000000000862,
          10652.500000000788,
          10717.500000000822,
          10872.50000000078,
          12532.500000000828,
          12520.000000000828,
          12797.50000000084,
          12727.500000000879,
          12527.500000000842,
          12957.500000000826,
          13167.500000000811,
          13267.500000000853,
          13397.50000000087,
          13382.500000000824,
          13562.500000000835,
          13602.500000000817,
          13590.000000000817,
          13577.500000000817,
          13552.500000000817,
          13637.500000000871,
          13752.5000000009,
          13922.500000000846,
          14077.500000000804,
          14007.500000000731,
          13882.500000000742,
          14072.500000000706,
          14060.000000000706,
          14102.500000000622,
          14142.500000000604,
          14122.500000000524,
          14522.500000000422,
          14667.500000000426,
          15057.50000000048,
          15082.500000000473,
          15087.50000000056,
          15075.00000000056,
          15147.50000000056,
          14972.500000000578,
          14892.500000000662,
          15047.500000000618,
          15157.500000000615,
          15237.500000000637,
          15712.500000000582,
          15817.500000000546,
          15805.000000000546,
          15947.50000000056,
          15942.500000000578,
          16142.500000000608,
          16202.500000000608,
          16377.500000000586,
          16397.500000000546,
          16552.500000000502,
          16737.500000000546,
          16207.500000000568,
          16887.500000000524,
          16932.50000000054,
          16920.00000000054,
          16962.500000000564,
          16987.500000000557,
          17087.500000000597,
          17202.500000000626,
          17417.500000000644,
          17567.500000000568,
          17792.50000000054,
          18112.50000000058,
          18552.500000000626,
          18707.500000000695,
          18677.500000000662,
          18782.500000000735,
          18692.500000000753,
          18557.50000000081,
          18472.500000000753,
          18472.500000000808,
          18542.500000000764,
          18530.000000000764,
          18607.500000000797,
          18877.50000000073,
          18987.500000000728,
          19062.500000000717,
          19097.500000000666,
          19167.50000000073,
          19422.500000000677,
          19337.50000000062,
          19692.500000000553,
          19717.500000000546,
          19705.000000000546,
          19817.500000000586,
          20282.500000000575,
          20532.500000000487,
          20817.50000000052,
          20872.5000000006,
          20860.0000000006
         ],
         "yaxis": "y"
        }
       ],
       "layout": {
        "legend": {
         "title": {
          "text": "variable"
         },
         "tracegroupgap": 0
        },
        "template": {
         "data": {
          "bar": [
           {
            "error_x": {
             "color": "#2a3f5f"
            },
            "error_y": {
             "color": "#2a3f5f"
            },
            "marker": {
             "line": {
              "color": "#E5ECF6",
              "width": 0.5
             },
             "pattern": {
              "fillmode": "overlay",
              "size": 10,
              "solidity": 0.2
             }
            },
            "type": "bar"
           }
          ],
          "barpolar": [
           {
            "marker": {
             "line": {
              "color": "#E5ECF6",
              "width": 0.5
             },
             "pattern": {
              "fillmode": "overlay",
              "size": 10,
              "solidity": 0.2
             }
            },
            "type": "barpolar"
           }
          ],
          "carpet": [
           {
            "aaxis": {
             "endlinecolor": "#2a3f5f",
             "gridcolor": "white",
             "linecolor": "white",
             "minorgridcolor": "white",
             "startlinecolor": "#2a3f5f"
            },
            "baxis": {
             "endlinecolor": "#2a3f5f",
             "gridcolor": "white",
             "linecolor": "white",
             "minorgridcolor": "white",
             "startlinecolor": "#2a3f5f"
            },
            "type": "carpet"
           }
          ],
          "choropleth": [
           {
            "colorbar": {
             "outlinewidth": 0,
             "ticks": ""
            },
            "type": "choropleth"
           }
          ],
          "contour": [
           {
            "colorbar": {
             "outlinewidth": 0,
             "ticks": ""
            },
            "colorscale": [
             [
              0,
              "#0d0887"
             ],
             [
              0.1111111111111111,
              "#46039f"
             ],
             [
              0.2222222222222222,
              "#7201a8"
             ],
             [
              0.3333333333333333,
              "#9c179e"
             ],
             [
              0.4444444444444444,
              "#bd3786"
             ],
             [
              0.5555555555555556,
              "#d8576b"
             ],
             [
              0.6666666666666666,
              "#ed7953"
             ],
             [
              0.7777777777777778,
              "#fb9f3a"
             ],
             [
              0.8888888888888888,
              "#fdca26"
             ],
             [
              1,
              "#f0f921"
             ]
            ],
            "type": "contour"
           }
          ],
          "contourcarpet": [
           {
            "colorbar": {
             "outlinewidth": 0,
             "ticks": ""
            },
            "type": "contourcarpet"
           }
          ],
          "heatmap": [
           {
            "colorbar": {
             "outlinewidth": 0,
             "ticks": ""
            },
            "colorscale": [
             [
              0,
              "#0d0887"
             ],
             [
              0.1111111111111111,
              "#46039f"
             ],
             [
              0.2222222222222222,
              "#7201a8"
             ],
             [
              0.3333333333333333,
              "#9c179e"
             ],
             [
              0.4444444444444444,
              "#bd3786"
             ],
             [
              0.5555555555555556,
              "#d8576b"
             ],
             [
              0.6666666666666666,
              "#ed7953"
             ],
             [
              0.7777777777777778,
              "#fb9f3a"
             ],
             [
              0.8888888888888888,
              "#fdca26"
             ],
             [
              1,
              "#f0f921"
             ]
            ],
            "type": "heatmap"
           }
          ],
          "heatmapgl": [
           {
            "colorbar": {
             "outlinewidth": 0,
             "ticks": ""
            },
            "colorscale": [
             [
              0,
              "#0d0887"
             ],
             [
              0.1111111111111111,
              "#46039f"
             ],
             [
              0.2222222222222222,
              "#7201a8"
             ],
             [
              0.3333333333333333,
              "#9c179e"
             ],
             [
              0.4444444444444444,
              "#bd3786"
             ],
             [
              0.5555555555555556,
              "#d8576b"
             ],
             [
              0.6666666666666666,
              "#ed7953"
             ],
             [
              0.7777777777777778,
              "#fb9f3a"
             ],
             [
              0.8888888888888888,
              "#fdca26"
             ],
             [
              1,
              "#f0f921"
             ]
            ],
            "type": "heatmapgl"
           }
          ],
          "histogram": [
           {
            "marker": {
             "pattern": {
              "fillmode": "overlay",
              "size": 10,
              "solidity": 0.2
             }
            },
            "type": "histogram"
           }
          ],
          "histogram2d": [
           {
            "colorbar": {
             "outlinewidth": 0,
             "ticks": ""
            },
            "colorscale": [
             [
              0,
              "#0d0887"
             ],
             [
              0.1111111111111111,
              "#46039f"
             ],
             [
              0.2222222222222222,
              "#7201a8"
             ],
             [
              0.3333333333333333,
              "#9c179e"
             ],
             [
              0.4444444444444444,
              "#bd3786"
             ],
             [
              0.5555555555555556,
              "#d8576b"
             ],
             [
              0.6666666666666666,
              "#ed7953"
             ],
             [
              0.7777777777777778,
              "#fb9f3a"
             ],
             [
              0.8888888888888888,
              "#fdca26"
             ],
             [
              1,
              "#f0f921"
             ]
            ],
            "type": "histogram2d"
           }
          ],
          "histogram2dcontour": [
           {
            "colorbar": {
             "outlinewidth": 0,
             "ticks": ""
            },
            "colorscale": [
             [
              0,
              "#0d0887"
             ],
             [
              0.1111111111111111,
              "#46039f"
             ],
             [
              0.2222222222222222,
              "#7201a8"
             ],
             [
              0.3333333333333333,
              "#9c179e"
             ],
             [
              0.4444444444444444,
              "#bd3786"
             ],
             [
              0.5555555555555556,
              "#d8576b"
             ],
             [
              0.6666666666666666,
              "#ed7953"
             ],
             [
              0.7777777777777778,
              "#fb9f3a"
             ],
             [
              0.8888888888888888,
              "#fdca26"
             ],
             [
              1,
              "#f0f921"
             ]
            ],
            "type": "histogram2dcontour"
           }
          ],
          "mesh3d": [
           {
            "colorbar": {
             "outlinewidth": 0,
             "ticks": ""
            },
            "type": "mesh3d"
           }
          ],
          "parcoords": [
           {
            "line": {
             "colorbar": {
              "outlinewidth": 0,
              "ticks": ""
             }
            },
            "type": "parcoords"
           }
          ],
          "pie": [
           {
            "automargin": true,
            "type": "pie"
           }
          ],
          "scatter": [
           {
            "fillpattern": {
             "fillmode": "overlay",
             "size": 10,
             "solidity": 0.2
            },
            "type": "scatter"
           }
          ],
          "scatter3d": [
           {
            "line": {
             "colorbar": {
              "outlinewidth": 0,
              "ticks": ""
             }
            },
            "marker": {
             "colorbar": {
              "outlinewidth": 0,
              "ticks": ""
             }
            },
            "type": "scatter3d"
           }
          ],
          "scattercarpet": [
           {
            "marker": {
             "colorbar": {
              "outlinewidth": 0,
              "ticks": ""
             }
            },
            "type": "scattercarpet"
           }
          ],
          "scattergeo": [
           {
            "marker": {
             "colorbar": {
              "outlinewidth": 0,
              "ticks": ""
             }
            },
            "type": "scattergeo"
           }
          ],
          "scattergl": [
           {
            "marker": {
             "colorbar": {
              "outlinewidth": 0,
              "ticks": ""
             }
            },
            "type": "scattergl"
           }
          ],
          "scattermapbox": [
           {
            "marker": {
             "colorbar": {
              "outlinewidth": 0,
              "ticks": ""
             }
            },
            "type": "scattermapbox"
           }
          ],
          "scatterpolar": [
           {
            "marker": {
             "colorbar": {
              "outlinewidth": 0,
              "ticks": ""
             }
            },
            "type": "scatterpolar"
           }
          ],
          "scatterpolargl": [
           {
            "marker": {
             "colorbar": {
              "outlinewidth": 0,
              "ticks": ""
             }
            },
            "type": "scatterpolargl"
           }
          ],
          "scatterternary": [
           {
            "marker": {
             "colorbar": {
              "outlinewidth": 0,
              "ticks": ""
             }
            },
            "type": "scatterternary"
           }
          ],
          "surface": [
           {
            "colorbar": {
             "outlinewidth": 0,
             "ticks": ""
            },
            "colorscale": [
             [
              0,
              "#0d0887"
             ],
             [
              0.1111111111111111,
              "#46039f"
             ],
             [
              0.2222222222222222,
              "#7201a8"
             ],
             [
              0.3333333333333333,
              "#9c179e"
             ],
             [
              0.4444444444444444,
              "#bd3786"
             ],
             [
              0.5555555555555556,
              "#d8576b"
             ],
             [
              0.6666666666666666,
              "#ed7953"
             ],
             [
              0.7777777777777778,
              "#fb9f3a"
             ],
             [
              0.8888888888888888,
              "#fdca26"
             ],
             [
              1,
              "#f0f921"
             ]
            ],
            "type": "surface"
           }
          ],
          "table": [
           {
            "cells": {
             "fill": {
              "color": "#EBF0F8"
             },
             "line": {
              "color": "white"
             }
            },
            "header": {
             "fill": {
              "color": "#C8D4E3"
             },
             "line": {
              "color": "white"
             }
            },
            "type": "table"
           }
          ]
         },
         "layout": {
          "annotationdefaults": {
           "arrowcolor": "#2a3f5f",
           "arrowhead": 0,
           "arrowwidth": 1
          },
          "autotypenumbers": "strict",
          "coloraxis": {
           "colorbar": {
            "outlinewidth": 0,
            "ticks": ""
           }
          },
          "colorscale": {
           "diverging": [
            [
             0,
             "#8e0152"
            ],
            [
             0.1,
             "#c51b7d"
            ],
            [
             0.2,
             "#de77ae"
            ],
            [
             0.3,
             "#f1b6da"
            ],
            [
             0.4,
             "#fde0ef"
            ],
            [
             0.5,
             "#f7f7f7"
            ],
            [
             0.6,
             "#e6f5d0"
            ],
            [
             0.7,
             "#b8e186"
            ],
            [
             0.8,
             "#7fbc41"
            ],
            [
             0.9,
             "#4d9221"
            ],
            [
             1,
             "#276419"
            ]
           ],
           "sequential": [
            [
             0,
             "#0d0887"
            ],
            [
             0.1111111111111111,
             "#46039f"
            ],
            [
             0.2222222222222222,
             "#7201a8"
            ],
            [
             0.3333333333333333,
             "#9c179e"
            ],
            [
             0.4444444444444444,
             "#bd3786"
            ],
            [
             0.5555555555555556,
             "#d8576b"
            ],
            [
             0.6666666666666666,
             "#ed7953"
            ],
            [
             0.7777777777777778,
             "#fb9f3a"
            ],
            [
             0.8888888888888888,
             "#fdca26"
            ],
            [
             1,
             "#f0f921"
            ]
           ],
           "sequentialminus": [
            [
             0,
             "#0d0887"
            ],
            [
             0.1111111111111111,
             "#46039f"
            ],
            [
             0.2222222222222222,
             "#7201a8"
            ],
            [
             0.3333333333333333,
             "#9c179e"
            ],
            [
             0.4444444444444444,
             "#bd3786"
            ],
            [
             0.5555555555555556,
             "#d8576b"
            ],
            [
             0.6666666666666666,
             "#ed7953"
            ],
            [
             0.7777777777777778,
             "#fb9f3a"
            ],
            [
             0.8888888888888888,
             "#fdca26"
            ],
            [
             1,
             "#f0f921"
            ]
           ]
          },
          "colorway": [
           "#636efa",
           "#EF553B",
           "#00cc96",
           "#ab63fa",
           "#FFA15A",
           "#19d3f3",
           "#FF6692",
           "#B6E880",
           "#FF97FF",
           "#FECB52"
          ],
          "font": {
           "color": "#2a3f5f"
          },
          "geo": {
           "bgcolor": "white",
           "lakecolor": "white",
           "landcolor": "#E5ECF6",
           "showlakes": true,
           "showland": true,
           "subunitcolor": "white"
          },
          "hoverlabel": {
           "align": "left"
          },
          "hovermode": "closest",
          "mapbox": {
           "style": "light"
          },
          "paper_bgcolor": "white",
          "plot_bgcolor": "#E5ECF6",
          "polar": {
           "angularaxis": {
            "gridcolor": "white",
            "linecolor": "white",
            "ticks": ""
           },
           "bgcolor": "#E5ECF6",
           "radialaxis": {
            "gridcolor": "white",
            "linecolor": "white",
            "ticks": ""
           }
          },
          "scene": {
           "xaxis": {
            "backgroundcolor": "#E5ECF6",
            "gridcolor": "white",
            "gridwidth": 2,
            "linecolor": "white",
            "showbackground": true,
            "ticks": "",
            "zerolinecolor": "white"
           },
           "yaxis": {
            "backgroundcolor": "#E5ECF6",
            "gridcolor": "white",
            "gridwidth": 2,
            "linecolor": "white",
            "showbackground": true,
            "ticks": "",
            "zerolinecolor": "white"
           },
           "zaxis": {
            "backgroundcolor": "#E5ECF6",
            "gridcolor": "white",
            "gridwidth": 2,
            "linecolor": "white",
            "showbackground": true,
            "ticks": "",
            "zerolinecolor": "white"
           }
          },
          "shapedefaults": {
           "line": {
            "color": "#2a3f5f"
           }
          },
          "ternary": {
           "aaxis": {
            "gridcolor": "white",
            "linecolor": "white",
            "ticks": ""
           },
           "baxis": {
            "gridcolor": "white",
            "linecolor": "white",
            "ticks": ""
           },
           "bgcolor": "#E5ECF6",
           "caxis": {
            "gridcolor": "white",
            "linecolor": "white",
            "ticks": ""
           }
          },
          "title": {
           "x": 0.05
          },
          "xaxis": {
           "automargin": true,
           "gridcolor": "white",
           "linecolor": "white",
           "ticks": "",
           "title": {
            "standoff": 15
           },
           "zerolinecolor": "white",
           "zerolinewidth": 2
          },
          "yaxis": {
           "automargin": true,
           "gridcolor": "white",
           "linecolor": "white",
           "ticks": "",
           "title": {
            "standoff": 15
           },
           "zerolinecolor": "white",
           "zerolinewidth": 2
          }
         }
        },
        "title": {
         "text": "SP500 NY session Backtest EMA Trendfollowing"
        },
        "xaxis": {
         "anchor": "y",
         "domain": [
          0,
          1
         ],
         "title": {
          "text": "time"
         }
        },
        "yaxis": {
         "anchor": "x",
         "domain": [
          0,
          1
         ],
         "title": {
          "text": "value"
         }
        }
       }
      }
     },
     "metadata": {},
     "output_type": "display_data"
    }
   ],
   "source": [
    "px.line(bars3, 'time', ['gross_profit', 'net_profit'], title=\"SP500 NY session Backtest EMA Trendfollowing\")\n"
   ]
  }
 ],
 "metadata": {
  "kernelspec": {
   "display_name": "metatrader-Cdlomroj-py3.10",
   "language": "python",
   "name": "python3"
  },
  "language_info": {
   "codemirror_mode": {
    "name": "ipython",
    "version": 3
   },
   "file_extension": ".py",
   "mimetype": "text/x-python",
   "name": "python",
   "nbconvert_exporter": "python",
   "pygments_lexer": "ipython3",
   "version": "3.10.0"
  }
 },
 "nbformat": 4,
 "nbformat_minor": 2
}
