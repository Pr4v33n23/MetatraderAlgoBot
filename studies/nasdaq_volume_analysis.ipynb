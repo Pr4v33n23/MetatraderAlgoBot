{
 "cells": [
  {
   "cell_type": "code",
   "execution_count": null,
   "metadata": {},
   "outputs": [],
   "source": [
    "from metatrader.utils.factory import MetatraderFactory\n",
    "metatrader = MetatraderFactory.get_metatrader()\n",
    "import pandas as pd\n",
    "from datetime import datetime\n",
    "import plotly.express as px\n",
    "import plotly.graph_objects as go\n",
    "import pytz\n",
    "\n",
    "mt5 = metatrader.connect()\n",
    "\n",
    "symbol = 'US100'\n",
    "timeframe = mt5.TIMEFRAME_M15\n",
    "utc_from = pytz.timezone(\"Etc/GMT-5\").localize(datetime(2023, 10, 27))\n",
    "\n",
    "bars = pd.DataFrame(mt5.copy_rates_from(symbol, timeframe, utc_from, 2000000))\n",
    "bars['time'] = pd.to_datetime(bars['time'], unit='s')\n",
    "\n",
    "bars"
   ]
  },
  {
   "cell_type": "code",
   "execution_count": null,
   "metadata": {},
   "outputs": [],
   "source": [
    "def get_hour(x):\n",
    "    return  x['time'].hour\n",
    "\n",
    "\n",
    "bars['hour_of_the_day'] = bars.apply(get_hour, axis=1)\n",
    "\n"
   ]
  },
  {
   "cell_type": "code",
   "execution_count": null,
   "metadata": {},
   "outputs": [],
   "source": [
    "hour_bars = bars.groupby(['hour_of_the_day'])[\"tick_volume\"].sum()\n",
    "\n",
    "hour_bars = hour_bars.iloc[1:]\n",
    "\n",
    "hour_bars"
   ]
  },
  {
   "cell_type": "code",
   "execution_count": null,
   "metadata": {},
   "outputs": [],
   "source": [
    "px.line(hour_bars)"
   ]
  },
  {
   "cell_type": "code",
   "execution_count": null,
   "metadata": {},
   "outputs": [],
   "source": []
  }
 ],
 "metadata": {
  "kernelspec": {
   "display_name": "metatrader-Cdlomroj-py3.10",
   "language": "python",
   "name": "python3"
  },
  "language_info": {
   "codemirror_mode": {
    "name": "ipython",
    "version": 3
   },
   "file_extension": ".py",
   "mimetype": "text/x-python",
   "name": "python",
   "nbconvert_exporter": "python",
   "pygments_lexer": "ipython3",
   "version": "3.10.0"
  }
 },
 "nbformat": 4,
 "nbformat_minor": 2
}
